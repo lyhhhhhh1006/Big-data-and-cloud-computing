{
 "cells": [
  {
   "cell_type": "markdown",
   "metadata": {},
   "source": [
    "## Assignment - Single Machine Parallelization"
   ]
  },
  {
   "cell_type": "markdown",
   "metadata": {},
   "source": [
    "In this assignment we will be investigating the Enron email corpus from the 2002 Federal Energy Regulatory Commission (FERB) investigation.  This corpus of emails is still used to train AI on topics related to corporate communication, as this is one of the few public datasets available. Though there are AI ethics questions if the data is used for language purposes without proper precautions. [Read this article](https://qz.com/work/1546565/the-emails-that-brought-down-enron-still-shape-our-daily-lives/) to learn more about the dataset and its implications for AI."
   ]
  },
  {
   "cell_type": "markdown",
   "metadata": {},
   "source": [
    "Start off by choosing the `ml.m5.xlarge` instance as your kernel. Then start conducting the lab."
   ]
  },
  {
   "cell_type": "markdown",
   "metadata": {},
   "source": [
    "---"
   ]
  },
  {
   "cell_type": "markdown",
   "metadata": {},
   "source": [
    "### Task 0: Download dataset and explore it"
   ]
  },
  {
   "cell_type": "markdown",
   "metadata": {
    "tags": []
   },
   "source": [
    "The research dataset is located here, maintained by Carnegie Mellon University, https://www.cs.cmu.edu/~enron/. Though due to its size we have created a smaller version on S3. Follow these steps to get the file:\n",
    "\n",
    "1. Copy the file from the class's public S3 bucket into your own S3 bucket. You must change the bucket name to yours with your net id. `aws s3 cp s3://bigdatateaching/enron/maildir.zip s3://[NET_ID]-labdata`"
   ]
  },
  {
   "cell_type": "code",
   "execution_count": 2,
   "metadata": {},
   "outputs": [
    {
     "name": "stdout",
     "output_type": "stream",
     "text": [
      "copy: s3://bigdatateaching/enron/maildir.zip to s3://anly502-fall-2022-yl1353/maildir.zip\n"
     ]
    }
   ],
   "source": [
    "!aws s3 cp s3://bigdatateaching/enron/maildir.zip s3://anly502-fall-2022-yl1353"
   ]
  },
  {
   "cell_type": "markdown",
   "metadata": {
    "tags": []
   },
   "source": [
    "2. Copy the file from your own S3 bucket to SageMaker. Use the boto3 package for this. This will place the `maildir` directory from the zip file into the tmp folder of your EC2."
   ]
  },
  {
   "cell_type": "code",
   "execution_count": 3,
   "metadata": {
    "tags": []
   },
   "outputs": [],
   "source": [
    "import boto3\n",
    "my_bucket = 'anly502-fall-2022-yl1353'\n",
    "my_file = 'maildir.zip'\n",
    "\n",
    "s3client = boto3.client('s3')\n",
    "s3client.download_file(my_bucket, my_file, '/tmp/maildir.zip')"
   ]
  },
  {
   "cell_type": "markdown",
   "metadata": {},
   "source": [
    "3. Run the following command in a new cell to unzip the directory. This could take a while, there are almost 80,000 files!! We are explicitly saving to the /tmp file share because it is part of your EC2. If you use your git repository to store the maildir zip or unpacked files, we would be here a while...."
   ]
  },
  {
   "cell_type": "code",
   "execution_count": 4,
   "metadata": {},
   "outputs": [],
   "source": [
    "!cd /tmp; unzip -q /tmp/maildir.zip"
   ]
  },
  {
   "cell_type": "markdown",
   "metadata": {},
   "source": [
    "The bullets below represent the file structure of interest from the Enron dataset. To confirm that you have unzipped and placed the data in the correct location, click on the links of files, e.g. `1_`, `2_`, etc., which will open the text files for you to explore. Notice that these are all raw text files."
   ]
  },
  {
   "cell_type": "markdown",
   "metadata": {},
   "source": [
    "* [maildir](./maildir)\n",
    " * [allen-p](./maildir/allen-p)\n",
    "   * [inbox](./maildir/allen-p/inbox)\n",
    "       * [1_](./maildir/allen-p/inbox/1_)\n",
    "       * [2_](./maildir/allen-p/inbox/2_)\n",
    "       * [3_](./maildir/allen-p/inbox/3_)\n",
    "       ...\n",
    "   * [sent_items](./maildir/allen-p/sent_items)\n",
    "       * [1_](./maildir/allen-p/sent_items/1_)\n",
    "       * [2_](./maildir/allen-p/sent_items/2_)\n",
    "       * [3_](./maildir/allen-p/sent_items/3_)\n",
    "       * etc...\n",
    "   * etc...\n",
    " * [arnold-j](./maildir/arnold-j)\n",
    "   * [inbox](./maildir/arnold-j/inbox)\n",
    "       * [1_](./maildir/arnold-j/inbox/1_)\n",
    "       * [2_](./maildir/arnold-j/inbox/2_)\n",
    "       * [3_](./maildir/arnold-j/inbox/3_)\n",
    "       * etc ...\n",
    "   * [sent_items](./maildir/arnold-j/sent_items)\n",
    "       * [1_](./maildir/arnold-j/sent_items/1_)\n",
    "       * [2_](./maildir/arnold-j/sent_items/2_)\n",
    "       * [3_](./maildir/arnold-j/sent_items/3_)\n",
    "       * etc...\n",
    "   * etc...\n",
    " * [arora-h](./maildir/arora-h)\n",
    "   * [inbox](./maildir/arora-h/inbox)\n",
    "       * [1_](./maildir/arora-h/inbox/1_)\n",
    "       * [2_](./maildir/arora-h/inbox/2_)\n",
    "       * [3_](./maildir/arora-h/inbox/3_)\n",
    "       * etc...\n",
    "   * [sent_items](./maildir/arora-h/sent_items)\n",
    "       * [1_](./maildir/arora-h/sent_items/1_)\n",
    "       * [2_](./maildir/arora-h/sent_items/2_)\n",
    "       * [3_](./maildir/arora-h/sent_items/3_)\n",
    "       * etc...\n",
    "   * etc...\n",
    " * etc... etc..."
   ]
  },
  {
   "cell_type": "markdown",
   "metadata": {},
   "source": [
    "---------------------------"
   ]
  },
  {
   "cell_type": "markdown",
   "metadata": {},
   "source": [
    "### Task #1: Collect all of the file paths of emails in the maildir (2 points)\n",
    "\n",
    "The output object will be called `list_emails` should contain 79,429 items and look similar to the following:\n",
    "```\n",
    "['/tmp/maildir/allen-p/inbox/10_',\n",
    " '/tmp/maildir/allen-p/inbox/11_',\n",
    " '/tmp/maildir/allen-p/inbox/12_',\n",
    " '/tmp/maildir/allen-p/inbox/13_',\n",
    " '/tmp/maildir/allen-p/inbox/14_',\n",
    " '/tmp/maildir/allen-p/inbox/15_',\n",
    " '/tmp/maildir/allen-p/inbox/16_',\n",
    " '/tmp/maildir/allen-p/inbox/17_',\n",
    " '/tmp/maildir/allen-p/inbox/18_',\n",
    " '/tmp/maildir/allen-p/inbox/19_',\n",
    " ...\n",
    " ]\n",
    "```\n",
    "\n",
    "The broad strokes to creating this list goes as follows:\n",
    "\n",
    "- use the command `os.listdir('/tmp/maildir')` to see the folders in the mail directory\n",
    "- then use the command `os.listdir('/tmp/maildir/allen-p')` to see the folder in Allen P's folder\n",
    "- then use the command `os.listdir('/tmp/maildir/allen-p/inbox')` to see the contents in Allen P's inbox and collect the full file paths\n",
    "- you need to also collect all the files in both the inbox and sent_items folders for Allen P, do not track emails from the other folders\n",
    "- next move onto Arnold J!\n",
    "- next move onto Arora H!\n",
    "- ....\n",
    "\n",
    "Light bulbs should start going off in your head at this point about ways to solve this problem. This is a repeated process that needs to happen many many times. A for loop is the simplest way to solve a repetitive task. **Use for loops** to collect all 79,429 file paths into a single list.\n",
    "\n",
    "**Hint:** look up `os.path.join()` or f-strings if you are having trouble creating the appropriate argument for the `os.listdir()` command"
   ]
  },
  {
   "cell_type": "markdown",
   "metadata": {},
   "source": [
    "In the following cell(s) produce the list of emails as directed and save the result to the object `list_email_paths`"
   ]
  },
  {
   "cell_type": "code",
   "execution_count": 5,
   "metadata": {},
   "outputs": [],
   "source": [
    "import os"
   ]
  },
  {
   "cell_type": "code",
   "execution_count": 13,
   "metadata": {},
   "outputs": [],
   "source": [
    "list_email_paths = []\n",
    "initialpath = '/tmp/maildir'\n",
    "for folder in os.listdir(initialpath):\n",
    "    for file in os.listdir(os.path.join(initialpath,folder)):\n",
    "        if (file == \"inbox\" or file == \"sent_items\"):\n",
    "            for inner_file in os.listdir(os.path.join(initialpath, folder, file)):\n",
    "                path = os.path.join(initialpath, folder, file, inner_file)\n",
    "                list_email_paths.append(path)"
   ]
  },
  {
   "cell_type": "markdown",
   "metadata": {},
   "source": [
    "In the following cell(s) print the first 10 items of the list as well as the length of the list"
   ]
  },
  {
   "cell_type": "code",
   "execution_count": 26,
   "metadata": {},
   "outputs": [
    {
     "data": {
      "text/plain": [
       "['/tmp/maildir/allen-p/inbox/.ipynb_checkpoints',\n",
       " '/tmp/maildir/allen-p/inbox/10_',\n",
       " '/tmp/maildir/allen-p/inbox/11_',\n",
       " '/tmp/maildir/allen-p/inbox/12_',\n",
       " '/tmp/maildir/allen-p/inbox/13_',\n",
       " '/tmp/maildir/allen-p/inbox/14_',\n",
       " '/tmp/maildir/allen-p/inbox/15_',\n",
       " '/tmp/maildir/allen-p/inbox/16_',\n",
       " '/tmp/maildir/allen-p/inbox/17_',\n",
       " '/tmp/maildir/allen-p/inbox/18_']"
      ]
     },
     "execution_count": 26,
     "metadata": {},
     "output_type": "execute_result"
    }
   ],
   "source": [
    "list_email_paths[:10]"
   ]
  },
  {
   "cell_type": "code",
   "execution_count": 27,
   "metadata": {},
   "outputs": [
    {
     "data": {
      "text/plain": [
       "79430"
      ]
     },
     "execution_count": 27,
     "metadata": {},
     "output_type": "execute_result"
    }
   ],
   "source": [
    "len(list_email_paths) #need to remove \".ipynb_checkpoints\""
   ]
  },
  {
   "cell_type": "code",
   "execution_count": 28,
   "metadata": {},
   "outputs": [
    {
     "data": {
      "text/plain": [
       "'/tmp/maildir/allen-p/inbox/.ipynb_checkpoints'"
      ]
     },
     "execution_count": 28,
     "metadata": {},
     "output_type": "execute_result"
    }
   ],
   "source": [
    "list_email_paths[0]"
   ]
  },
  {
   "cell_type": "code",
   "execution_count": 32,
   "metadata": {},
   "outputs": [],
   "source": [
    "string = '.ipynb_checkpoints'\n",
    "for i in range(len(list_email_paths)):\n",
    "    if string in list_email_paths[i]:\n",
    "        list_email_paths.pop(i)"
   ]
  },
  {
   "cell_type": "code",
   "execution_count": 33,
   "metadata": {},
   "outputs": [],
   "source": [
    "#check again\n",
    "for path in list_email_paths:\n",
    "    if '.ipynb' in path:\n",
    "        print(path)"
   ]
  },
  {
   "cell_type": "code",
   "execution_count": 34,
   "metadata": {},
   "outputs": [
    {
     "data": {
      "text/plain": [
       "79429"
      ]
     },
     "execution_count": 34,
     "metadata": {},
     "output_type": "execute_result"
    }
   ],
   "source": [
    "len(list_email_paths)"
   ]
  },
  {
   "cell_type": "markdown",
   "metadata": {},
   "source": [
    "--------------------"
   ]
  },
  {
   "cell_type": "markdown",
   "metadata": {},
   "source": [
    "### Task 2: Read in one text email and parse out relevant information using a function (2 points)"
   ]
  },
  {
   "cell_type": "markdown",
   "metadata": {},
   "source": [
    "Before you get to parallelizing, you need to build the function that will execute on every email in your list. The objective of this task is to build the function called `email_process()` which will take as an input the path of an email and output the following information in a dictionary:\n",
    "\n",
    "* Email of the sender\n",
    "* Email(s) of the recipient\n",
    "* Email timestamp\n",
    "* Email subject\n",
    "* Email body\n",
    "\n",
    "An example output from the function on the first email in Allen P's inbox looks like the following:\n",
    "\n",
    "```\n",
    "{'from': 'heather.dunton@enron.com',\n",
    " 'to': 'k..allen@enron.com',\n",
    " 'timestamp': 'Fri, 7 Dec 2001 10:06:42 -0800 (PST)'\n",
    " 'subject': 'RE: West Position',\n",
    " 'body': ' \\nPlease let me know if you still need Curve Shift.\\n\\nThanks,\\nHeather\\n -----Original Message-----\\nFrom: \\tAllen, Phillip K.  \\nSent:\\tFriday, December 07, 2001 5:14 AM\\nTo:\\tDunton, Heather\\nSubject:\\tRE: West Position\\n\\nHeather,\\n\\nDid you attach the file to this email?\\n\\n -----Original Message-----\\nFrom: \\tDunton, Heather  \\nSent:\\tWednesday, December 05, 2001 1:43 PM\\nTo:\\tAllen, Phillip K.; Belden, Tim\\nSubject:\\tFW: West Position\\n\\nAttached is the Delta position for 1/16, 1/30, 6/19, 7/13, 9/21\\n\\n\\n -----Original Message-----\\nFrom: \\tAllen, Phillip K.  \\nSent:\\tWednesday, December 05, 2001 6:41 AM\\nTo:\\tDunton, Heather\\nSubject:\\tRE: West Position\\n\\nHeather,\\n\\nThis is exactly what we need.  Would it possible to add the prior day for each of the dates below to the pivot table.  In order to validate the curve shift on the dates below we also need the prior days ending positions.\\n\\nThank you,\\n\\nPhillip Allen\\n\\n -----Original Message-----\\nFrom: \\tDunton, Heather  \\nSent:\\tTuesday, December 04, 2001 3:12 PM\\nTo:\\tBelden, Tim; Allen, Phillip K.\\nCc:\\tDriscoll, Michael M.\\nSubject:\\tWest Position\\n\\n\\nAttached is the Delta position for 1/18, 1/31, 6/20, 7/16, 9/24\\n\\n\\n\\n << File: west_delta_pos.xls >> \\n\\nLet me know if you have any questions.\\n\\n\\nHeather'\n",
    " }\n",
    "```\n",
    "\n",
    "To process the raw text file, we recommend that you use the `email.parser.Parser()` function. Read documentation on it [here](https://docs.python.org/3/library/email.parser.html).\n",
    "\n",
    "The to field will need some cleaning. Remove any carriage returns, tabs, or spaces from the to field. \n",
    "\n",
    "It's OK that the email body is really messy right now. A future task is to clean it up."
   ]
  },
  {
   "cell_type": "markdown",
   "metadata": {},
   "source": [
    "In the following cell(s) produce the function `email_process()`"
   ]
  },
  {
   "cell_type": "code",
   "execution_count": 35,
   "metadata": {},
   "outputs": [],
   "source": [
    "from email.parser import Parser"
   ]
  },
  {
   "cell_type": "code",
   "execution_count": 50,
   "metadata": {},
   "outputs": [],
   "source": [
    "def email_process(filename):\n",
    "    keywords = [\"from\", \"to\",\"timestamp\",\"subject\", \"body\"]\n",
    "    #create a dictionary to save outputs later\n",
    "    email_dict = dict.fromkeys(keywords)\n",
    "    \n",
    "    #create a parsing objest to process raw text file\n",
    "    parser = Parser()\n",
    "    with open(filename, encoding = 'latin-1') as f:\n",
    "        content = f.read()\n",
    "    raw_text = parser.parsestr(content)\n",
    "    \n",
    "    email_dict['from'] = raw_text['From']\n",
    "    email_dict['to'] = raw_text['To']\n",
    "    email_dict['timestamp'] = raw_text['Date']\n",
    "    email_dict['subject'] = raw_text['Subject']\n",
    "    email_dict['body'] = raw_text.get_payload()\n",
    "    \n",
    "    f.close()\n",
    "    return email_dict"
   ]
  },
  {
   "cell_type": "markdown",
   "metadata": {},
   "source": [
    "In the following cell, save a new object called `email_1` as the output for the file `maildir/allen-p/inbox/1_`"
   ]
  },
  {
   "cell_type": "code",
   "execution_count": 51,
   "metadata": {},
   "outputs": [],
   "source": [
    "email_1 = email_process('/tmp/maildir/allen-p/inbox/1_')"
   ]
  },
  {
   "cell_type": "code",
   "execution_count": 52,
   "metadata": {},
   "outputs": [
    {
     "data": {
      "text/plain": [
       "{'from': 'heather.dunton@enron.com',\n",
       " 'to': 'k..allen@enron.com',\n",
       " 'timestamp': 'Fri, 7 Dec 2001 10:06:42 -0800 (PST)',\n",
       " 'subject': 'RE: West Position',\n",
       " 'body': ' \\nPlease let me know if you still need Curve Shift.\\n\\nThanks,\\nHeather\\n -----Original Message-----\\nFrom: \\tAllen, Phillip K.  \\nSent:\\tFriday, December 07, 2001 5:14 AM\\nTo:\\tDunton, Heather\\nSubject:\\tRE: West Position\\n\\nHeather,\\n\\nDid you attach the file to this email?\\n\\n -----Original Message-----\\nFrom: \\tDunton, Heather  \\nSent:\\tWednesday, December 05, 2001 1:43 PM\\nTo:\\tAllen, Phillip K.; Belden, Tim\\nSubject:\\tFW: West Position\\n\\nAttached is the Delta position for 1/16, 1/30, 6/19, 7/13, 9/21\\n\\n\\n -----Original Message-----\\nFrom: \\tAllen, Phillip K.  \\nSent:\\tWednesday, December 05, 2001 6:41 AM\\nTo:\\tDunton, Heather\\nSubject:\\tRE: West Position\\n\\nHeather,\\n\\nThis is exactly what we need.  Would it possible to add the prior day for each of the dates below to the pivot table.  In order to validate the curve shift on the dates below we also need the prior days ending positions.\\n\\nThank you,\\n\\nPhillip Allen\\n\\n -----Original Message-----\\nFrom: \\tDunton, Heather  \\nSent:\\tTuesday, December 04, 2001 3:12 PM\\nTo:\\tBelden, Tim; Allen, Phillip K.\\nCc:\\tDriscoll, Michael M.\\nSubject:\\tWest Position\\n\\n\\nAttached is the Delta position for 1/18, 1/31, 6/20, 7/16, 9/24\\n\\n\\n\\n << File: west_delta_pos.xls >> \\n\\nLet me know if you have any questions.\\n\\n\\nHeather'}"
      ]
     },
     "execution_count": 52,
     "metadata": {},
     "output_type": "execute_result"
    }
   ],
   "source": [
    "email_1"
   ]
  },
  {
   "cell_type": "code",
   "execution_count": 57,
   "metadata": {},
   "outputs": [
    {
     "data": {
      "text/plain": [
       "('to', 'k..allen@enron.com')"
      ]
     },
     "execution_count": 57,
     "metadata": {},
     "output_type": "execute_result"
    }
   ],
   "source": [
    "list(email_1.items())[1]"
   ]
  },
  {
   "cell_type": "markdown",
   "metadata": {},
   "source": [
    "----------------"
   ]
  },
  {
   "cell_type": "markdown",
   "metadata": {},
   "source": [
    "### Task 3: Read in all emails using multiprocessing (3 points)"
   ]
  },
  {
   "cell_type": "markdown",
   "metadata": {},
   "source": [
    "There are two ways to implement multiprocessing on a list of data:\n",
    "\n",
    "1. **The vanilla approach to parallelization** involves getting a list of the items to process, then using the multiple worker processes to complete all the items in parallel like queue system. The list gets processes by workers until there are no items left.\n",
    "2. **The splitting approach to parallelization** involves getting a list of items to process, splitting that list into a number of sublists, then split each sublist to a worker. Each worker then processes the sublist in serial.\n",
    "\n",
    "For more background on these two ideas, check out this useful [medium post](https://medium.com/idealo-tech-blog/parallelisation-in-python-an-alternative-approach-b2749b49a1e)."
   ]
  },
  {
   "cell_type": "markdown",
   "metadata": {},
   "source": [
    "**If you are using a Windows machine (not in this lab)**, you will be unable to save your function in a cell and then run with multiprocesing. Instead, save two scripts `mail_functions_vanilla.py` and `mail_functions_split.py` with the functions needed for each approach. Import the module that you will execute in parallel by calling `import mail_functions_vanilla` and then calling a function within that module, just like you would any other module in python."
   ]
  },
  {
   "cell_type": "markdown",
   "metadata": {},
   "source": [
    "Use the `time` module to track the time taken for each approach. Note that you may have files that are corrupted and you will have to figure out how to handle them gracefully."
   ]
  },
  {
   "cell_type": "markdown",
   "metadata": {},
   "source": [
    "In the following cell(s), implement the vanilla approach to parallelization to process all emails using `pool.map()`. Save the output list to an object called `out_vanilla`."
   ]
  },
  {
   "cell_type": "code",
   "execution_count": 48,
   "metadata": {},
   "outputs": [],
   "source": [
    "import time\n",
    "import multiprocessing as mp\n",
    "from multiprocessing import Pool"
   ]
  },
  {
   "cell_type": "code",
   "execution_count": 54,
   "metadata": {},
   "outputs": [
    {
     "name": "stdout",
     "output_type": "stream",
     "text": [
      "total time 6.099192142486572\n",
      "time to set up pool 0.02265024185180664\n",
      "time to multiprocess 6.076471328735352\n"
     ]
    }
   ],
   "source": [
    "start = time.time()\n",
    "\n",
    "pool = mp.Pool(mp.cpu_count())\n",
    "\n",
    "t1 = time.time()\n",
    "out_vanilla = pool.map(email_process, list_email_paths)\n",
    "t2 = time.time()\n",
    "\n",
    "pool.close()\n",
    "\n",
    "end = time.time()\n",
    "\n",
    "print('total time',end - start)\n",
    "print('time to set up pool',t1 - start)\n",
    "print('time to multiprocess',t2 - t1)"
   ]
  },
  {
   "cell_type": "markdown",
   "metadata": {},
   "source": [
    "In the following cell(s), implement the splitting approach to parallelization to process all emails using `pool.map()`. Save the output list to an object called `out_split`."
   ]
  },
  {
   "cell_type": "code",
   "execution_count": 59,
   "metadata": {},
   "outputs": [],
   "source": [
    "import numpy as np\n",
    "NUM_WORKERS = mp.cpu_count()\n",
    "def splitter(list_paths, NUM_WORKERS):\n",
    "    list_list_paths = []\n",
    "    for i in np.array_split(list_paths, NUM_WORKERS): \n",
    "        list_list_paths.append(list(i))\n",
    "    return list_list_paths\n",
    "list_list_path = splitter(list_email_paths, NUM_WORKERS)        "
   ]
  },
  {
   "cell_type": "code",
   "execution_count": 60,
   "metadata": {},
   "outputs": [],
   "source": [
    "def email_process_sublist(list_paths):\n",
    "    email_sublist_dict = []\n",
    "    for i in list_paths:\n",
    "        email_sublist_dict.append(email_process(i))\n",
    "    return email_sublist_dict"
   ]
  },
  {
   "cell_type": "code",
   "execution_count": 94,
   "metadata": {},
   "outputs": [
    {
     "name": "stdout",
     "output_type": "stream",
     "text": [
      "total time 6.565039396286011\n",
      "time to set up pool 0.05916404724121094\n",
      "time to multiprocess 6.505750894546509\n"
     ]
    }
   ],
   "source": [
    "start = time.time()\n",
    "\n",
    "pool = mp.Pool(mp.cpu_count())\n",
    "\n",
    "t1 = time.time()\n",
    "out_split_sub = pool.map(email_process_sublist, list_list_path)\n",
    "t2 = time.time()\n",
    "\n",
    "pool.close()\n",
    "\n",
    "end = time.time()\n",
    "\n",
    "print('total time',end - start)\n",
    "print('time to set up pool',t1 - start)\n",
    "print('time to multiprocess',t2 - t1)"
   ]
  },
  {
   "cell_type": "markdown",
   "metadata": {},
   "source": [
    "In the following cell(s), confirm that the results from each method are the same. If they are not, then figure out how to make them the same."
   ]
  },
  {
   "cell_type": "code",
   "execution_count": 62,
   "metadata": {},
   "outputs": [
    {
     "data": {
      "text/plain": [
       "79429"
      ]
     },
     "execution_count": 62,
     "metadata": {},
     "output_type": "execute_result"
    }
   ],
   "source": [
    "len(out_vanilla)"
   ]
  },
  {
   "cell_type": "code",
   "execution_count": 95,
   "metadata": {},
   "outputs": [
    {
     "data": {
      "text/plain": [
       "79429"
      ]
     },
     "execution_count": 95,
     "metadata": {},
     "output_type": "execute_result"
    }
   ],
   "source": [
    "#len(out_split) #num of workers\n",
    "dict_1 = out_split_sub[0]\n",
    "dict_2 = out_split_sub[1]\n",
    "dict_3 = out_split_sub[2]\n",
    "dict_4 = out_split_sub[3]\n",
    "\n",
    "out_split = [*dict_1, *dict_2, *dict_3, *dict_4]\n",
    "len(out_split)"
   ]
  },
  {
   "cell_type": "markdown",
   "metadata": {},
   "source": [
    "In the following cell(s), convert the list `out_split` to a Pandas DataFrame and save it as `df_emails`"
   ]
  },
  {
   "cell_type": "code",
   "execution_count": 72,
   "metadata": {},
   "outputs": [],
   "source": [
    "import pandas as pd"
   ]
  },
  {
   "cell_type": "code",
   "execution_count": 79,
   "metadata": {},
   "outputs": [
    {
     "data": {
      "text/html": [
       "<div>\n",
       "<style scoped>\n",
       "    .dataframe tbody tr th:only-of-type {\n",
       "        vertical-align: middle;\n",
       "    }\n",
       "\n",
       "    .dataframe tbody tr th {\n",
       "        vertical-align: top;\n",
       "    }\n",
       "\n",
       "    .dataframe thead th {\n",
       "        text-align: right;\n",
       "    }\n",
       "</style>\n",
       "<table border=\"1\" class=\"dataframe\">\n",
       "  <thead>\n",
       "    <tr style=\"text-align: right;\">\n",
       "      <th></th>\n",
       "      <th>index</th>\n",
       "      <th>from</th>\n",
       "      <th>to</th>\n",
       "      <th>timestamp</th>\n",
       "      <th>subject</th>\n",
       "      <th>body</th>\n",
       "    </tr>\n",
       "  </thead>\n",
       "  <tbody>\n",
       "  </tbody>\n",
       "</table>\n",
       "</div>"
      ],
      "text/plain": [
       "Empty DataFrame\n",
       "Columns: [index, from, to, timestamp, subject, body]\n",
       "Index: []"
      ]
     },
     "execution_count": 79,
     "metadata": {},
     "output_type": "execute_result"
    }
   ],
   "source": [
    "df_emails = pd.DataFrame(columns = ['from','to','timestamp','subject','body'],dtype=object)\n",
    "df_emails.reset_index()"
   ]
  },
  {
   "cell_type": "code",
   "execution_count": 80,
   "metadata": {},
   "outputs": [],
   "source": [
    "for results in out_split:\n",
    "    df_emails = df_emails.append(results, ignore_index=True)"
   ]
  },
  {
   "cell_type": "code",
   "execution_count": 81,
   "metadata": {},
   "outputs": [
    {
     "data": {
      "text/html": [
       "<div>\n",
       "<style scoped>\n",
       "    .dataframe tbody tr th:only-of-type {\n",
       "        vertical-align: middle;\n",
       "    }\n",
       "\n",
       "    .dataframe tbody tr th {\n",
       "        vertical-align: top;\n",
       "    }\n",
       "\n",
       "    .dataframe thead th {\n",
       "        text-align: right;\n",
       "    }\n",
       "</style>\n",
       "<table border=\"1\" class=\"dataframe\">\n",
       "  <thead>\n",
       "    <tr style=\"text-align: right;\">\n",
       "      <th></th>\n",
       "      <th>from</th>\n",
       "      <th>to</th>\n",
       "      <th>timestamp</th>\n",
       "      <th>subject</th>\n",
       "      <th>body</th>\n",
       "    </tr>\n",
       "  </thead>\n",
       "  <tbody>\n",
       "    <tr>\n",
       "      <th>0</th>\n",
       "      <td>anchordesk_daily@anchordesk.zdlists.com</td>\n",
       "      <td>pallen@enron.com</td>\n",
       "      <td>Sun, 30 Dec 2001 22:49:42 -0800 (PST)</td>\n",
       "      <td>ANCHORDESK: Hope ahead: What I learned from 20...</td>\n",
       "      <td>\\n\\n_____________________DAVID COURSEY________...</td>\n",
       "    </tr>\n",
       "    <tr>\n",
       "      <th>1</th>\n",
       "      <td>subscriptions@intelligencepress.com</td>\n",
       "      <td>pallen@enron.com</td>\n",
       "      <td>Sun, 30 Dec 2001 23:42:30 -0800 (PST)</td>\n",
       "      <td>NGI Publications - Monday, December 31st 2001</td>\n",
       "      <td>Dear phillip,\\n\\n\\nThis e-mail is automated no...</td>\n",
       "    </tr>\n",
       "    <tr>\n",
       "      <th>2</th>\n",
       "      <td>prizemachine@feedback.iwon.com</td>\n",
       "      <td>pallen@enron.com</td>\n",
       "      <td>Mon, 31 Dec 2001 02:24:51 -0800 (PST)</td>\n",
       "      <td>Click. Spin. Chances to Win up to $10,000!</td>\n",
       "      <td>\\n[IMAGE] [IMAGE]   [IMAGE]   [IMAGE] $ 2,500 ...</td>\n",
       "    </tr>\n",
       "    <tr>\n",
       "      <th>3</th>\n",
       "      <td>louise.kitchen@enron.com</td>\n",
       "      <td>wes.colwell@enron.com, georgeanne.hodges@enron...</td>\n",
       "      <td>Mon, 31 Dec 2001 10:53:43 -0800 (PST)</td>\n",
       "      <td>NETCO</td>\n",
       "      <td>The New Year has arrived and we really to fina...</td>\n",
       "    </tr>\n",
       "    <tr>\n",
       "      <th>4</th>\n",
       "      <td>arsystem@mailman.enron.com</td>\n",
       "      <td>k..allen@enron.com</td>\n",
       "      <td>Mon, 31 Dec 2001 17:18:31 -0800 (PST)</td>\n",
       "      <td>Your Approval is Overdue: Access Request for m...</td>\n",
       "      <td>This request has been pending your approval fo...</td>\n",
       "    </tr>\n",
       "  </tbody>\n",
       "</table>\n",
       "</div>"
      ],
      "text/plain": [
       "                                      from  \\\n",
       "0  anchordesk_daily@anchordesk.zdlists.com   \n",
       "1      subscriptions@intelligencepress.com   \n",
       "2           prizemachine@feedback.iwon.com   \n",
       "3                 louise.kitchen@enron.com   \n",
       "4               arsystem@mailman.enron.com   \n",
       "\n",
       "                                                  to  \\\n",
       "0                                   pallen@enron.com   \n",
       "1                                   pallen@enron.com   \n",
       "2                                   pallen@enron.com   \n",
       "3  wes.colwell@enron.com, georgeanne.hodges@enron...   \n",
       "4                                 k..allen@enron.com   \n",
       "\n",
       "                               timestamp  \\\n",
       "0  Sun, 30 Dec 2001 22:49:42 -0800 (PST)   \n",
       "1  Sun, 30 Dec 2001 23:42:30 -0800 (PST)   \n",
       "2  Mon, 31 Dec 2001 02:24:51 -0800 (PST)   \n",
       "3  Mon, 31 Dec 2001 10:53:43 -0800 (PST)   \n",
       "4  Mon, 31 Dec 2001 17:18:31 -0800 (PST)   \n",
       "\n",
       "                                             subject  \\\n",
       "0  ANCHORDESK: Hope ahead: What I learned from 20...   \n",
       "1      NGI Publications - Monday, December 31st 2001   \n",
       "2         Click. Spin. Chances to Win up to $10,000!   \n",
       "3                                              NETCO   \n",
       "4  Your Approval is Overdue: Access Request for m...   \n",
       "\n",
       "                                                body  \n",
       "0  \\n\\n_____________________DAVID COURSEY________...  \n",
       "1  Dear phillip,\\n\\n\\nThis e-mail is automated no...  \n",
       "2  \\n[IMAGE] [IMAGE]   [IMAGE]   [IMAGE] $ 2,500 ...  \n",
       "3  The New Year has arrived and we really to fina...  \n",
       "4  This request has been pending your approval fo...  "
      ]
     },
     "execution_count": 81,
     "metadata": {},
     "output_type": "execute_result"
    }
   ],
   "source": [
    "df_emails.head()"
   ]
  },
  {
   "cell_type": "markdown",
   "metadata": {},
   "source": [
    "-------------"
   ]
  },
  {
   "cell_type": "markdown",
   "metadata": {},
   "source": [
    "### Task 4: Find the most frequent emailers in the dataset (3 points)"
   ]
  },
  {
   "cell_type": "markdown",
   "metadata": {},
   "source": [
    "We want to know which people sent or received the most emails in the dataset. Use your Pandas dataframe fields `to` and `from` to count the number of emails where an email address appears in the data.\n",
    "\n",
    "**You must use a dictionary** to keep track of the connections between email addresses. This will involve looping through each row and countering the dictionary up for each email instance found. For example, if we processed rows of the data and found that abc@enron.com sent one email to def@enron.com and ghi@enron.com, another sent email to jkl@enron.com as well as received an email from ghi@enron.com. This would result in a dictionary like so:\n",
    "\n",
    "```\n",
    "{\n",
    " 'abc@enron.com' : 3,\n",
    " 'ghi@enron.com' : 2,\n",
    " 'def@enron.com' : 1,\n",
    " 'jkl@enron.com' : 1\n",
    "}\n",
    "```\n",
    "\n",
    "Note that we are counting the email address whether it is the recipient or the sender of the email. It is certainly possible that both sides of the email conversation appears in the dataset, but it is OK to count that twice. The `To` field can contain multiple emails. You have to parse and count each email recipient separately!\n",
    "\n",
    "This process might require a lot of computing power to process every email! You must use `pool.map()` or another `multiprocessing` module function for the mapping part of the problem. The output will be a list of dictionaries like the example above. You will write a function to execute on a small chunk of the dataframe. After you have the list of dictionaries from each chunk, reduce them into a single dictionary.\n",
    "\n",
    "**BONUS:** 1 point - implement the same map and reduce operations leveraging pandas vectorized operations and groupby-summarize functions.\n",
    "\n",
    "\n",
    "**Hint:** break your dataframe into a list of smaller dataframes, and use that list to pass through `pool.map()`"
   ]
  },
  {
   "cell_type": "markdown",
   "metadata": {},
   "source": [
    "Use the following cell(s) to answer this question:"
   ]
  },
  {
   "cell_type": "code",
   "execution_count": 87,
   "metadata": {},
   "outputs": [],
   "source": [
    "#check data type\n",
    "#type(df_emails['to'][1])\n",
    "df_emails['to'] = df_emails['to'].astype(str)"
   ]
  },
  {
   "cell_type": "code",
   "execution_count": 88,
   "metadata": {},
   "outputs": [],
   "source": [
    "emailadd_list = []\n",
    "\n",
    "for s in df_emails['from']:\n",
    "    emailadd_list.append(s)\n",
    "\n",
    "for r in df_emails['to']: \n",
    "    r_list = r.split(\",\")\n",
    "    for to_add in r_list:\n",
    "        emailadd_list.append(to_add)"
   ]
  },
  {
   "cell_type": "code",
   "execution_count": 89,
   "metadata": {},
   "outputs": [
    {
     "data": {
      "text/plain": [
       "['anchordesk_daily@anchordesk.zdlists.com',\n",
       " 'subscriptions@intelligencepress.com',\n",
       " 'prizemachine@feedback.iwon.com',\n",
       " 'louise.kitchen@enron.com',\n",
       " 'arsystem@mailman.enron.com',\n",
       " 'anchordesk_daily@anchordesk.zdlists.com',\n",
       " 'exclusive_offers@sportsline.com',\n",
       " 'subscriptions@intelligencepress.com',\n",
       " 'subscriptions@intelligencepress.com',\n",
       " 'arsystem@mailman.enron.com']"
      ]
     },
     "execution_count": 89,
     "metadata": {},
     "output_type": "execute_result"
    }
   ],
   "source": [
    "emailadd_list[:10]"
   ]
  },
  {
   "cell_type": "code",
   "execution_count": 96,
   "metadata": {},
   "outputs": [],
   "source": [
    "#remove nan value\n",
    "emailadd_list = [x for x in emailadd_list if x != 'nan']"
   ]
  },
  {
   "cell_type": "code",
   "execution_count": 102,
   "metadata": {},
   "outputs": [],
   "source": [
    "## Removing none values\n",
    "for add in emailadd_list:\n",
    "    if (add == 'None'):\n",
    "        emailadd_list.remove(add)"
   ]
  },
  {
   "cell_type": "code",
   "execution_count": 104,
   "metadata": {},
   "outputs": [
    {
     "data": {
      "text/plain": [
       "[('jeff.dasovich@enron.com', 2115),\n",
       " ('no.address@enron.com', 2054),\n",
       " ('d..steffes@enron.com', 1745),\n",
       " ('chris.germany@enron.com', 1609),\n",
       " ('louise.kitchen@enron.com', 1509),\n",
       " ('pete.davis@enron.com', 1448),\n",
       " ('j.kaminski@enron.com', 1441),\n",
       " ('gerald.nemec@enron.com', 1435),\n",
       " ('kimberly.watson@enron.com', 1326),\n",
       " ('sara.shackleton@enron.com', 1287)]"
      ]
     },
     "execution_count": 104,
     "metadata": {},
     "output_type": "execute_result"
    }
   ],
   "source": [
    "#parse and count each recipient\n",
    "from collections import Counter\n",
    "sorted_emailadd = Counter(emailadd_list).most_common()\n",
    "sorted_emailadd[:10]"
   ]
  },
  {
   "cell_type": "code",
   "execution_count": 121,
   "metadata": {},
   "outputs": [
    {
     "data": {
      "text/plain": [
       "Counter({'tgraham@tinsleygroup.com': 1,\n",
       "         'e.murrell@enron.com': 1,\n",
       "         'jeff.johnson@enron.com': 1,\n",
       "         'greg.woulfe@enron.com': 1,\n",
       "         'hector.mcloughlin@enron.com': 1,\n",
       "         'jenny.rub@enron.com': 2,\n",
       "         'david.port@enron.com': 1,\n",
       "         'shona.wilson@enron.com': 3,\n",
       "         'mike.jordan@enron.com': 1,\n",
       "         'tina.spiller@enron.com': 1,\n",
       "         'm.hall@enron.com': 1,\n",
       "         'marla.barnard@enron.com': 1,\n",
       "         'kenneth.thibodeaux@enron.com': 2,\n",
       "         'christina.valdez@enron.com': 1,\n",
       "         'rsuperty@yahoo.com': 1,\n",
       "         'courtney.votaw@enron.com': 1,\n",
       "         'beth.apollo@enron.com': 1,\n",
       "         'john.allison@enron.com': 1,\n",
       "         'w..white@enron.com': 2,\n",
       "         'mark.pickering@enron.com': 1,\n",
       "         'c..gossett@enron.com': 1,\n",
       "         'louise.kitchen@enron.com': 1,\n",
       "         'jeff.bartlett@enron.com': 1,\n",
       "         'sally.beck@enron.com': 482,\n",
       "         'chairman.office@enron.com': 1,\n",
       "         '40enron@enron.com': 13,\n",
       "         'jae.black@enron.com': 3,\n",
       "         'rika.imai@enron.com': 1,\n",
       "         'becky.young@enron.com': 1,\n",
       "         'rob.wheeler@enron.com': 1,\n",
       "         'susan.lindberg@enron.com': 1,\n",
       "         'confirmit@enron.com': 1,\n",
       "         'markg@amerexenergy.com': 1,\n",
       "         'daniel.diamond@enron.com': 1,\n",
       "         'rosalinda.zermeno@enron.com': 1,\n",
       "         'lloyd.will@enron.com': 1,\n",
       "         'reports@reedwasden.com': 1})"
      ]
     },
     "execution_count": 121,
     "metadata": {},
     "output_type": "execute_result"
    }
   ],
   "source": [
    "#execute a smaller chunk\n",
    "\n",
    "new_emailadd_list=np.array_split(emailadd_list,1000)\n",
    "\n",
    "pool = mp.Pool(mp.cpu_count())\n",
    "out_small = pool.map(Counter, new_emailadd_list)\n",
    "pool.close()\n",
    "\n",
    "out_small[6]"
   ]
  },
  {
   "cell_type": "code",
   "execution_count": 122,
   "metadata": {},
   "outputs": [],
   "source": [
    "#data cleaning for top email address\n",
    "key_add = 'jeff.dasovich@enron.com'\n",
    "for i in range(0,len(emailadd_list)):\n",
    "    if key_add in emailadd_list[i]:\n",
    "        emailadd_list[i] = key_add"
   ]
  },
  {
   "cell_type": "markdown",
   "metadata": {},
   "source": [
    "In the following cell, save a dictionary with only the 20 email addresses with the most emails to the object `dict_top_addresses_sent`\n",
    "\n",
    "**Hint:** The top email address should be `'jeff.dasovich@enron.com'` with 2,624 emails (though a slightly different number if OK)"
   ]
  },
  {
   "cell_type": "code",
   "execution_count": 123,
   "metadata": {},
   "outputs": [],
   "source": [
    "dict_top_addresses_sent = Counter(emailadd_list).most_common()[:20]"
   ]
  },
  {
   "cell_type": "code",
   "execution_count": 124,
   "metadata": {},
   "outputs": [
    {
     "data": {
      "text/plain": [
       "[('jeff.dasovich@enron.com', 2624),\n",
       " ('no.address@enron.com', 2054),\n",
       " ('d..steffes@enron.com', 1745),\n",
       " ('chris.germany@enron.com', 1609),\n",
       " ('louise.kitchen@enron.com', 1509),\n",
       " ('pete.davis@enron.com', 1448),\n",
       " ('j.kaminski@enron.com', 1441),\n",
       " ('gerald.nemec@enron.com', 1435),\n",
       " ('kimberly.watson@enron.com', 1326),\n",
       " ('sara.shackleton@enron.com', 1287),\n",
       " ('40enron@enron.com', 1247),\n",
       " ('lynn.blair@enron.com', 1121),\n",
       " ('john.arnold@enron.com', 1085),\n",
       " ('marie.heard@enron.com', 1083),\n",
       " ('m..presto@enron.com', 940),\n",
       " ('rod.hayslett@enron.com', 930),\n",
       " ('barry.tycholiz@enron.com', 899),\n",
       " ('houston <.ward@enron.com>', 893),\n",
       " ('joe.parks@enron.com', 877),\n",
       " ('sally.beck@enron.com', 869)]"
      ]
     },
     "execution_count": 124,
     "metadata": {},
     "output_type": "execute_result"
    }
   ],
   "source": [
    "dict_top_addresses_sent"
   ]
  },
  {
   "cell_type": "markdown",
   "metadata": {},
   "source": [
    "---------------"
   ]
  },
  {
   "cell_type": "markdown",
   "metadata": {},
   "source": [
    "### Final Task: Run the following cell so your outputs can be checked for accuracy - this is a requirement"
   ]
  },
  {
   "cell_type": "markdown",
   "metadata": {},
   "source": [
    "## **Save your analytics results to a json object - then add, commit, and push your notebook and json to GitHub!**"
   ]
  },
  {
   "cell_type": "code",
   "execution_count": 125,
   "metadata": {},
   "outputs": [],
   "source": [
    "import json\n",
    "grading_dict = {'len_paths' : len(list_email_paths),\n",
    " 'email_1' : str(email_1),\n",
    " 'vanilla_split_match' : str(out_vanilla == out_split),\n",
    " 'df_emails' : df_emails.head(10).to_string(),\n",
    " 'dict_top_email_addresses' : str(dict_top_addresses_sent)\n",
    " }\n",
    "\n",
    "json.dump(grading_dict, fp = open('soln.json','w'))"
   ]
  },
  {
   "cell_type": "code",
   "execution_count": null,
   "metadata": {},
   "outputs": [],
   "source": []
  }
 ],
 "metadata": {
  "instance_type": "ml.g4dn.xlarge",
  "kernelspec": {
   "display_name": "Python 3 (Data Science)",
   "language": "python",
   "name": "python3__SAGEMAKER_INTERNAL__arn:aws:sagemaker:us-east-1:081325390199:image/datascience-1.0"
  },
  "language_info": {
   "codemirror_mode": {
    "name": "ipython",
    "version": 3
   },
   "file_extension": ".py",
   "mimetype": "text/x-python",
   "name": "python",
   "nbconvert_exporter": "python",
   "pygments_lexer": "ipython3",
   "version": "3.7.10"
  }
 },
 "nbformat": 4,
 "nbformat_minor": 4
}
