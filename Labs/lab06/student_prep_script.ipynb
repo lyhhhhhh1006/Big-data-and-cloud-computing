{
 "cells": [
  {
   "cell_type": "code",
   "execution_count": 1,
   "id": "627ca662-1f28-43b1-a956-0c2c7f07e3d9",
   "metadata": {},
   "outputs": [],
   "source": [
    "import os\n",
    "import json"
   ]
  },
  {
   "cell_type": "code",
   "execution_count": 2,
   "id": "6c7d9b71-a7a3-41d7-afdb-8fd0909591ef",
   "metadata": {},
   "outputs": [],
   "source": [
    "for file_i in [x for x in os.listdir() if x.find('soln.ipynb') != -1]:\n",
    "    json_ipynb = json.load(open(file_i,'r'))\n",
    "    cells_out = []\n",
    "    for cell_i in json_ipynb['cells']:\n",
    "        \n",
    "        if cell_i['cell_type'] == 'code':\n",
    "            cell_i['execution_count'] = None\n",
    "            cell_i['outputs'] = []\n",
    "            \n",
    "            if len(cell_i['source']) == 0:\n",
    "                continue\n",
    "            elif cell_i['source'][0] == '#studentcell:keep\\n':\n",
    "                cell_i['source'].pop(0)\n",
    "            elif cell_i['source'][0] == '#studentcell:drop\\n':\n",
    "                continue\n",
    "            else:\n",
    "                cell_i['source'] = []\n",
    "                \n",
    "        cells_out.append(cell_i)\n",
    "    \n",
    "    json_ipynb['cells'] = cells_out\n",
    "    \n",
    "    json.dump(json_ipynb, open(file_i.replace('-soln',''),'w'))"
   ]
  },
  {
   "cell_type": "code",
   "execution_count": null,
   "id": "8c33ea85-78e3-40cf-a175-40a850a11183",
   "metadata": {},
   "outputs": [],
   "source": []
  },
  {
   "cell_type": "code",
   "execution_count": null,
   "id": "baf59312-7709-4b70-b1da-d56307e8a817",
   "metadata": {},
   "outputs": [],
   "source": []
  }
 ],
 "metadata": {
  "kernelspec": {
   "display_name": "Python 3 (ipykernel)",
   "language": "python",
   "name": "python3"
  },
  "language_info": {
   "codemirror_mode": {
    "name": "ipython",
    "version": 3
   },
   "file_extension": ".py",
   "mimetype": "text/x-python",
   "name": "python",
   "nbconvert_exporter": "python",
   "pygments_lexer": "ipython3",
   "version": "3.7.11"
  }
 },
 "nbformat": 4,
 "nbformat_minor": 5
}
