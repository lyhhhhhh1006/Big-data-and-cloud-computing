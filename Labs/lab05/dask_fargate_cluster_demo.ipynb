{
 "cells": [
  {
   "cell_type": "markdown",
   "metadata": {},
   "source": [
    "# Distributed Dask Demo\n",
    "\n",
    "_**Connect to a Dask Cluster on Fargate and run analytics**_\n",
    "\n",
    "This notebook works well with the `conda_python3` on classic SageMaker Notebook Instances with the `ml.t2.large` instance.\n",
    "\n",
    "---\n",
    "\n",
    "This notebook assumes that a Dask cluster exists on AWS Fargate (see [this blog post](https://aws.amazon.com/blogs/machine-learning/machine-learning-on-distributed-dask-using-amazon-sagemaker-and-aws-fargate/)). It creates a Dask distributed client that connects to this cluster using service discovery, the it reads the NYC taxi dataset from an S3 bucket and illustrates how to perform basic analytics tasks and machine learning tasks. \n",
    "\n",
    "1. Then the cluster is scaled up to demonstrate that the time taken for the analytics task decreases as the cluster scales up. \n",
    "\n",
    "1. A ML task is demonstrated on the same dataset using Dask-ML. \n",
    "\n",
    "**It is important to stick to the exact same version of the dependencies as installed in this notebook and the Dask container version used by the Cloud Formation templates. Any changes to anything in this notebook or cloud formation scripts would most likely cause things to break and lead to a dependency hell.**\n",
    "\n",
    "---\n",
    "\n",
    "---\n",
    "\n",
    "## Contents\n",
    "\n",
    "1. [Prepare the environment](#Prepare-the-environment)\n",
    "1. [Connect to the Dask Cluster](#Connect-to-the-Dask-Cluster)\n",
    "1. [Scale out the cluster](#Scale-up-the-cluster)\n",
    "1. [Exploratory Data Analytics](#Exploratory-Data-Analytics)\n",
    "1. [Scale out the cluster even more to see if the operations become faster](#Scale-out-the-cluster-even-more-to-see-if-the-operations-become-faster)\n",
    "1. [Machine Learning with Dask](#Machine-Learning-with-Dask)\n",
    "1. [Scale in the cluster when done](#Scale-in-the-cluster-when-done)"
   ]
  },
  {
   "cell_type": "markdown",
   "metadata": {},
   "source": [
    "---\n",
    "\n",
    "## Prepare the environment\n",
    "\n",
    "Install the exact version of Python packages that work with the Dask cluster (based on the container used by the Dask cluster, see cloud formation templates)."
   ]
  },
  {
   "cell_type": "code",
   "execution_count": 1,
   "metadata": {},
   "outputs": [
    {
     "name": "stdout",
     "output_type": "stream",
     "text": [
      "Collecting dask==2.20.0\n",
      "  Downloading dask-2.20.0-py3-none-any.whl (826 kB)\n",
      "     |████████████████████████████████| 826 kB 22.2 MB/s            \n",
      "\u001b[?25hCollecting distributed==2.20.0\n",
      "  Downloading distributed-2.20.0-py3-none-any.whl (644 kB)\n",
      "     |████████████████████████████████| 644 kB 66.4 MB/s            \n",
      "\u001b[?25hCollecting s3fs==0.4.0\n",
      "  Downloading s3fs-0.4.0-py3-none-any.whl (18 kB)\n",
      "Requirement already satisfied: pyarrow==6.0.1 in /home/ec2-user/anaconda3/envs/python3/lib/python3.6/site-packages (6.0.1)\n",
      "Collecting dask-glm==0.2.0\n",
      "  Downloading dask_glm-0.2.0-py2.py3-none-any.whl (12 kB)\n",
      "Collecting cytoolz==0.8.2\n",
      "  Downloading cytoolz-0.8.2.tar.gz (386 kB)\n",
      "     |████████████████████████████████| 386 kB 69.6 MB/s            \n",
      "\u001b[?25h  Preparing metadata (setup.py) ... \u001b[?25ldone\n",
      "\u001b[?25hCollecting dask-ml==1.6.0\n",
      "  Downloading dask_ml-1.6.0-py3-none-any.whl (140 kB)\n",
      "     |████████████████████████████████| 140 kB 64.7 MB/s            \n",
      "\u001b[?25hRequirement already satisfied: pyyaml in /home/ec2-user/anaconda3/envs/python3/lib/python3.6/site-packages (from dask==2.20.0) (5.4.1)\n",
      "Requirement already satisfied: contextvars in /home/ec2-user/anaconda3/envs/python3/lib/python3.6/site-packages (from distributed==2.20.0) (2.4)\n",
      "Requirement already satisfied: click>=6.6 in /home/ec2-user/anaconda3/envs/python3/lib/python3.6/site-packages (from distributed==2.20.0) (7.1.2)\n",
      "Requirement already satisfied: tblib>=1.6.0 in /home/ec2-user/anaconda3/envs/python3/lib/python3.6/site-packages (from distributed==2.20.0) (1.6.0)\n",
      "Requirement already satisfied: psutil>=5.0 in /home/ec2-user/anaconda3/envs/python3/lib/python3.6/site-packages (from distributed==2.20.0) (5.8.0)\n",
      "Requirement already satisfied: setuptools in /home/ec2-user/anaconda3/envs/python3/lib/python3.6/site-packages (from distributed==2.20.0) (49.6.0.post20210108)\n",
      "Requirement already satisfied: toolz>=0.8.2 in /home/ec2-user/anaconda3/envs/python3/lib/python3.6/site-packages (from distributed==2.20.0) (0.11.1)\n",
      "Requirement already satisfied: zict>=0.1.3 in /home/ec2-user/anaconda3/envs/python3/lib/python3.6/site-packages (from distributed==2.20.0) (2.0.0)\n",
      "Requirement already satisfied: cloudpickle>=1.3.0 in /home/ec2-user/anaconda3/envs/python3/lib/python3.6/site-packages (from distributed==2.20.0) (1.6.0)\n",
      "Requirement already satisfied: tornado>=5 in /home/ec2-user/anaconda3/envs/python3/lib/python3.6/site-packages (from distributed==2.20.0) (6.1)\n",
      "Requirement already satisfied: msgpack>=0.6.0 in /home/ec2-user/anaconda3/envs/python3/lib/python3.6/site-packages (from distributed==2.20.0) (1.0.2)\n",
      "Requirement already satisfied: sortedcontainers!=2.0.0,!=2.0.1 in /home/ec2-user/anaconda3/envs/python3/lib/python3.6/site-packages (from distributed==2.20.0) (2.3.0)\n",
      "Requirement already satisfied: botocore>=1.12.91 in /home/ec2-user/anaconda3/envs/python3/lib/python3.6/site-packages (from s3fs==0.4.0) (1.26.10)\n",
      "Requirement already satisfied: boto3>=1.9.91 in /home/ec2-user/anaconda3/envs/python3/lib/python3.6/site-packages (from s3fs==0.4.0) (1.23.10)\n",
      "Requirement already satisfied: fsspec>=0.6.0 in /home/ec2-user/anaconda3/envs/python3/lib/python3.6/site-packages (from s3fs==0.4.0) (2021.4.0)\n",
      "Requirement already satisfied: numpy>=1.16.6 in /home/ec2-user/anaconda3/envs/python3/lib/python3.6/site-packages (from pyarrow==6.0.1) (1.19.5)\n",
      "Requirement already satisfied: multipledispatch>=0.4.9 in /home/ec2-user/anaconda3/envs/python3/lib/python3.6/site-packages (from dask-glm==0.2.0) (0.6.0)\n",
      "Requirement already satisfied: dask[array] in /home/ec2-user/anaconda3/envs/python3/lib/python3.6/site-packages (from dask-glm==0.2.0) (2021.3.0)\n",
      "Requirement already satisfied: scikit-learn>=0.18 in /home/ec2-user/anaconda3/envs/python3/lib/python3.6/site-packages (from dask-glm==0.2.0) (0.24.1)\n",
      "Requirement already satisfied: scipy>=0.18.1 in /home/ec2-user/anaconda3/envs/python3/lib/python3.6/site-packages (from dask-glm==0.2.0) (1.5.3)\n",
      "Requirement already satisfied: numba in /home/ec2-user/anaconda3/envs/python3/lib/python3.6/site-packages (from dask-ml==1.6.0) (0.52.0)\n",
      "Requirement already satisfied: pandas>=0.23.4 in /home/ec2-user/anaconda3/envs/python3/lib/python3.6/site-packages (from dask-ml==1.6.0) (1.1.5)\n",
      "Requirement already satisfied: packaging in /home/ec2-user/anaconda3/envs/python3/lib/python3.6/site-packages (from dask-ml==1.6.0) (21.3)\n",
      "Requirement already satisfied: s3transfer<0.6.0,>=0.5.0 in /home/ec2-user/anaconda3/envs/python3/lib/python3.6/site-packages (from boto3>=1.9.91->s3fs==0.4.0) (0.5.0)\n",
      "Requirement already satisfied: jmespath<2.0.0,>=0.7.1 in /home/ec2-user/anaconda3/envs/python3/lib/python3.6/site-packages (from boto3>=1.9.91->s3fs==0.4.0) (0.10.0)\n",
      "Requirement already satisfied: urllib3<1.27,>=1.25.4 in /home/ec2-user/anaconda3/envs/python3/lib/python3.6/site-packages (from botocore>=1.12.91->s3fs==0.4.0) (1.26.8)\n",
      "Requirement already satisfied: python-dateutil<3.0.0,>=2.1 in /home/ec2-user/anaconda3/envs/python3/lib/python3.6/site-packages (from botocore>=1.12.91->s3fs==0.4.0) (2.8.1)\n",
      "Collecting dask[array,dataframe]>=2.4.0\n",
      "  Downloading dask-2021.2.0-py3-none-any.whl (900 kB)\n",
      "     |████████████████████████████████| 900 kB 72.1 MB/s            \n",
      "\u001b[?25h  Downloading dask-2021.1.1-py3-none-any.whl (891 kB)\n",
      "     |████████████████████████████████| 891 kB 71.9 MB/s            \n",
      "\u001b[?25h  Downloading dask-2021.1.0-py3-none-any.whl (889 kB)\n",
      "     |████████████████████████████████| 889 kB 65.9 MB/s            \n",
      "\u001b[?25h  Downloading dask-2020.12.0-py3-none-any.whl (884 kB)\n",
      "     |████████████████████████████████| 884 kB 69.8 MB/s            \n",
      "\u001b[?25h  Downloading dask-2.30.0-py3-none-any.whl (848 kB)\n",
      "     |████████████████████████████████| 848 kB 61.8 MB/s            \n",
      "\u001b[?25h  Downloading dask-2.29.0-py3-none-any.whl (847 kB)\n",
      "     |████████████████████████████████| 847 kB 67.0 MB/s            \n",
      "\u001b[?25h  Downloading dask-2.28.0-py3-none-any.whl (848 kB)\n",
      "     |████████████████████████████████| 848 kB 66.8 MB/s            \n",
      "\u001b[?25h  Downloading dask-2.27.0-py3-none-any.whl (843 kB)\n",
      "     |████████████████████████████████| 843 kB 66.2 MB/s            \n",
      "\u001b[?25h  Downloading dask-2.26.0-py3-none-any.whl (843 kB)\n",
      "     |████████████████████████████████| 843 kB 37.6 MB/s            \n",
      "\u001b[?25h  Downloading dask-2.25.0-py3-none-any.whl (834 kB)\n",
      "     |████████████████████████████████| 834 kB 39.8 MB/s            \n",
      "\u001b[?25h  Downloading dask-2.24.0-py3-none-any.whl (834 kB)\n",
      "     |████████████████████████████████| 834 kB 14.0 MB/s            \n",
      "\u001b[?25h  Downloading dask-2.23.0-py3-none-any.whl (831 kB)\n",
      "     |████████████████████████████████| 831 kB 42.3 MB/s            \n",
      "\u001b[?25h  Downloading dask-2.22.0-py3-none-any.whl (828 kB)\n",
      "     |████████████████████████████████| 828 kB 29.4 MB/s            \n",
      "\u001b[?25h  Downloading dask-2.21.0-py3-none-any.whl (826 kB)\n",
      "     |████████████████████████████████| 826 kB 66.2 MB/s            \n",
      "\u001b[?25hRequirement already satisfied: partd>=0.3.10 in /home/ec2-user/anaconda3/envs/python3/lib/python3.6/site-packages (from dask==2.20.0) (1.1.0)\n",
      "Requirement already satisfied: six in /home/ec2-user/anaconda3/envs/python3/lib/python3.6/site-packages (from multipledispatch>=0.4.9->dask-glm==0.2.0) (1.15.0)\n",
      "Requirement already satisfied: pytz>=2017.2 in /home/ec2-user/anaconda3/envs/python3/lib/python3.6/site-packages (from pandas>=0.23.4->dask-ml==1.6.0) (2021.1)\n",
      "Requirement already satisfied: joblib>=0.11 in /home/ec2-user/anaconda3/envs/python3/lib/python3.6/site-packages (from scikit-learn>=0.18->dask-glm==0.2.0) (1.0.1)\n",
      "Requirement already satisfied: threadpoolctl>=2.0.0 in /home/ec2-user/anaconda3/envs/python3/lib/python3.6/site-packages (from scikit-learn>=0.18->dask-glm==0.2.0) (2.1.0)\n",
      "Requirement already satisfied: heapdict in /home/ec2-user/anaconda3/envs/python3/lib/python3.6/site-packages (from zict>=0.1.3->distributed==2.20.0) (1.0.1)\n",
      "Requirement already satisfied: immutables>=0.9 in /home/ec2-user/anaconda3/envs/python3/lib/python3.6/site-packages (from contextvars->distributed==2.20.0) (0.15)\n",
      "Requirement already satisfied: llvmlite<0.36,>=0.35.0 in /home/ec2-user/anaconda3/envs/python3/lib/python3.6/site-packages (from numba->dask-ml==1.6.0) (0.35.0)\n",
      "Requirement already satisfied: pyparsing!=3.0.5,>=2.0.2 in /home/ec2-user/anaconda3/envs/python3/lib/python3.6/site-packages (from packaging->dask-ml==1.6.0) (2.4.7)\n",
      "Requirement already satisfied: locket in /home/ec2-user/anaconda3/envs/python3/lib/python3.6/site-packages (from partd>=0.3.10->dask==2.20.0) (0.2.0)\n",
      "Building wheels for collected packages: cytoolz\n",
      "  Building wheel for cytoolz (setup.py) ... \u001b[?25ldone\n",
      "\u001b[?25h  Created wheel for cytoolz: filename=cytoolz-0.8.2-cp36-cp36m-linux_x86_64.whl size=1137568 sha256=79c5a2094b853da1caba201e521b72bc15a3b3e899597dde244d9b140453f5ab\n",
      "  Stored in directory: /home/ec2-user/.cache/pip/wheels/4b/7c/10/f1f9779b3b425e7c5b48216a004a2f487d16dc6c08327a42b8\n",
      "Successfully built cytoolz\n",
      "Installing collected packages: dask, distributed, dask-glm, s3fs, dask-ml, cytoolz\n",
      "  Attempting uninstall: dask\n",
      "    Found existing installation: dask 2021.3.0\n",
      "    Uninstalling dask-2021.3.0:\n",
      "      Successfully uninstalled dask-2021.3.0\n",
      "  Attempting uninstall: distributed\n",
      "    Found existing installation: distributed 2021.2.0\n",
      "    Uninstalling distributed-2021.2.0:\n",
      "      Successfully uninstalled distributed-2021.2.0\n",
      "  Attempting uninstall: s3fs\n",
      "    Found existing installation: s3fs 2021.4.0\n",
      "    Uninstalling s3fs-2021.4.0:\n",
      "      Successfully uninstalled s3fs-2021.4.0\n",
      "  Attempting uninstall: cytoolz\n",
      "    Found existing installation: cytoolz 0.11.0\n",
      "    Uninstalling cytoolz-0.11.0:\n",
      "      Successfully uninstalled cytoolz-0.11.0\n",
      "Successfully installed cytoolz-0.8.2 dask-2.20.0 dask-glm-0.2.0 dask-ml-1.6.0 distributed-2.20.0 s3fs-0.4.0\n"
     ]
    }
   ],
   "source": [
    "!pip install dask==2.20.0 distributed==2.20.0 s3fs==0.4.0 pyarrow==6.0.1 dask-glm==0.2.0 cytoolz==0.8.2 dask-ml==1.6.0"
   ]
  },
  {
   "cell_type": "code",
   "execution_count": 1,
   "metadata": {},
   "outputs": [],
   "source": [
    "import os\n",
    "import dask\n",
    "import s3fs\n",
    "import time\n",
    "import distributed\n",
    "import numpy as np\n",
    "import pandas as pd\n",
    "import dask.dataframe as dd\n",
    "import matplotlib.pyplot as plt\n",
    "from dask.distributed import Client\n",
    "from sklearn.metrics import mean_squared_error\n",
    "from dask_ml.model_selection import train_test_split"
   ]
  },
  {
   "cell_type": "markdown",
   "metadata": {},
   "source": [
    "---\n",
    "\n",
    "## Connect to the Dask Cluster\n",
    "\n",
    "With the right packages installed, now connect to the Dask cluster. Any Dask operations we do after that are automatically done at the cluster (rather than on this notebook).\n",
    "\n",
    "As created, the Dask cluster only has a single task (note we are not using the term node, recall the EMR cluster where we were talking in terms of driver note, core nodes and task nodes). Since this Dask cluster installation is on [AWS Fargate](https://aws.amazon.com/fargate/) which is a serverless compute engine so we dont have to worry about setting up EC2 instances, that is handled behind the scenes for us. We only need to specify the container that we need to run on the _Dask Scheduler_ and _Dask Workers_."
   ]
  },
  {
   "cell_type": "code",
   "execution_count": 2,
   "metadata": {},
   "outputs": [
    {
     "name": "stderr",
     "output_type": "stream",
     "text": [
      "/home/ec2-user/anaconda3/envs/python3/lib/python3.6/site-packages/distributed/client.py:1130: VersionMismatchWarning: Mismatched versions found\n",
      "\n",
      "dask\n",
      "+-----------------------+---------+\n",
      "|                       | version |\n",
      "+-----------------------+---------+\n",
      "| client                | 2.20.0  |\n",
      "| scheduler             | 2.14.0  |\n",
      "| tcp://11.0.3.202:9000 | 2.14.0  |\n",
      "+-----------------------+---------+\n",
      "\n",
      "distributed\n",
      "+-----------------------+---------+\n",
      "|                       | version |\n",
      "+-----------------------+---------+\n",
      "| client                | 2.20.0  |\n",
      "| scheduler             | 2.14.0  |\n",
      "| tcp://11.0.3.202:9000 | 2.14.0  |\n",
      "+-----------------------+---------+\n",
      "\n",
      "msgpack\n",
      "+-----------------------+---------+\n",
      "|                       | version |\n",
      "+-----------------------+---------+\n",
      "| client                | 1.0.2   |\n",
      "| scheduler             | 1.0.0   |\n",
      "| tcp://11.0.3.202:9000 | 1.0.0   |\n",
      "+-----------------------+---------+\n",
      "\n",
      "numpy\n",
      "+-----------------------+---------+\n",
      "|                       | version |\n",
      "+-----------------------+---------+\n",
      "| client                | 1.19.5  |\n",
      "| scheduler             | 1.19.1  |\n",
      "| tcp://11.0.3.202:9000 | 1.19.1  |\n",
      "+-----------------------+---------+\n",
      "\n",
      "python\n",
      "+-----------------------+----------------+\n",
      "|                       | version        |\n",
      "+-----------------------+----------------+\n",
      "| client                | 3.6.13.final.0 |\n",
      "| scheduler             | 3.6.10.final.0 |\n",
      "| tcp://11.0.3.202:9000 | 3.6.10.final.0 |\n",
      "+-----------------------+----------------+\n",
      "\n",
      "toolz\n",
      "+-----------------------+---------+\n",
      "|                       | version |\n",
      "+-----------------------+---------+\n",
      "| client                | 0.11.1  |\n",
      "| scheduler             | 0.10.0  |\n",
      "| tcp://11.0.3.202:9000 | 0.10.0  |\n",
      "+-----------------------+---------+\n",
      "\n",
      "tornado\n",
      "+-----------------------+---------+\n",
      "|                       | version |\n",
      "+-----------------------+---------+\n",
      "| client                | 6.1     |\n",
      "| scheduler             | 6.0.4   |\n",
      "| tcp://11.0.3.202:9000 | 6.0.4   |\n",
      "+-----------------------+---------+\n",
      "  warnings.warn(version_module.VersionMismatchWarning(msg[0][\"warning\"]))\n"
     ]
    }
   ],
   "source": [
    "# enable this client for fargate distributed cluster testing\n",
    "client = Client('Dask-Scheduler.local-dask:8786')"
   ]
  },
  {
   "cell_type": "markdown",
   "metadata": {},
   "source": [
    "The Dask cluster is also accessible via a web portal (see instructions in the blog post). For this cluster the web portal is accessible at [http://dask-loadb-1pyknky9jddwq-9a111e1ac4b115dd.elb.us-east-1.amazonaws.com/status](http://dask-loadb-1pyknky9jddwq-9a111e1ac4b115dd.elb.us-east-1.amazonaws.com/status).\n",
    "\n",
    "![](./img/dask-ui-1.png)"
   ]
  },
  {
   "cell_type": "markdown",
   "metadata": {},
   "source": [
    "---\n",
    "\n",
    "# Scale out the cluster\n",
    "\n",
    "Before we can use the cluster we need to scale it up to add some compute power to it. The cloud formation template specify the cluster task nodes to have 2 vCPUs and 4 GB of RAM."
   ]
  },
  {
   "cell_type": "code",
   "execution_count": 5,
   "metadata": {},
   "outputs": [
    {
     "name": "stdout",
     "output_type": "stream",
     "text": [
      "{\n",
      "    \"service\": {\n",
      "        \"serviceArn\": \"arn:aws:ecs:us-east-1:015469603702:service/Fargate-Dask-Cluster/Dask-Workers\",\n",
      "        \"serviceName\": \"Dask-Workers\",\n",
      "        \"clusterArn\": \"arn:aws:ecs:us-east-1:015469603702:cluster/Fargate-Dask-Cluster\",\n",
      "        \"loadBalancers\": [],\n",
      "        \"serviceRegistries\": [\n",
      "            {\n",
      "                \"registryArn\": \"arn:aws:servicediscovery:us-east-1:015469603702:service/srv-kwhqanurpvkf7bwr\"\n",
      "            }\n",
      "        ],\n",
      "        \"status\": \"ACTIVE\",\n",
      "        \"desiredCount\": 6,\n",
      "        \"runningCount\": 1,\n",
      "        \"pendingCount\": 0,\n",
      "        \"launchType\": \"FARGATE\",\n",
      "        \"platformVersion\": \"LATEST\",\n",
      "        \"platformFamily\": \"Linux\",\n",
      "        \"taskDefinition\": \"arn:aws:ecs:us-east-1:015469603702:task-definition/cloudformation-dask-workers-v1:7\",\n",
      "        \"deploymentConfiguration\": {\n",
      "            \"deploymentCircuitBreaker\": {\n",
      "                \"enable\": false,\n",
      "                \"rollback\": false\n",
      "            },\n",
      "            \"maximumPercent\": 200,\n",
      "            \"minimumHealthyPercent\": 100\n",
      "        },\n",
      "        \"deployments\": [\n",
      "            {\n",
      "                \"id\": \"ecs-svc/2963306468352275244\",\n",
      "                \"status\": \"PRIMARY\",\n",
      "                \"taskDefinition\": \"arn:aws:ecs:us-east-1:015469603702:task-definition/cloudformation-dask-workers-v1:7\",\n",
      "                \"desiredCount\": 6,\n",
      "                \"pendingCount\": 0,\n",
      "                \"runningCount\": 1,\n",
      "                \"failedTasks\": 0,\n",
      "                \"createdAt\": 1664048111.239,\n",
      "                \"updatedAt\": 1664048262.721,\n",
      "                \"launchType\": \"FARGATE\",\n",
      "                \"platformVersion\": \"1.4.0\",\n",
      "                \"platformFamily\": \"Linux\",\n",
      "                \"networkConfiguration\": {\n",
      "                    \"awsvpcConfiguration\": {\n",
      "                        \"subnets\": [\n",
      "                            \"subnet-0475c6cf7ec265cfe\"\n",
      "                        ],\n",
      "                        \"securityGroups\": [\n",
      "                            \"sg-0864a0ad6ee8a68f0\"\n",
      "                        ],\n",
      "                        \"assignPublicIp\": \"ENABLED\"\n",
      "                    }\n",
      "                },\n",
      "                \"rolloutState\": \"COMPLETED\",\n",
      "                \"rolloutStateReason\": \"ECS deployment ecs-svc/2963306468352275244 completed.\"\n",
      "            }\n",
      "        ],\n",
      "        \"roleArn\": \"arn:aws:iam::015469603702:role/aws-service-role/ecs.amazonaws.com/AWSServiceRoleForECS\",\n",
      "        \"events\": [\n",
      "            {\n",
      "                \"id\": \"1247d3c8-58d0-4f1b-939e-9a9acefabe5e\",\n",
      "                \"createdAt\": 1664048262.727,\n",
      "                \"message\": \"(service Dask-Workers) has reached a steady state.\"\n",
      "            },\n",
      "            {\n",
      "                \"id\": \"2b9018b2-0dcb-455d-9f66-ab02099518dd\",\n",
      "                \"createdAt\": 1664048262.726,\n",
      "                \"message\": \"(service Dask-Workers) (deployment ecs-svc/2963306468352275244) deployment completed.\"\n",
      "            },\n",
      "            {\n",
      "                \"id\": \"5242bbfc-b0a9-49a5-b6c2-d76580d3324c\",\n",
      "                \"createdAt\": 1664048116.865,\n",
      "                \"message\": \"(service Dask-Workers) has started 1 tasks: (task 2278f12872da4997ac6333322e18986f).\"\n",
      "            }\n",
      "        ],\n",
      "        \"createdAt\": 1664048111.239,\n",
      "        \"placementConstraints\": [],\n",
      "        \"placementStrategy\": [],\n",
      "        \"networkConfiguration\": {\n",
      "            \"awsvpcConfiguration\": {\n",
      "                \"subnets\": [\n",
      "                    \"subnet-0475c6cf7ec265cfe\"\n",
      "                ],\n",
      "                \"securityGroups\": [\n",
      "                    \"sg-0864a0ad6ee8a68f0\"\n",
      "                ],\n",
      "                \"assignPublicIp\": \"ENABLED\"\n",
      "            }\n",
      "        },\n",
      "        \"schedulingStrategy\": \"REPLICA\",\n",
      "        \"createdBy\": \"arn:aws:iam::015469603702:user/iamadmin\",\n",
      "        \"enableECSManagedTags\": false,\n",
      "        \"propagateTags\": \"NONE\",\n",
      "        \"enableExecuteCommand\": false\n",
      "    }\n",
      "}\n"
     ]
    }
   ],
   "source": [
    "#enable this  when cluster is running on Fargate to scale out your cluster. \n",
    "!sudo aws ecs update-service --service Dask-Workers --desired-count 6 --cluster Fargate-Dask-Cluster"
   ]
  },
  {
   "cell_type": "markdown",
   "metadata": {},
   "source": [
    "After initiating the scale up of cluster give it about 5 minutes for the additional compute to become available. Note the CPU and memory resources now available to the cluster.This cluster now has 6 works with 12 cores and 24GB RAM (recall we had 2 vCPUs and 4 GB per worker)."
   ]
  },
  {
   "cell_type": "code",
   "execution_count": 7,
   "metadata": {},
   "outputs": [
    {
     "data": {
      "text/html": [
       "<table style=\"border: 2px solid white;\">\n",
       "<tr>\n",
       "<td style=\"vertical-align: top; border: 0px solid white\">\n",
       "<h3 style=\"text-align: left;\">Client</h3>\n",
       "<ul style=\"text-align: left; list-style: none; margin: 0; padding: 0;\">\n",
       "  <li><b>Scheduler: </b>tcp://Dask-Scheduler.local-dask:8786</li>\n",
       "  <li><b>Dashboard: </b><a href='http://Dask-Scheduler.local-dask:8787/status' target='_blank'>http://Dask-Scheduler.local-dask:8787/status</a></li>\n",
       "</ul>\n",
       "</td>\n",
       "<td style=\"vertical-align: top; border: 0px solid white\">\n",
       "<h3 style=\"text-align: left;\">Cluster</h3>\n",
       "<ul style=\"text-align: left; list-style:none; margin: 0; padding: 0;\">\n",
       "  <li><b>Workers: </b>6</li>\n",
       "  <li><b>Cores: </b>12</li>\n",
       "  <li><b>Memory: </b>24.58 GB</li>\n",
       "</ul>\n",
       "</td>\n",
       "</tr>\n",
       "</table>"
      ],
      "text/plain": [
       "<Client: 'tcp://11.0.3.81:8786' processes=0 threads=0, memory=0 B>"
      ]
     },
     "execution_count": 7,
     "metadata": {},
     "output_type": "execute_result"
    }
   ],
   "source": [
    "time.sleep(300)\n",
    "client.restart()"
   ]
  },
  {
   "cell_type": "markdown",
   "metadata": {},
   "source": [
    "---\n",
    "\n",
    "## Exploratory Data Analytics\n",
    "\n",
    "We will be reading the new york taxi dataset for 2021 and running some analytics on it.\n",
    "\n",
    "1. Note the similarity between the Dask dataframe API and the Pandas API.\n",
    "\n",
    "1. Note that we are able to read all the files in one call using the `*` wildcard character."
   ]
  },
  {
   "cell_type": "code",
   "execution_count": 209,
   "metadata": {},
   "outputs": [],
   "source": [
    "# read the data directly from S3, data is accessible with anonymous credentials\n",
    "df = dd.read_csv('s3://bigdatateaching/nyctaxi-yellow-tripdata/csv/2021/yellow_tripdata_2021-*.csv',\n",
    "                 storage_options={'anon': True},\n",
    "                 parse_dates=['tpep_pickup_datetime','tpep_dropoff_datetime'])"
   ]
  },
  {
   "cell_type": "markdown",
   "metadata": {},
   "source": [
    "The data frame is lazy loaded and is automatically partitioned (you can control this by specifying the `blocksize` parameter, see [read_csv](https://docs.dask.org/en/stable/generated/dask.dataframe.read_csv.html))."
   ]
  },
  {
   "cell_type": "code",
   "execution_count": 9,
   "metadata": {},
   "outputs": [
    {
     "data": {
      "text/html": [
       "<div><strong>Dask DataFrame Structure:</strong></div>\n",
       "<div>\n",
       "<style scoped>\n",
       "    .dataframe tbody tr th:only-of-type {\n",
       "        vertical-align: middle;\n",
       "    }\n",
       "\n",
       "    .dataframe tbody tr th {\n",
       "        vertical-align: top;\n",
       "    }\n",
       "\n",
       "    .dataframe thead th {\n",
       "        text-align: right;\n",
       "    }\n",
       "</style>\n",
       "<table border=\"1\" class=\"dataframe\">\n",
       "  <thead>\n",
       "    <tr style=\"text-align: right;\">\n",
       "      <th></th>\n",
       "      <th>VendorID</th>\n",
       "      <th>tpep_pickup_datetime</th>\n",
       "      <th>tpep_dropoff_datetime</th>\n",
       "      <th>passenger_count</th>\n",
       "      <th>trip_distance</th>\n",
       "      <th>RatecodeID</th>\n",
       "      <th>store_and_fwd_flag</th>\n",
       "      <th>PULocationID</th>\n",
       "      <th>DOLocationID</th>\n",
       "      <th>payment_type</th>\n",
       "      <th>fare_amount</th>\n",
       "      <th>extra</th>\n",
       "      <th>mta_tax</th>\n",
       "      <th>tip_amount</th>\n",
       "      <th>tolls_amount</th>\n",
       "      <th>improvement_surcharge</th>\n",
       "      <th>total_amount</th>\n",
       "      <th>congestion_surcharge</th>\n",
       "      <th>airport_fee</th>\n",
       "    </tr>\n",
       "    <tr>\n",
       "      <th>npartitions=57</th>\n",
       "      <th></th>\n",
       "      <th></th>\n",
       "      <th></th>\n",
       "      <th></th>\n",
       "      <th></th>\n",
       "      <th></th>\n",
       "      <th></th>\n",
       "      <th></th>\n",
       "      <th></th>\n",
       "      <th></th>\n",
       "      <th></th>\n",
       "      <th></th>\n",
       "      <th></th>\n",
       "      <th></th>\n",
       "      <th></th>\n",
       "      <th></th>\n",
       "      <th></th>\n",
       "      <th></th>\n",
       "      <th></th>\n",
       "    </tr>\n",
       "  </thead>\n",
       "  <tbody>\n",
       "    <tr>\n",
       "      <th></th>\n",
       "      <td>int64</td>\n",
       "      <td>datetime64[ns]</td>\n",
       "      <td>datetime64[ns]</td>\n",
       "      <td>float64</td>\n",
       "      <td>float64</td>\n",
       "      <td>float64</td>\n",
       "      <td>object</td>\n",
       "      <td>int64</td>\n",
       "      <td>int64</td>\n",
       "      <td>int64</td>\n",
       "      <td>float64</td>\n",
       "      <td>float64</td>\n",
       "      <td>float64</td>\n",
       "      <td>float64</td>\n",
       "      <td>float64</td>\n",
       "      <td>float64</td>\n",
       "      <td>float64</td>\n",
       "      <td>float64</td>\n",
       "      <td>float64</td>\n",
       "    </tr>\n",
       "    <tr>\n",
       "      <th></th>\n",
       "      <td>...</td>\n",
       "      <td>...</td>\n",
       "      <td>...</td>\n",
       "      <td>...</td>\n",
       "      <td>...</td>\n",
       "      <td>...</td>\n",
       "      <td>...</td>\n",
       "      <td>...</td>\n",
       "      <td>...</td>\n",
       "      <td>...</td>\n",
       "      <td>...</td>\n",
       "      <td>...</td>\n",
       "      <td>...</td>\n",
       "      <td>...</td>\n",
       "      <td>...</td>\n",
       "      <td>...</td>\n",
       "      <td>...</td>\n",
       "      <td>...</td>\n",
       "      <td>...</td>\n",
       "    </tr>\n",
       "    <tr>\n",
       "      <th>...</th>\n",
       "      <td>...</td>\n",
       "      <td>...</td>\n",
       "      <td>...</td>\n",
       "      <td>...</td>\n",
       "      <td>...</td>\n",
       "      <td>...</td>\n",
       "      <td>...</td>\n",
       "      <td>...</td>\n",
       "      <td>...</td>\n",
       "      <td>...</td>\n",
       "      <td>...</td>\n",
       "      <td>...</td>\n",
       "      <td>...</td>\n",
       "      <td>...</td>\n",
       "      <td>...</td>\n",
       "      <td>...</td>\n",
       "      <td>...</td>\n",
       "      <td>...</td>\n",
       "      <td>...</td>\n",
       "    </tr>\n",
       "    <tr>\n",
       "      <th></th>\n",
       "      <td>...</td>\n",
       "      <td>...</td>\n",
       "      <td>...</td>\n",
       "      <td>...</td>\n",
       "      <td>...</td>\n",
       "      <td>...</td>\n",
       "      <td>...</td>\n",
       "      <td>...</td>\n",
       "      <td>...</td>\n",
       "      <td>...</td>\n",
       "      <td>...</td>\n",
       "      <td>...</td>\n",
       "      <td>...</td>\n",
       "      <td>...</td>\n",
       "      <td>...</td>\n",
       "      <td>...</td>\n",
       "      <td>...</td>\n",
       "      <td>...</td>\n",
       "      <td>...</td>\n",
       "    </tr>\n",
       "    <tr>\n",
       "      <th></th>\n",
       "      <td>...</td>\n",
       "      <td>...</td>\n",
       "      <td>...</td>\n",
       "      <td>...</td>\n",
       "      <td>...</td>\n",
       "      <td>...</td>\n",
       "      <td>...</td>\n",
       "      <td>...</td>\n",
       "      <td>...</td>\n",
       "      <td>...</td>\n",
       "      <td>...</td>\n",
       "      <td>...</td>\n",
       "      <td>...</td>\n",
       "      <td>...</td>\n",
       "      <td>...</td>\n",
       "      <td>...</td>\n",
       "      <td>...</td>\n",
       "      <td>...</td>\n",
       "      <td>...</td>\n",
       "    </tr>\n",
       "  </tbody>\n",
       "</table>\n",
       "</div>\n",
       "<div>Dask Name: read-csv, 57 tasks</div>"
      ],
      "text/plain": [
       "Dask DataFrame Structure:\n",
       "               VendorID tpep_pickup_datetime tpep_dropoff_datetime passenger_count trip_distance RatecodeID store_and_fwd_flag PULocationID DOLocationID payment_type fare_amount    extra  mta_tax tip_amount tolls_amount improvement_surcharge total_amount congestion_surcharge airport_fee\n",
       "npartitions=57                                                                                                                                                                                                                                                                                 \n",
       "                  int64       datetime64[ns]        datetime64[ns]         float64       float64    float64             object        int64        int64        int64     float64  float64  float64    float64      float64               float64      float64              float64     float64\n",
       "                    ...                  ...                   ...             ...           ...        ...                ...          ...          ...          ...         ...      ...      ...        ...          ...                   ...          ...                  ...         ...\n",
       "...                 ...                  ...                   ...             ...           ...        ...                ...          ...          ...          ...         ...      ...      ...        ...          ...                   ...          ...                  ...         ...\n",
       "                    ...                  ...                   ...             ...           ...        ...                ...          ...          ...          ...         ...      ...      ...        ...          ...                   ...          ...                  ...         ...\n",
       "                    ...                  ...                   ...             ...           ...        ...                ...          ...          ...          ...         ...      ...      ...        ...          ...                   ...          ...                  ...         ...\n",
       "Dask Name: read-csv, 57 tasks"
      ]
     },
     "execution_count": 9,
     "metadata": {},
     "output_type": "execute_result"
    }
   ],
   "source": [
    "df"
   ]
  },
  {
   "cell_type": "markdown",
   "metadata": {},
   "source": [
    "How many rows did we read? Well, the `shape` attribute does not give us the number of rows because this dataframe is not yet been loaded into the memory only a DAG has been created for reading it. `shape` will tell us the number of columns, to get the number of rows we will have to do a `len`. The data contains about ~31 million rows."
   ]
  },
  {
   "cell_type": "code",
   "execution_count": 10,
   "metadata": {},
   "outputs": [
    {
     "data": {
      "text/plain": [
       "(Delayed('int-3fbe140b-9693-4cce-af86-bcd107caf203'), 19)"
      ]
     },
     "execution_count": 10,
     "metadata": {},
     "output_type": "execute_result"
    }
   ],
   "source": [
    "df.shape"
   ]
  },
  {
   "cell_type": "code",
   "execution_count": 13,
   "metadata": {},
   "outputs": [
    {
     "name": "stdout",
     "output_type": "stream",
     "text": [
      "30,904,308\n",
      "CPU times: user 44.9 ms, sys: 0 ns, total: 44.9 ms\n",
      "Wall time: 17.5 s\n"
     ]
    }
   ],
   "source": [
    "%%time\n",
    "print(f\"{len(df):,}\") "
   ]
  },
  {
   "cell_type": "markdown",
   "metadata": {},
   "source": [
    "Let's find out average trip distance and total count."
   ]
  },
  {
   "cell_type": "code",
   "execution_count": 14,
   "metadata": {},
   "outputs": [
    {
     "name": "stdout",
     "output_type": "stream",
     "text": [
      "CPU times: user 64.5 ms, sys: 0 ns, total: 64.5 ms\n",
      "Wall time: 19.6 s\n"
     ]
    },
    {
     "data": {
      "text/html": [
       "<div>\n",
       "<style scoped>\n",
       "    .dataframe tbody tr th:only-of-type {\n",
       "        vertical-align: middle;\n",
       "    }\n",
       "\n",
       "    .dataframe tbody tr th {\n",
       "        vertical-align: top;\n",
       "    }\n",
       "\n",
       "    .dataframe thead th {\n",
       "        text-align: right;\n",
       "    }\n",
       "</style>\n",
       "<table border=\"1\" class=\"dataframe\">\n",
       "  <thead>\n",
       "    <tr style=\"text-align: right;\">\n",
       "      <th></th>\n",
       "      <th>feature</th>\n",
       "      <th>mean</th>\n",
       "    </tr>\n",
       "  </thead>\n",
       "  <tbody>\n",
       "    <tr>\n",
       "      <th>0</th>\n",
       "      <td>trip_distance</td>\n",
       "      <td>6.922689</td>\n",
       "    </tr>\n",
       "    <tr>\n",
       "      <th>1</th>\n",
       "      <td>total_amount</td>\n",
       "      <td>19.696305</td>\n",
       "    </tr>\n",
       "  </tbody>\n",
       "</table>\n",
       "</div>"
      ],
      "text/plain": [
       "         feature       mean\n",
       "0  trip_distance   6.922689\n",
       "1   total_amount  19.696305"
      ]
     },
     "execution_count": 14,
     "metadata": {},
     "output_type": "execute_result"
    }
   ],
   "source": [
    "%%time\n",
    "start = time.perf_counter()\n",
    "results = df[['trip_distance', 'total_amount']].mean().compute().to_frame().reset_index()\n",
    "end = time.perf_counter()\n",
    "\n",
    "# set column names for the resulting dataframe\n",
    "results.columns = [\"feature\", \"mean\"]\n",
    "results"
   ]
  },
  {
   "cell_type": "markdown",
   "metadata": {},
   "source": [
    "---\n",
    "\n",
    "\n",
    "## Scale out the cluster even more to see if the operations become faster\n",
    "\n",
    "It would make sense to say that if we double the size of the cluster then the time taken for the analytics task should reduce. Let us do that and see if it happens. We look at the cluster web portal to see that the number of tasks have increased.\n"
   ]
  },
  {
   "cell_type": "code",
   "execution_count": 5,
   "metadata": {},
   "outputs": [
    {
     "name": "stdout",
     "output_type": "stream",
     "text": [
      "{\n",
      "    \"service\": {\n",
      "        \"serviceArn\": \"arn:aws:ecs:us-east-1:015469603702:service/Fargate-Dask-Cluster/Dask-Workers\",\n",
      "        \"serviceName\": \"Dask-Workers\",\n",
      "        \"clusterArn\": \"arn:aws:ecs:us-east-1:015469603702:cluster/Fargate-Dask-Cluster\",\n",
      "        \"loadBalancers\": [],\n",
      "        \"serviceRegistries\": [\n",
      "            {\n",
      "                \"registryArn\": \"arn:aws:servicediscovery:us-east-1:015469603702:service/srv-kwhqanurpvkf7bwr\"\n",
      "            }\n",
      "        ],\n",
      "        \"status\": \"ACTIVE\",\n",
      "        \"desiredCount\": 1,\n",
      "        \"runningCount\": 12,\n",
      "        \"pendingCount\": 0,\n",
      "        \"launchType\": \"FARGATE\",\n",
      "        \"platformVersion\": \"LATEST\",\n",
      "        \"platformFamily\": \"Linux\",\n",
      "        \"taskDefinition\": \"arn:aws:ecs:us-east-1:015469603702:task-definition/cloudformation-dask-workers-v1:7\",\n",
      "        \"deploymentConfiguration\": {\n",
      "            \"deploymentCircuitBreaker\": {\n",
      "                \"enable\": false,\n",
      "                \"rollback\": false\n",
      "            },\n",
      "            \"maximumPercent\": 200,\n",
      "            \"minimumHealthyPercent\": 100\n",
      "        },\n",
      "        \"deployments\": [\n",
      "            {\n",
      "                \"id\": \"ecs-svc/2963306468352275244\",\n",
      "                \"status\": \"PRIMARY\",\n",
      "                \"taskDefinition\": \"arn:aws:ecs:us-east-1:015469603702:task-definition/cloudformation-dask-workers-v1:7\",\n",
      "                \"desiredCount\": 1,\n",
      "                \"pendingCount\": 0,\n",
      "                \"runningCount\": 12,\n",
      "                \"failedTasks\": 0,\n",
      "                \"createdAt\": 1664048111.239,\n",
      "                \"updatedAt\": 1664130944.348,\n",
      "                \"launchType\": \"FARGATE\",\n",
      "                \"platformVersion\": \"1.4.0\",\n",
      "                \"platformFamily\": \"Linux\",\n",
      "                \"networkConfiguration\": {\n",
      "                    \"awsvpcConfiguration\": {\n",
      "                        \"subnets\": [\n",
      "                            \"subnet-0475c6cf7ec265cfe\"\n",
      "                        ],\n",
      "                        \"securityGroups\": [\n",
      "                            \"sg-0864a0ad6ee8a68f0\"\n",
      "                        ],\n",
      "                        \"assignPublicIp\": \"ENABLED\"\n",
      "                    }\n",
      "                },\n",
      "                \"rolloutState\": \"COMPLETED\",\n",
      "                \"rolloutStateReason\": \"ECS deployment ecs-svc/2963306468352275244 completed.\"\n",
      "            }\n",
      "        ],\n",
      "        \"roleArn\": \"arn:aws:iam::015469603702:role/aws-service-role/ecs.amazonaws.com/AWSServiceRoleForECS\",\n",
      "        \"events\": [\n",
      "            {\n",
      "                \"id\": \"0b730d14-287c-4dcb-80f0-ecaadbf9a951\",\n",
      "                \"createdAt\": 1664130944.352,\n",
      "                \"message\": \"(service Dask-Workers) has reached a steady state.\"\n",
      "            },\n",
      "            {\n",
      "                \"id\": \"578fed12-e912-48e3-a1ce-b9b3a3fed790\",\n",
      "                \"createdAt\": 1664130784.061,\n",
      "                \"message\": \"(service Dask-Workers) has started 11 tasks: (task c193cfdca379483d9137071f70013ca7) (task 6984034d704a4554a0ac8d7c7bed9aec) (task 0339e27b69b14bd58f04f9b688a6d9fe) (task e04d6ee56a8b4f31974308349cd8d54c) (task 5912c1313f29453a9f9f2fefd74896b7) (task e497dacc2c4e4c5fb6968c486d81ffb5) (task f74d66c6aec94f078785004138721aee) (task 8484f2abba9b461bbd187310422a36e5) (task 284be96b947a49afadf3b319ea69a1e5) (task aebdddf0904d493d86d724d9f56f3448) (task e496c5bc3b1b443db1a1f4e6c506a594).\"\n",
      "            },\n",
      "            {\n",
      "                \"id\": \"4b33e7eb-7665-44b4-ba87-346531ce635e\",\n",
      "                \"createdAt\": 1664116970.346,\n",
      "                \"message\": \"(service Dask-Workers) has reached a steady state.\"\n",
      "            },\n",
      "            {\n",
      "                \"id\": \"4ebf9cf6-f62d-4108-a138-4663077af23d\",\n",
      "                \"createdAt\": 1664095369.879,\n",
      "                \"message\": \"(service Dask-Workers) has reached a steady state.\"\n",
      "            },\n",
      "            {\n",
      "                \"id\": \"0af229e5-3066-4dcc-a319-6f3b24195852\",\n",
      "                \"createdAt\": 1664073749.945,\n",
      "                \"message\": \"(service Dask-Workers) has reached a steady state.\"\n",
      "            },\n",
      "            {\n",
      "                \"id\": \"ac49af9c-e1ff-436d-ab73-8c84cadf5440\",\n",
      "                \"createdAt\": 1664073740.517,\n",
      "                \"message\": \"(service Dask-Workers) has stopped 11 running tasks: (task 2c75e52d5b8048258ced7190adc81562) (task 0ad9e85526ba4dc49e41f645b2bb282b) (task 310f9d190cd24f84896e924d89945e43) (task d5b21cb9ac6e4f09ac1aa4cc622a0d6a) (task 4b2f65e40c7b4d07bdb2d62c14185634) (task cb5f91df5557443da139e3daf4ac875d) (task b86748245fda462bbbbda4b1178cdde7) (task 0eadcbc4eb3a4975b0107234da448097) (task aab3dd1bace0464c99de624158b79d3b) (task 94bc1f213e514ec09a3f45e496314a72) (task 6e2a536d07de4570855980cb6ef74dfb).\"\n",
      "            },\n",
      "            {\n",
      "                \"id\": \"49e1a2d1-0c2e-4585-896b-076ebc34deef\",\n",
      "                \"createdAt\": 1664073165.821,\n",
      "                \"message\": \"(service Dask-Workers) has reached a steady state.\"\n",
      "            },\n",
      "            {\n",
      "                \"id\": \"93b22875-4348-49b8-90c0-ac2621ed7fd3\",\n",
      "                \"createdAt\": 1664072999.122,\n",
      "                \"message\": \"(service Dask-Workers) has started 1 tasks: (task 2c75e52d5b8048258ced7190adc81562).\"\n",
      "            },\n",
      "            {\n",
      "                \"id\": \"5fb00b66-c1e5-43c3-9bcd-426aff588486\",\n",
      "                \"createdAt\": 1664072807.981,\n",
      "                \"message\": \"(service Dask-Workers) has started 11 tasks: (task 0ad9e85526ba4dc49e41f645b2bb282b) (task 310f9d190cd24f84896e924d89945e43) (task 0eadcbc4eb3a4975b0107234da448097) (task e0bcd7307e394b78907836c50ce76de6) (task b0d09ce1bd074b13bfdcfc5b07ddfe94) (task 94bc1f213e514ec09a3f45e496314a72) (task aab3dd1bace0464c99de624158b79d3b) (task 4b2f65e40c7b4d07bdb2d62c14185634) (task b86748245fda462bbbbda4b1178cdde7) (task cb5f91df5557443da139e3daf4ac875d) (task 6e2a536d07de4570855980cb6ef74dfb).\"\n",
      "            },\n",
      "            {\n",
      "                \"id\": \"da51ad4f-563b-49e8-bc6b-3b8de2b55701\",\n",
      "                \"createdAt\": 1664072477.574,\n",
      "                \"message\": \"(service Dask-Workers) has reached a steady state.\"\n",
      "            },\n",
      "            {\n",
      "                \"id\": \"2578741c-3148-4b59-9480-9b7ae4ff3adf\",\n",
      "                \"createdAt\": 1664072469.413,\n",
      "                \"message\": \"(service Dask-Workers) has stopped 23 running tasks: (task 874319b8a6e742d1ad044aa9286d26b5) (task 745d58ce5c324075b11febf9c636960b) (task 4a6cbf334aff47919292ccb65588b890) (task c468c49ca500435cad7924628fde7832) (task b3da7ab624e24c1fb91d67170ab06b51) (task a4b6817fecb345d491e5967446d0e51b) (task ada31d8ef30645b7a1cffbb50de24f46) (task 5c2628b8cbb247e39f1bceaed7f8e2d8) (task d6211f2ef82247c2b7410feb0d3374ad) (task faf7aeafab044439b5171bf5e6e39f58) (task 2278f12872da4997ac6333322e18986f) (task b88ce12b080e4a5e9b3a8b9cd90a5565) (task 24829202bac9477884bc28ec01f7c8e3) (task 2074cb1069914eb2ae58b110c0c91e82) (task b61356a721d14138a324e85a77af21a9) (task 996d377e09c844fdb77786eef5177218) (task 28f444688e6240f2bef710321054e56b) (task 040fcc3d429a4793a57471f132d7a813) (task 94a3375422294f448473be2850f2d24d) (task 1034c46b3948460cb39c16c1bdd46d52) (task 3b684184638648d28dc35d0df35ded37) (task fc93c574c2164610a984ed09c9ea8bce) (task 553a461c4e3941598e8644b15f7bfcdd).\"\n",
      "            },\n",
      "            {\n",
      "                \"id\": \"7b56a416-8b0c-465a-b64d-80fd2e04ce2f\",\n",
      "                \"createdAt\": 1664054273.138,\n",
      "                \"message\": \"(service Dask-Workers) has reached a steady state.\"\n",
      "            },\n",
      "            {\n",
      "                \"id\": \"de6f5271-7162-44bb-b096-eb21fd107e5d\",\n",
      "                \"createdAt\": 1664054083.98,\n",
      "                \"message\": \"(service Dask-Workers) has started 12 tasks: (task 874319b8a6e742d1ad044aa9286d26b5) (task a4b6817fecb345d491e5967446d0e51b) (task 28f444688e6240f2bef710321054e56b) (task 94a3375422294f448473be2850f2d24d) (task b61356a721d14138a324e85a77af21a9) (task 24829202bac9477884bc28ec01f7c8e3) (task 553a461c4e3941598e8644b15f7bfcdd) (task 3b684184638648d28dc35d0df35ded37) (task 4a6cbf334aff47919292ccb65588b890) (task 5c2628b8cbb247e39f1bceaed7f8e2d8) (task ada31d8ef30645b7a1cffbb50de24f46) (task b3da7ab624e24c1fb91d67170ab06b51).\"\n",
      "            },\n",
      "            {\n",
      "                \"id\": \"15cf6f4b-468a-42c7-ad72-e19803c7011c\",\n",
      "                \"createdAt\": 1664053867.99,\n",
      "                \"message\": \"(service Dask-Workers) has reached a steady state.\"\n",
      "            },\n",
      "            {\n",
      "                \"id\": \"c3b928da-9170-4c1a-a279-68fb747548a2\",\n",
      "                \"createdAt\": 1664053703.729,\n",
      "                \"message\": \"(service Dask-Workers) has started 6 tasks: (task faf7aeafab044439b5171bf5e6e39f58) (task fc93c574c2164610a984ed09c9ea8bce) (task 2074cb1069914eb2ae58b110c0c91e82) (task b88ce12b080e4a5e9b3a8b9cd90a5565) (task 996d377e09c844fdb77786eef5177218) (task 745d58ce5c324075b11febf9c636960b).\"\n",
      "            },\n",
      "            {\n",
      "                \"id\": \"b2626e88-7c3e-4dec-a3f5-90c109dc51fc\",\n",
      "                \"createdAt\": 1664052347.466,\n",
      "                \"message\": \"(service Dask-Workers) has reached a steady state.\"\n",
      "            },\n",
      "            {\n",
      "                \"id\": \"35fe7ba2-31a3-401f-99f6-ac2dcebdf6ea\",\n",
      "                \"createdAt\": 1664052135.841,\n",
      "                \"message\": \"(service Dask-Workers) has started 5 tasks: (task 040fcc3d429a4793a57471f132d7a813) (task d5b21cb9ac6e4f09ac1aa4cc622a0d6a) (task 1034c46b3948460cb39c16c1bdd46d52) (task c468c49ca500435cad7924628fde7832) (task d6211f2ef82247c2b7410feb0d3374ad).\"\n",
      "            },\n",
      "            {\n",
      "                \"id\": \"1247d3c8-58d0-4f1b-939e-9a9acefabe5e\",\n",
      "                \"createdAt\": 1664048262.727,\n",
      "                \"message\": \"(service Dask-Workers) has reached a steady state.\"\n",
      "            },\n",
      "            {\n",
      "                \"id\": \"2b9018b2-0dcb-455d-9f66-ab02099518dd\",\n",
      "                \"createdAt\": 1664048262.726,\n",
      "                \"message\": \"(service Dask-Workers) (deployment ecs-svc/2963306468352275244) deployment completed.\"\n",
      "            },\n",
      "            {\n",
      "                \"id\": \"5242bbfc-b0a9-49a5-b6c2-d76580d3324c\",\n",
      "                \"createdAt\": 1664048116.865,\n",
      "                \"message\": \"(service Dask-Workers) has started 1 tasks: (task 2278f12872da4997ac6333322e18986f).\"\n",
      "            }\n",
      "        ],\n",
      "        \"createdAt\": 1664048111.239,\n",
      "        \"placementConstraints\": [],\n",
      "        \"placementStrategy\": [],\n",
      "        \"networkConfiguration\": {\n",
      "            \"awsvpcConfiguration\": {\n",
      "                \"subnets\": [\n",
      "                    \"subnet-0475c6cf7ec265cfe\"\n",
      "                ],\n",
      "                \"securityGroups\": [\n",
      "                    \"sg-0864a0ad6ee8a68f0\"\n",
      "                ],\n",
      "                \"assignPublicIp\": \"ENABLED\"\n",
      "            }\n",
      "        },\n",
      "        \"schedulingStrategy\": \"REPLICA\",\n",
      "        \"createdBy\": \"arn:aws:iam::015469603702:user/iamadmin\",\n",
      "        \"enableECSManagedTags\": false,\n",
      "        \"propagateTags\": \"NONE\",\n",
      "        \"enableExecuteCommand\": false\n",
      "    }\n",
      "}\n"
     ]
    },
    {
     "data": {
      "text/html": [
       "<table style=\"border: 2px solid white;\">\n",
       "<tr>\n",
       "<td style=\"vertical-align: top; border: 0px solid white\">\n",
       "<h3 style=\"text-align: left;\">Client</h3>\n",
       "<ul style=\"text-align: left; list-style: none; margin: 0; padding: 0;\">\n",
       "  <li><b>Scheduler: </b>tcp://Dask-Scheduler.local-dask:8786</li>\n",
       "  <li><b>Dashboard: </b><a href='http://Dask-Scheduler.local-dask:8787/status' target='_blank'>http://Dask-Scheduler.local-dask:8787/status</a></li>\n",
       "</ul>\n",
       "</td>\n",
       "<td style=\"vertical-align: top; border: 0px solid white\">\n",
       "<h3 style=\"text-align: left;\">Cluster</h3>\n",
       "<ul style=\"text-align: left; list-style:none; margin: 0; padding: 0;\">\n",
       "  <li><b>Workers: </b>12</li>\n",
       "  <li><b>Cores: </b>24</li>\n",
       "  <li><b>Memory: </b>49.15 GB</li>\n",
       "</ul>\n",
       "</td>\n",
       "</tr>\n",
       "</table>"
      ],
      "text/plain": [
       "<Client: 'tcp://11.0.3.81:8786' processes=12 threads=24, memory=49.15 GB>"
      ]
     },
     "execution_count": 5,
     "metadata": {},
     "output_type": "execute_result"
    }
   ],
   "source": [
    "#enable this  when cluster is running on Fargate to scale out your cluster. \n",
    "!sudo aws ecs update-service --service Dask-Workers --desired-count 12 --cluster Fargate-Dask-Cluster\n",
    "time.sleep(300)\n",
    "client.restart()"
   ]
  },
  {
   "cell_type": "markdown",
   "metadata": {},
   "source": [
    "![](img/dask-ui-2.png)\n",
    "![](img/dask-ui-3.png)"
   ]
  },
  {
   "cell_type": "code",
   "execution_count": 17,
   "metadata": {},
   "outputs": [
    {
     "name": "stdout",
     "output_type": "stream",
     "text": [
      "CPU times: user 57.5 ms, sys: 0 ns, total: 57.5 ms\n",
      "Wall time: 10.1 s\n"
     ]
    },
    {
     "data": {
      "text/html": [
       "<div>\n",
       "<style scoped>\n",
       "    .dataframe tbody tr th:only-of-type {\n",
       "        vertical-align: middle;\n",
       "    }\n",
       "\n",
       "    .dataframe tbody tr th {\n",
       "        vertical-align: top;\n",
       "    }\n",
       "\n",
       "    .dataframe thead th {\n",
       "        text-align: right;\n",
       "    }\n",
       "</style>\n",
       "<table border=\"1\" class=\"dataframe\">\n",
       "  <thead>\n",
       "    <tr style=\"text-align: right;\">\n",
       "      <th></th>\n",
       "      <th>feature</th>\n",
       "      <th>mean</th>\n",
       "    </tr>\n",
       "  </thead>\n",
       "  <tbody>\n",
       "    <tr>\n",
       "      <th>0</th>\n",
       "      <td>trip_distance</td>\n",
       "      <td>6.922689</td>\n",
       "    </tr>\n",
       "    <tr>\n",
       "      <th>1</th>\n",
       "      <td>total_amount</td>\n",
       "      <td>19.696305</td>\n",
       "    </tr>\n",
       "  </tbody>\n",
       "</table>\n",
       "</div>"
      ],
      "text/plain": [
       "         feature       mean\n",
       "0  trip_distance   6.922689\n",
       "1   total_amount  19.696305"
      ]
     },
     "execution_count": 17,
     "metadata": {},
     "output_type": "execute_result"
    }
   ],
   "source": [
    "%%time\n",
    "start = time.perf_counter()\n",
    "results = df[['trip_distance', 'total_amount']].mean().compute().to_frame().reset_index()\n",
    "end = time.perf_counter()\n",
    "\n",
    "# set column names for the resulting dataframe\n",
    "results.columns = [\"feature\", \"mean\"]\n",
    "results"
   ]
  },
  {
   "cell_type": "markdown",
   "metadata": {},
   "source": [
    "So as we can see the time taken reduced to almost half of what it was earlier. **_Doubling the size of the cluster reduced the time taken by 50%, horizontal scaling at work._**"
   ]
  },
  {
   "cell_type": "markdown",
   "metadata": {},
   "source": [
    "Let's keep doing this and see if we can reduce this further!!!"
   ]
  },
  {
   "cell_type": "code",
   "execution_count": 18,
   "metadata": {},
   "outputs": [
    {
     "name": "stdout",
     "output_type": "stream",
     "text": [
      "{\n",
      "    \"service\": {\n",
      "        \"serviceArn\": \"arn:aws:ecs:us-east-1:015469603702:service/Fargate-Dask-Cluster/Dask-Workers\",\n",
      "        \"serviceName\": \"Dask-Workers\",\n",
      "        \"clusterArn\": \"arn:aws:ecs:us-east-1:015469603702:cluster/Fargate-Dask-Cluster\",\n",
      "        \"loadBalancers\": [],\n",
      "        \"serviceRegistries\": [\n",
      "            {\n",
      "                \"registryArn\": \"arn:aws:servicediscovery:us-east-1:015469603702:service/srv-kwhqanurpvkf7bwr\"\n",
      "            }\n",
      "        ],\n",
      "        \"status\": \"ACTIVE\",\n",
      "        \"desiredCount\": 24,\n",
      "        \"runningCount\": 12,\n",
      "        \"pendingCount\": 0,\n",
      "        \"launchType\": \"FARGATE\",\n",
      "        \"platformVersion\": \"LATEST\",\n",
      "        \"platformFamily\": \"Linux\",\n",
      "        \"taskDefinition\": \"arn:aws:ecs:us-east-1:015469603702:task-definition/cloudformation-dask-workers-v1:7\",\n",
      "        \"deploymentConfiguration\": {\n",
      "            \"deploymentCircuitBreaker\": {\n",
      "                \"enable\": false,\n",
      "                \"rollback\": false\n",
      "            },\n",
      "            \"maximumPercent\": 200,\n",
      "            \"minimumHealthyPercent\": 100\n",
      "        },\n",
      "        \"deployments\": [\n",
      "            {\n",
      "                \"id\": \"ecs-svc/2963306468352275244\",\n",
      "                \"status\": \"PRIMARY\",\n",
      "                \"taskDefinition\": \"arn:aws:ecs:us-east-1:015469603702:task-definition/cloudformation-dask-workers-v1:7\",\n",
      "                \"desiredCount\": 24,\n",
      "                \"pendingCount\": 0,\n",
      "                \"runningCount\": 12,\n",
      "                \"failedTasks\": 0,\n",
      "                \"createdAt\": 1664048111.239,\n",
      "                \"updatedAt\": 1664053867.985,\n",
      "                \"launchType\": \"FARGATE\",\n",
      "                \"platformVersion\": \"1.4.0\",\n",
      "                \"platformFamily\": \"Linux\",\n",
      "                \"networkConfiguration\": {\n",
      "                    \"awsvpcConfiguration\": {\n",
      "                        \"subnets\": [\n",
      "                            \"subnet-0475c6cf7ec265cfe\"\n",
      "                        ],\n",
      "                        \"securityGroups\": [\n",
      "                            \"sg-0864a0ad6ee8a68f0\"\n",
      "                        ],\n",
      "                        \"assignPublicIp\": \"ENABLED\"\n",
      "                    }\n",
      "                },\n",
      "                \"rolloutState\": \"COMPLETED\",\n",
      "                \"rolloutStateReason\": \"ECS deployment ecs-svc/2963306468352275244 completed.\"\n",
      "            }\n",
      "        ],\n",
      "        \"roleArn\": \"arn:aws:iam::015469603702:role/aws-service-role/ecs.amazonaws.com/AWSServiceRoleForECS\",\n",
      "        \"events\": [\n",
      "            {\n",
      "                \"id\": \"15cf6f4b-468a-42c7-ad72-e19803c7011c\",\n",
      "                \"createdAt\": 1664053867.99,\n",
      "                \"message\": \"(service Dask-Workers) has reached a steady state.\"\n",
      "            },\n",
      "            {\n",
      "                \"id\": \"c3b928da-9170-4c1a-a279-68fb747548a2\",\n",
      "                \"createdAt\": 1664053703.729,\n",
      "                \"message\": \"(service Dask-Workers) has started 6 tasks: (task faf7aeafab044439b5171bf5e6e39f58) (task fc93c574c2164610a984ed09c9ea8bce) (task 2074cb1069914eb2ae58b110c0c91e82) (task b88ce12b080e4a5e9b3a8b9cd90a5565) (task 996d377e09c844fdb77786eef5177218) (task 745d58ce5c324075b11febf9c636960b).\"\n",
      "            },\n",
      "            {\n",
      "                \"id\": \"b2626e88-7c3e-4dec-a3f5-90c109dc51fc\",\n",
      "                \"createdAt\": 1664052347.466,\n",
      "                \"message\": \"(service Dask-Workers) has reached a steady state.\"\n",
      "            },\n",
      "            {\n",
      "                \"id\": \"35fe7ba2-31a3-401f-99f6-ac2dcebdf6ea\",\n",
      "                \"createdAt\": 1664052135.841,\n",
      "                \"message\": \"(service Dask-Workers) has started 5 tasks: (task 040fcc3d429a4793a57471f132d7a813) (task d5b21cb9ac6e4f09ac1aa4cc622a0d6a) (task 1034c46b3948460cb39c16c1bdd46d52) (task c468c49ca500435cad7924628fde7832) (task d6211f2ef82247c2b7410feb0d3374ad).\"\n",
      "            },\n",
      "            {\n",
      "                \"id\": \"1247d3c8-58d0-4f1b-939e-9a9acefabe5e\",\n",
      "                \"createdAt\": 1664048262.727,\n",
      "                \"message\": \"(service Dask-Workers) has reached a steady state.\"\n",
      "            },\n",
      "            {\n",
      "                \"id\": \"2b9018b2-0dcb-455d-9f66-ab02099518dd\",\n",
      "                \"createdAt\": 1664048262.726,\n",
      "                \"message\": \"(service Dask-Workers) (deployment ecs-svc/2963306468352275244) deployment completed.\"\n",
      "            },\n",
      "            {\n",
      "                \"id\": \"5242bbfc-b0a9-49a5-b6c2-d76580d3324c\",\n",
      "                \"createdAt\": 1664048116.865,\n",
      "                \"message\": \"(service Dask-Workers) has started 1 tasks: (task 2278f12872da4997ac6333322e18986f).\"\n",
      "            }\n",
      "        ],\n",
      "        \"createdAt\": 1664048111.239,\n",
      "        \"placementConstraints\": [],\n",
      "        \"placementStrategy\": [],\n",
      "        \"networkConfiguration\": {\n",
      "            \"awsvpcConfiguration\": {\n",
      "                \"subnets\": [\n",
      "                    \"subnet-0475c6cf7ec265cfe\"\n",
      "                ],\n",
      "                \"securityGroups\": [\n",
      "                    \"sg-0864a0ad6ee8a68f0\"\n",
      "                ],\n",
      "                \"assignPublicIp\": \"ENABLED\"\n",
      "            }\n",
      "        },\n",
      "        \"schedulingStrategy\": \"REPLICA\",\n",
      "        \"createdBy\": \"arn:aws:iam::015469603702:user/iamadmin\",\n",
      "        \"enableECSManagedTags\": false,\n",
      "        \"propagateTags\": \"NONE\",\n",
      "        \"enableExecuteCommand\": false\n",
      "    }\n",
      "}\n"
     ]
    },
    {
     "data": {
      "text/html": [
       "<table style=\"border: 2px solid white;\">\n",
       "<tr>\n",
       "<td style=\"vertical-align: top; border: 0px solid white\">\n",
       "<h3 style=\"text-align: left;\">Client</h3>\n",
       "<ul style=\"text-align: left; list-style: none; margin: 0; padding: 0;\">\n",
       "  <li><b>Scheduler: </b>tcp://Dask-Scheduler.local-dask:8786</li>\n",
       "  <li><b>Dashboard: </b><a href='http://Dask-Scheduler.local-dask:8787/status' target='_blank'>http://Dask-Scheduler.local-dask:8787/status</a></li>\n",
       "</ul>\n",
       "</td>\n",
       "<td style=\"vertical-align: top; border: 0px solid white\">\n",
       "<h3 style=\"text-align: left;\">Cluster</h3>\n",
       "<ul style=\"text-align: left; list-style:none; margin: 0; padding: 0;\">\n",
       "  <li><b>Workers: </b>24</li>\n",
       "  <li><b>Cores: </b>48</li>\n",
       "  <li><b>Memory: </b>98.30 GB</li>\n",
       "</ul>\n",
       "</td>\n",
       "</tr>\n",
       "</table>"
      ],
      "text/plain": [
       "<Client: 'tcp://11.0.3.81:8786' processes=0 threads=0, memory=0 B>"
      ]
     },
     "execution_count": 18,
     "metadata": {},
     "output_type": "execute_result"
    }
   ],
   "source": [
    "#enable this  when cluster is running on Fargate to scale out your cluster. \n",
    "!sudo aws ecs update-service --service Dask-Workers --desired-count 24 --cluster Fargate-Dask-Cluster\n",
    "time.sleep(300)\n",
    "client.restart()"
   ]
  },
  {
   "cell_type": "code",
   "execution_count": 20,
   "metadata": {},
   "outputs": [
    {
     "name": "stdout",
     "output_type": "stream",
     "text": [
      "CPU times: user 48.7 ms, sys: 3.51 ms, total: 52.2 ms\n",
      "Wall time: 6.44 s\n"
     ]
    },
    {
     "data": {
      "text/html": [
       "<div>\n",
       "<style scoped>\n",
       "    .dataframe tbody tr th:only-of-type {\n",
       "        vertical-align: middle;\n",
       "    }\n",
       "\n",
       "    .dataframe tbody tr th {\n",
       "        vertical-align: top;\n",
       "    }\n",
       "\n",
       "    .dataframe thead th {\n",
       "        text-align: right;\n",
       "    }\n",
       "</style>\n",
       "<table border=\"1\" class=\"dataframe\">\n",
       "  <thead>\n",
       "    <tr style=\"text-align: right;\">\n",
       "      <th></th>\n",
       "      <th>feature</th>\n",
       "      <th>mean</th>\n",
       "    </tr>\n",
       "  </thead>\n",
       "  <tbody>\n",
       "    <tr>\n",
       "      <th>0</th>\n",
       "      <td>trip_distance</td>\n",
       "      <td>6.922689</td>\n",
       "    </tr>\n",
       "    <tr>\n",
       "      <th>1</th>\n",
       "      <td>total_amount</td>\n",
       "      <td>19.696305</td>\n",
       "    </tr>\n",
       "  </tbody>\n",
       "</table>\n",
       "</div>"
      ],
      "text/plain": [
       "         feature       mean\n",
       "0  trip_distance   6.922689\n",
       "1   total_amount  19.696305"
      ]
     },
     "execution_count": 20,
     "metadata": {},
     "output_type": "execute_result"
    }
   ],
   "source": [
    "%%time\n",
    "start = time.perf_counter()\n",
    "results = df[['trip_distance', 'total_amount']].mean().compute().to_frame().reset_index()\n",
    "end = time.perf_counter()\n",
    "\n",
    "# set column names for the resulting dataframe\n",
    "results.columns = [\"feature\", \"mean\"]\n",
    "results"
   ]
  },
  {
   "cell_type": "markdown",
   "metadata": {},
   "source": [
    "Here is a screenshot from the cluster web portal about the memory and CPU utilization from all the tasks.\n",
    "![](img/dask-ui-4.png)"
   ]
  },
  {
   "cell_type": "markdown",
   "metadata": {},
   "source": [
    "So as we can see the time taken reduced to almost 70% of what it was earlier. **_Quadrupling the size of the cluster reduced the time taken by 65%, horizontal scaling at work._**"
   ]
  },
  {
   "cell_type": "markdown",
   "metadata": {},
   "source": [
    "We can continue in the same vein and we would soon find out that further increasing the size of the cluster provides little or no benefit because after a point the overhead of distributing the data between nodes and then combining the results exceeds the benefits provided by parallelism."
   ]
  },
  {
   "cell_type": "markdown",
   "metadata": {},
   "source": [
    "#### Count the total trip distance and count for each vendor"
   ]
  },
  {
   "cell_type": "code",
   "execution_count": 215,
   "metadata": {},
   "outputs": [
    {
     "name": "stdout",
     "output_type": "stream",
     "text": [
      "CPU times: user 51.9 ms, sys: 0 ns, total: 51.9 ms\n",
      "Wall time: 5.6 s\n"
     ]
    },
    {
     "data": {
      "text/html": [
       "<div>\n",
       "<style scoped>\n",
       "    .dataframe tbody tr th:only-of-type {\n",
       "        vertical-align: middle;\n",
       "    }\n",
       "\n",
       "    .dataframe tbody tr th {\n",
       "        vertical-align: top;\n",
       "    }\n",
       "\n",
       "    .dataframe thead th {\n",
       "        text-align: right;\n",
       "    }\n",
       "</style>\n",
       "<table border=\"1\" class=\"dataframe\">\n",
       "  <thead>\n",
       "    <tr style=\"text-align: right;\">\n",
       "      <th></th>\n",
       "      <th>passenger_count</th>\n",
       "      <th>trip_distance</th>\n",
       "    </tr>\n",
       "    <tr>\n",
       "      <th>VendorID</th>\n",
       "      <th></th>\n",
       "      <th></th>\n",
       "    </tr>\n",
       "  </thead>\n",
       "  <tbody>\n",
       "    <tr>\n",
       "      <th>1</th>\n",
       "      <td>9111983</td>\n",
       "      <td>27321231</td>\n",
       "    </tr>\n",
       "    <tr>\n",
       "      <th>2</th>\n",
       "      <td>20313630</td>\n",
       "      <td>185618682</td>\n",
       "    </tr>\n",
       "    <tr>\n",
       "      <th>5</th>\n",
       "      <td>0</td>\n",
       "      <td>500</td>\n",
       "    </tr>\n",
       "    <tr>\n",
       "      <th>6</th>\n",
       "      <td>0</td>\n",
       "      <td>1000489</td>\n",
       "    </tr>\n",
       "  </tbody>\n",
       "</table>\n",
       "</div>"
      ],
      "text/plain": [
       "          passenger_count  trip_distance\n",
       "VendorID                                \n",
       "1                 9111983       27321231\n",
       "2                20313630      185618682\n",
       "5                       0            500\n",
       "6                       0        1000489"
      ]
     },
     "execution_count": 215,
     "metadata": {},
     "output_type": "execute_result"
    }
   ],
   "source": [
    "%%time\n",
    "df.groupby('VendorID').agg({'passenger_count':'count', 'trip_distance': 'sum'}).astype(int).compute()"
   ]
  },
  {
   "cell_type": "markdown",
   "metadata": {},
   "source": [
    "### Selecting top 10 rides based on fare amount"
   ]
  },
  {
   "cell_type": "code",
   "execution_count": 234,
   "metadata": {},
   "outputs": [
    {
     "name": "stdout",
     "output_type": "stream",
     "text": [
      "CPU times: user 40.4 ms, sys: 0 ns, total: 40.4 ms\n",
      "Wall time: 5.73 s\n"
     ]
    }
   ],
   "source": [
    "%%time\n",
    "most_paid_rides_dask = df[['PULocationID', 'fare_amount']].nlargest(10, \"fare_amount\").compute()"
   ]
  },
  {
   "cell_type": "code",
   "execution_count": 235,
   "metadata": {},
   "outputs": [
    {
     "data": {
      "text/html": [
       "<div>\n",
       "<style scoped>\n",
       "    .dataframe tbody tr th:only-of-type {\n",
       "        vertical-align: middle;\n",
       "    }\n",
       "\n",
       "    .dataframe tbody tr th {\n",
       "        vertical-align: top;\n",
       "    }\n",
       "\n",
       "    .dataframe thead th {\n",
       "        text-align: right;\n",
       "    }\n",
       "</style>\n",
       "<table border=\"1\" class=\"dataframe\">\n",
       "  <thead>\n",
       "    <tr style=\"text-align: right;\">\n",
       "      <th></th>\n",
       "      <th>PULocationID</th>\n",
       "      <th>fare_amount</th>\n",
       "    </tr>\n",
       "  </thead>\n",
       "  <tbody>\n",
       "    <tr>\n",
       "      <th>394006</th>\n",
       "      <td>141</td>\n",
       "      <td>818283.44</td>\n",
       "    </tr>\n",
       "    <tr>\n",
       "      <th>360061</th>\n",
       "      <td>161</td>\n",
       "      <td>398466.38</td>\n",
       "    </tr>\n",
       "    <tr>\n",
       "      <th>601843</th>\n",
       "      <td>234</td>\n",
       "      <td>395854.44</td>\n",
       "    </tr>\n",
       "    <tr>\n",
       "      <th>121898</th>\n",
       "      <td>161</td>\n",
       "      <td>6965.00</td>\n",
       "    </tr>\n",
       "    <tr>\n",
       "      <th>108758</th>\n",
       "      <td>140</td>\n",
       "      <td>6960.50</td>\n",
       "    </tr>\n",
       "    <tr>\n",
       "      <th>294648</th>\n",
       "      <td>238</td>\n",
       "      <td>6010.00</td>\n",
       "    </tr>\n",
       "    <tr>\n",
       "      <th>121293</th>\n",
       "      <td>148</td>\n",
       "      <td>5954.00</td>\n",
       "    </tr>\n",
       "    <tr>\n",
       "      <th>407884</th>\n",
       "      <td>100</td>\n",
       "      <td>4969.00</td>\n",
       "    </tr>\n",
       "    <tr>\n",
       "      <th>33124</th>\n",
       "      <td>4</td>\n",
       "      <td>3554.70</td>\n",
       "    </tr>\n",
       "    <tr>\n",
       "      <th>176847</th>\n",
       "      <td>143</td>\n",
       "      <td>3009.00</td>\n",
       "    </tr>\n",
       "  </tbody>\n",
       "</table>\n",
       "</div>"
      ],
      "text/plain": [
       "        PULocationID  fare_amount\n",
       "394006           141    818283.44\n",
       "360061           161    398466.38\n",
       "601843           234    395854.44\n",
       "121898           161      6965.00\n",
       "108758           140      6960.50\n",
       "294648           238      6010.00\n",
       "121293           148      5954.00\n",
       "407884           100      4969.00\n",
       "33124              4      3554.70\n",
       "176847           143      3009.00"
      ]
     },
     "execution_count": 235,
     "metadata": {},
     "output_type": "execute_result"
    }
   ],
   "source": [
    "most_paid_rides_dask"
   ]
  },
  {
   "cell_type": "markdown",
   "metadata": {},
   "source": [
    "Clearly these represent anomalies in the data, a fare amount of hundereds of thousdands of dollars!!!!"
   ]
  },
  {
   "cell_type": "code",
   "execution_count": 231,
   "metadata": {},
   "outputs": [
    {
     "data": {
      "image/png": "[encoded data removed]",
      "text/plain": [
       "<Figure size 720x576 with 1 Axes>"
      ]
     },
     "metadata": {
      "needs_background": "light"
     },
     "output_type": "display_data"
    }
   ],
   "source": [
    "## Visualizing most paid rides through Barplot\n",
    "most_paid_rides_dask.set_index('PULocationID').plot(kind='barh',stacked=False, figsize=[10,8], legend=True)\n",
    "\n",
    "plt.title('Most Paid Rides')\n",
    "plt.xlabel('Fare Amount')\n",
    "plt.ylabel('PU LocationID')\n",
    "plt.show()"
   ]
  },
  {
   "cell_type": "markdown",
   "metadata": {},
   "source": [
    "#### Visualizing trip distance through Barplot"
   ]
  },
  {
   "cell_type": "code",
   "execution_count": 232,
   "metadata": {},
   "outputs": [
    {
     "data": {
      "image/png": "[encoded data removed]",
      "text/plain": [
       "<Figure size 720x576 with 1 Axes>"
      ]
     },
     "metadata": {
      "needs_background": "light"
     },
     "output_type": "display_data"
    }
   ],
   "source": [
    "most_paid_rides_dask2 = df[['trip_distance', 'fare_amount']].nlargest(10, \"trip_distance\").compute()\n",
    "most_paid_rides_dask2.set_index('trip_distance').plot(kind='bar', colormap='PiYG', stacked=False, figsize=[10,8], legend=True)\n",
    "\n",
    "plt.title('Fares by Distance')\n",
    "plt.xlabel('Trip Distance')\n",
    "plt.ylabel('Fare Amount')\n",
    "plt.show()"
   ]
  },
  {
   "cell_type": "markdown",
   "metadata": {},
   "source": [
    "### Let's view the quantile distribution, something we should have done earlier\n",
    "\n",
    "Clearly, anything about the 99th percentile as an anomaly."
   ]
  },
  {
   "cell_type": "code",
   "execution_count": 233,
   "metadata": {},
   "outputs": [
    {
     "name": "stdout",
     "output_type": "stream",
     "text": [
      "CPU times: user 496 ms, sys: 0 ns, total: 496 ms\n",
      "Wall time: 6.17 s\n"
     ]
    },
    {
     "data": {
      "text/html": [
       "<div>\n",
       "<style scoped>\n",
       "    .dataframe tbody tr th:only-of-type {\n",
       "        vertical-align: middle;\n",
       "    }\n",
       "\n",
       "    .dataframe tbody tr th {\n",
       "        vertical-align: top;\n",
       "    }\n",
       "\n",
       "    .dataframe thead th {\n",
       "        text-align: right;\n",
       "    }\n",
       "</style>\n",
       "<table border=\"1\" class=\"dataframe\">\n",
       "  <thead>\n",
       "    <tr style=\"text-align: right;\">\n",
       "      <th></th>\n",
       "      <th>index</th>\n",
       "      <th>trip_distance</th>\n",
       "      <th>fare_amount</th>\n",
       "    </tr>\n",
       "  </thead>\n",
       "  <tbody>\n",
       "    <tr>\n",
       "      <th>0</th>\n",
       "      <td>0.25</td>\n",
       "      <td>1.42</td>\n",
       "      <td>8.00</td>\n",
       "    </tr>\n",
       "    <tr>\n",
       "      <th>1</th>\n",
       "      <td>0.50</td>\n",
       "      <td>2.49</td>\n",
       "      <td>12.50</td>\n",
       "    </tr>\n",
       "    <tr>\n",
       "      <th>2</th>\n",
       "      <td>0.75</td>\n",
       "      <td>5.80</td>\n",
       "      <td>24.60</td>\n",
       "    </tr>\n",
       "    <tr>\n",
       "      <th>3</th>\n",
       "      <td>0.95</td>\n",
       "      <td>17.70</td>\n",
       "      <td>52.00</td>\n",
       "    </tr>\n",
       "    <tr>\n",
       "      <th>4</th>\n",
       "      <td>0.99</td>\n",
       "      <td>24.09</td>\n",
       "      <td>71.90</td>\n",
       "    </tr>\n",
       "    <tr>\n",
       "      <th>5</th>\n",
       "      <td>1.00</td>\n",
       "      <td>351613.36</td>\n",
       "      <td>818283.44</td>\n",
       "    </tr>\n",
       "  </tbody>\n",
       "</table>\n",
       "</div>"
      ],
      "text/plain": [
       "   index  trip_distance  fare_amount\n",
       "0   0.25           1.42         8.00\n",
       "1   0.50           2.49        12.50\n",
       "2   0.75           5.80        24.60\n",
       "3   0.95          17.70        52.00\n",
       "4   0.99          24.09        71.90\n",
       "5   1.00      351613.36    818283.44"
      ]
     },
     "execution_count": 233,
     "metadata": {},
     "output_type": "execute_result"
    }
   ],
   "source": [
    "%%time\n",
    "df_quantiles = df[['trip_distance', 'fare_amount']].quantile([0.25, 0.5, 0.75, 0.95, 0.99, 1]).compute().reset_index()\n",
    "df_quantiles"
   ]
  },
  {
   "cell_type": "markdown",
   "metadata": {},
   "source": [
    "---\n",
    "\n",
    "## Machine Learning with Dask\n",
    "\n",
    "We create a derived field called `trip_duration` which is the difference between `tpep_dropoff_datetime` and `tpep_pickup_datetime` (note that both these fields were read as datetime when the Dask dataframe was initially created from the CSV files) and train a linear regression model to predict it based on `passenger_count`,`trip_distance`,`fare_amount` and `total_amount`. \n",
    "\n",
    "**_Note that the primary objective here is to show how a Dask cluster can be used to train an ML model rather than training the best model possible._**"
   ]
  },
  {
   "cell_type": "code",
   "execution_count": 185,
   "metadata": {},
   "outputs": [],
   "source": [
    "# read the data directly from S3, data is accessible with anonymous credentials\n",
    "df = dd.read_csv('s3://bigdatateaching/nyctaxi-yellow-tripdata/csv/2021/yellow_tripdata_2021-12.csv',\n",
    "                 storage_options={'anon': True},\n",
    "                 parse_dates=['tpep_pickup_datetime','tpep_dropoff_datetime'])"
   ]
  },
  {
   "cell_type": "code",
   "execution_count": 186,
   "metadata": {},
   "outputs": [],
   "source": [
    "df['trip_duration'] = df['tpep_dropoff_datetime'] - df['tpep_pickup_datetime']"
   ]
  },
  {
   "cell_type": "code",
   "execution_count": 187,
   "metadata": {},
   "outputs": [
    {
     "data": {
      "text/plain": [
       "0   0 days 00:17:10\n",
       "1   0 days 00:16:06\n",
       "2   0 days 00:14:37\n",
       "3   0 days 00:09:02\n",
       "4   0 days 00:13:55\n",
       "Name: trip_duration, dtype: timedelta64[ns]"
      ]
     },
     "execution_count": 187,
     "metadata": {},
     "output_type": "execute_result"
    }
   ],
   "source": [
    "df['trip_duration'].head()"
   ]
  },
  {
   "cell_type": "markdown",
   "metadata": {},
   "source": [
    "Convert the trip duration to hours."
   ]
  },
  {
   "cell_type": "code",
   "execution_count": 188,
   "metadata": {},
   "outputs": [
    {
     "data": {
      "text/plain": [
       "Dask Series Structure:\n",
       "npartitions=6\n",
       "    float64\n",
       "        ...\n",
       "     ...   \n",
       "        ...\n",
       "        ...\n",
       "Name: trip_duration, dtype: float64\n",
       "Dask Name: getitem, 72 tasks"
      ]
     },
     "execution_count": 188,
     "metadata": {},
     "output_type": "execute_result"
    }
   ],
   "source": [
    "\n",
    "df['trip_duration'] = df['trip_duration']/np.timedelta64(1,'D')\n",
    "df['trip_duration'] = df['trip_duration'] * 24\n",
    "df['trip_duration']"
   ]
  },
  {
   "cell_type": "code",
   "execution_count": 189,
   "metadata": {},
   "outputs": [
    {
     "data": {
      "text/plain": [
       "0    0.286111\n",
       "1    0.268333\n",
       "2    0.243611\n",
       "3    0.150556\n",
       "4    0.231944\n",
       "Name: trip_duration, dtype: float64"
      ]
     },
     "execution_count": 189,
     "metadata": {},
     "output_type": "execute_result"
    }
   ],
   "source": [
    "df['trip_duration'].head()"
   ]
  },
  {
   "cell_type": "code",
   "execution_count": 190,
   "metadata": {},
   "outputs": [
    {
     "name": "stdout",
     "output_type": "stream",
     "text": [
      "CPU times: user 11.8 ms, sys: 205 µs, total: 12 ms\n",
      "Wall time: 2.67 s\n"
     ]
    },
    {
     "data": {
      "text/html": [
       "<div>\n",
       "<style scoped>\n",
       "    .dataframe tbody tr th:only-of-type {\n",
       "        vertical-align: middle;\n",
       "    }\n",
       "\n",
       "    .dataframe tbody tr th {\n",
       "        vertical-align: top;\n",
       "    }\n",
       "\n",
       "    .dataframe thead th {\n",
       "        text-align: right;\n",
       "    }\n",
       "</style>\n",
       "<table border=\"1\" class=\"dataframe\">\n",
       "  <thead>\n",
       "    <tr style=\"text-align: right;\">\n",
       "      <th></th>\n",
       "      <th>VendorID</th>\n",
       "      <th>tpep_pickup_datetime</th>\n",
       "      <th>tpep_dropoff_datetime</th>\n",
       "      <th>passenger_count</th>\n",
       "      <th>trip_distance</th>\n",
       "      <th>RatecodeID</th>\n",
       "      <th>store_and_fwd_flag</th>\n",
       "      <th>PULocationID</th>\n",
       "      <th>DOLocationID</th>\n",
       "      <th>payment_type</th>\n",
       "      <th>fare_amount</th>\n",
       "      <th>extra</th>\n",
       "      <th>mta_tax</th>\n",
       "      <th>tip_amount</th>\n",
       "      <th>tolls_amount</th>\n",
       "      <th>improvement_surcharge</th>\n",
       "      <th>total_amount</th>\n",
       "      <th>congestion_surcharge</th>\n",
       "      <th>airport_fee</th>\n",
       "      <th>trip_duration</th>\n",
       "    </tr>\n",
       "  </thead>\n",
       "  <tbody>\n",
       "    <tr>\n",
       "      <th>0</th>\n",
       "      <td>1</td>\n",
       "      <td>2021-12-01 00:19:51</td>\n",
       "      <td>2021-12-01 00:37:01</td>\n",
       "      <td>1.0</td>\n",
       "      <td>9.30</td>\n",
       "      <td>1.0</td>\n",
       "      <td>N</td>\n",
       "      <td>138</td>\n",
       "      <td>141</td>\n",
       "      <td>1</td>\n",
       "      <td>26.5</td>\n",
       "      <td>4.25</td>\n",
       "      <td>0.5</td>\n",
       "      <td>7.60</td>\n",
       "      <td>6.55</td>\n",
       "      <td>0.3</td>\n",
       "      <td>45.70</td>\n",
       "      <td>2.5</td>\n",
       "      <td>1.25</td>\n",
       "      <td>0.286111</td>\n",
       "    </tr>\n",
       "    <tr>\n",
       "      <th>1</th>\n",
       "      <td>2</td>\n",
       "      <td>2021-12-01 00:29:07</td>\n",
       "      <td>2021-12-01 00:45:13</td>\n",
       "      <td>2.0</td>\n",
       "      <td>2.76</td>\n",
       "      <td>1.0</td>\n",
       "      <td>N</td>\n",
       "      <td>238</td>\n",
       "      <td>42</td>\n",
       "      <td>2</td>\n",
       "      <td>13.0</td>\n",
       "      <td>0.50</td>\n",
       "      <td>0.5</td>\n",
       "      <td>0.00</td>\n",
       "      <td>0.00</td>\n",
       "      <td>0.3</td>\n",
       "      <td>16.80</td>\n",
       "      <td>2.5</td>\n",
       "      <td>0.00</td>\n",
       "      <td>0.268333</td>\n",
       "    </tr>\n",
       "    <tr>\n",
       "      <th>2</th>\n",
       "      <td>1</td>\n",
       "      <td>2021-12-01 00:12:40</td>\n",
       "      <td>2021-12-01 00:27:17</td>\n",
       "      <td>0.0</td>\n",
       "      <td>3.40</td>\n",
       "      <td>1.0</td>\n",
       "      <td>N</td>\n",
       "      <td>239</td>\n",
       "      <td>74</td>\n",
       "      <td>1</td>\n",
       "      <td>13.5</td>\n",
       "      <td>3.00</td>\n",
       "      <td>0.5</td>\n",
       "      <td>2.00</td>\n",
       "      <td>0.00</td>\n",
       "      <td>0.3</td>\n",
       "      <td>19.30</td>\n",
       "      <td>2.5</td>\n",
       "      <td>0.00</td>\n",
       "      <td>0.243611</td>\n",
       "    </tr>\n",
       "    <tr>\n",
       "      <th>3</th>\n",
       "      <td>1</td>\n",
       "      <td>2021-12-01 00:10:18</td>\n",
       "      <td>2021-12-01 00:19:20</td>\n",
       "      <td>1.0</td>\n",
       "      <td>1.30</td>\n",
       "      <td>1.0</td>\n",
       "      <td>N</td>\n",
       "      <td>148</td>\n",
       "      <td>87</td>\n",
       "      <td>1</td>\n",
       "      <td>6.5</td>\n",
       "      <td>3.00</td>\n",
       "      <td>0.5</td>\n",
       "      <td>2.05</td>\n",
       "      <td>0.00</td>\n",
       "      <td>0.3</td>\n",
       "      <td>12.35</td>\n",
       "      <td>2.5</td>\n",
       "      <td>0.00</td>\n",
       "      <td>0.150556</td>\n",
       "    </tr>\n",
       "    <tr>\n",
       "      <th>4</th>\n",
       "      <td>1</td>\n",
       "      <td>2021-12-01 00:25:12</td>\n",
       "      <td>2021-12-01 00:39:07</td>\n",
       "      <td>1.0</td>\n",
       "      <td>3.10</td>\n",
       "      <td>1.0</td>\n",
       "      <td>N</td>\n",
       "      <td>231</td>\n",
       "      <td>246</td>\n",
       "      <td>1</td>\n",
       "      <td>12.5</td>\n",
       "      <td>3.00</td>\n",
       "      <td>0.5</td>\n",
       "      <td>2.50</td>\n",
       "      <td>0.00</td>\n",
       "      <td>0.3</td>\n",
       "      <td>18.80</td>\n",
       "      <td>2.5</td>\n",
       "      <td>0.00</td>\n",
       "      <td>0.231944</td>\n",
       "    </tr>\n",
       "  </tbody>\n",
       "</table>\n",
       "</div>"
      ],
      "text/plain": [
       "   VendorID tpep_pickup_datetime tpep_dropoff_datetime  passenger_count  \\\n",
       "0         1  2021-12-01 00:19:51   2021-12-01 00:37:01              1.0   \n",
       "1         2  2021-12-01 00:29:07   2021-12-01 00:45:13              2.0   \n",
       "2         1  2021-12-01 00:12:40   2021-12-01 00:27:17              0.0   \n",
       "3         1  2021-12-01 00:10:18   2021-12-01 00:19:20              1.0   \n",
       "4         1  2021-12-01 00:25:12   2021-12-01 00:39:07              1.0   \n",
       "\n",
       "   trip_distance  RatecodeID store_and_fwd_flag  PULocationID  DOLocationID  \\\n",
       "0           9.30         1.0                  N           138           141   \n",
       "1           2.76         1.0                  N           238            42   \n",
       "2           3.40         1.0                  N           239            74   \n",
       "3           1.30         1.0                  N           148            87   \n",
       "4           3.10         1.0                  N           231           246   \n",
       "\n",
       "   payment_type  fare_amount  extra  mta_tax  tip_amount  tolls_amount  \\\n",
       "0             1         26.5   4.25      0.5        7.60          6.55   \n",
       "1             2         13.0   0.50      0.5        0.00          0.00   \n",
       "2             1         13.5   3.00      0.5        2.00          0.00   \n",
       "3             1          6.5   3.00      0.5        2.05          0.00   \n",
       "4             1         12.5   3.00      0.5        2.50          0.00   \n",
       "\n",
       "   improvement_surcharge  total_amount  congestion_surcharge  airport_fee  \\\n",
       "0                    0.3         45.70                   2.5         1.25   \n",
       "1                    0.3         16.80                   2.5         0.00   \n",
       "2                    0.3         19.30                   2.5         0.00   \n",
       "3                    0.3         12.35                   2.5         0.00   \n",
       "4                    0.3         18.80                   2.5         0.00   \n",
       "\n",
       "   trip_duration  \n",
       "0       0.286111  \n",
       "1       0.268333  \n",
       "2       0.243611  \n",
       "3       0.150556  \n",
       "4       0.231944  "
      ]
     },
     "execution_count": 190,
     "metadata": {},
     "output_type": "execute_result"
    }
   ],
   "source": [
    "%%time\n",
    "df.head()"
   ]
  },
  {
   "cell_type": "markdown",
   "metadata": {},
   "source": [
    "Replace all NAs with 0"
   ]
  },
  {
   "cell_type": "code",
   "execution_count": 191,
   "metadata": {},
   "outputs": [],
   "source": [
    "df = df.fillna(value=0)"
   ]
  },
  {
   "cell_type": "code",
   "execution_count": 192,
   "metadata": {},
   "outputs": [
    {
     "data": {
      "text/plain": [
       "(Delayed('int-a8db3db2-a048-462f-bc21-e01b7a00b064'), 20)"
      ]
     },
     "execution_count": 192,
     "metadata": {},
     "output_type": "execute_result"
    }
   ],
   "source": [
    "df.shape"
   ]
  },
  {
   "cell_type": "code",
   "execution_count": 193,
   "metadata": {},
   "outputs": [
    {
     "data": {
      "text/plain": [
       "3214369"
      ]
     },
     "execution_count": 193,
     "metadata": {},
     "output_type": "execute_result"
    }
   ],
   "source": [
    "len(df)"
   ]
  },
  {
   "cell_type": "markdown",
   "metadata": {},
   "source": [
    "**_The next would be to one-hot encode the categroical variables but we run into Dask related errors which so for now we will skip the categorical variables._**"
   ]
  },
  {
   "cell_type": "markdown",
   "metadata": {},
   "source": [
    "Setup the features and the target variable and then do a train test split. We get the data we need as a pandas dataframe, this should not be needed we should be able to train with the lazy loaded dataframe. We run into errors with the tasks not finding `_sqrt` function, most likely because of using an older version of one of the packages. Updating the packages would mean using a newer container for the Dask scheduler and container, I tried that but that created other problems and for the purpose of this notebook I decided to stick to getting the data locally into this notebook and then relying on Dask to distribute it again, know that this is not how it will work in production."
   ]
  },
  {
   "cell_type": "code",
   "execution_count": 194,
   "metadata": {},
   "outputs": [],
   "source": [
    "#x = df[['VendorID','RatecodeID','PULocationID','DOLocationID','passenger_count','trip_distance','fare_amount','total_amount']]\n",
    "x = df[['passenger_count','trip_distance','fare_amount','total_amount']].compute()"
   ]
  },
  {
   "cell_type": "code",
   "execution_count": 195,
   "metadata": {},
   "outputs": [],
   "source": [
    "y = df['trip_duration'].compute()"
   ]
  },
  {
   "cell_type": "code",
   "execution_count": 196,
   "metadata": {},
   "outputs": [],
   "source": [
    "X_train, X_test, y_train, y_test = train_test_split(x, y, random_state=1)"
   ]
  },
  {
   "cell_type": "code",
   "execution_count": 197,
   "metadata": {},
   "outputs": [
    {
     "data": {
      "text/plain": [
       "(2892932, 321437, 2892932, 321437)"
      ]
     },
     "execution_count": 197,
     "metadata": {},
     "output_type": "execute_result"
    }
   ],
   "source": [
    "len(X_train), len(X_test), len(y_train), len(y_test)"
   ]
  },
  {
   "cell_type": "markdown",
   "metadata": {},
   "source": [
    "The Dask API does not support dataframe so extract the array as `values`."
   ]
  },
  {
   "cell_type": "code",
   "execution_count": 198,
   "metadata": {},
   "outputs": [],
   "source": [
    "training_x = X_train.values\n",
    "training_y = y_train.values"
   ]
  },
  {
   "cell_type": "code",
   "execution_count": 199,
   "metadata": {},
   "outputs": [
    {
     "data": {
      "text/plain": [
       "array([[ 2.  ,  2.1 , 12.  , 15.3 ],\n",
       "       [ 1.  ,  0.73,  6.5 , 11.8 ],\n",
       "       [ 1.  ,  1.03,  6.5 , 12.74],\n",
       "       ...,\n",
       "       [ 1.  ,  1.5 ,  8.5 , 15.35],\n",
       "       [ 2.  ,  1.32,  8.  , 14.75],\n",
       "       [ 2.  ,  5.5 , 17.5 , 25.5 ]])"
      ]
     },
     "execution_count": 199,
     "metadata": {},
     "output_type": "execute_result"
    }
   ],
   "source": [
    "training_x"
   ]
  },
  {
   "cell_type": "code",
   "execution_count": 200,
   "metadata": {},
   "outputs": [],
   "source": [
    "testing_x = X_test.values\n",
    "testing_y = y_test.values"
   ]
  },
  {
   "cell_type": "code",
   "execution_count": 201,
   "metadata": {},
   "outputs": [],
   "source": [
    "def rmse(preds, actuals):\n",
    "    error = mean_squared_error(actuals, preds)\n",
    "    rmse = np.sqrt(error)\n",
    "    print(rmse)\n"
   ]
  },
  {
   "cell_type": "markdown",
   "metadata": {},
   "source": [
    "Train the linear regression model on the Dask cluster."
   ]
  },
  {
   "cell_type": "code",
   "execution_count": 202,
   "metadata": {},
   "outputs": [],
   "source": [
    "with joblib.parallel_backend('dask'):\n",
    "    lr = LinearRegression(random_state=1, fit_intercept=True)\n",
    "    lr.fit(training_x,training_y)"
   ]
  },
  {
   "cell_type": "markdown",
   "metadata": {},
   "source": [
    "Prediction and RMSE."
   ]
  },
  {
   "cell_type": "code",
   "execution_count": 203,
   "metadata": {},
   "outputs": [
    {
     "data": {
      "text/plain": [
       "array([0.17399377, 0.22467164, 0.29907055, ..., 0.2305248 , 0.4457403 ,\n",
       "       0.55201213])"
      ]
     },
     "execution_count": 203,
     "metadata": {},
     "output_type": "execute_result"
    }
   ],
   "source": [
    "preds = lr.predict(testing_x)\n",
    "preds"
   ]
  },
  {
   "cell_type": "code",
   "execution_count": 204,
   "metadata": {},
   "outputs": [
    {
     "data": {
      "text/plain": [
       "array([0.0625    , 0.22388889, 0.25      , ..., 0.18888889, 0.38972222,\n",
       "       0.53055556])"
      ]
     },
     "execution_count": 204,
     "metadata": {},
     "output_type": "execute_result"
    }
   ],
   "source": [
    "testing_y"
   ]
  },
  {
   "cell_type": "code",
   "execution_count": 205,
   "metadata": {},
   "outputs": [
    {
     "name": "stdout",
     "output_type": "stream",
     "text": [
      "0.9388594632958012\n"
     ]
    }
   ],
   "source": [
    "rmse(preds, testing_y)"
   ]
  },
  {
   "cell_type": "markdown",
   "metadata": {},
   "source": [
    "Here is the DAG for the linear regression.\n",
    "![](img/dask-ui-6.png)"
   ]
  },
  {
   "cell_type": "markdown",
   "metadata": {},
   "source": [
    "**_Here is the CPU utilization across tasks when the model was being trained on all 12 months of data with the data being stored in a Dask dataframe_**.\n",
    "![](img/dask-ui-5.png)"
   ]
  },
  {
   "cell_type": "markdown",
   "metadata": {},
   "source": [
    "---\n",
    "\n",
    "## Scale in the cluster when done\n",
    "Very important to scale the cluster back to the one task as it was originally"
   ]
  },
  {
   "cell_type": "code",
   "execution_count": 1,
   "metadata": {},
   "outputs": [
    {
     "name": "stdout",
     "output_type": "stream",
     "text": [
      "{\n",
      "    \"service\": {\n",
      "        \"serviceArn\": \"arn:aws:ecs:us-east-1:015469603702:service/Fargate-Dask-Cluster/Dask-Workers\",\n",
      "        \"serviceName\": \"Dask-Workers\",\n",
      "        \"clusterArn\": \"arn:aws:ecs:us-east-1:015469603702:cluster/Fargate-Dask-Cluster\",\n",
      "        \"loadBalancers\": [],\n",
      "        \"serviceRegistries\": [\n",
      "            {\n",
      "                \"registryArn\": \"arn:aws:servicediscovery:us-east-1:015469603702:service/srv-kwhqanurpvkf7bwr\"\n",
      "            }\n",
      "        ],\n",
      "        \"status\": \"ACTIVE\",\n",
      "        \"desiredCount\": 1,\n",
      "        \"runningCount\": 24,\n",
      "        \"pendingCount\": 0,\n",
      "        \"launchType\": \"FARGATE\",\n",
      "        \"platformVersion\": \"LATEST\",\n",
      "        \"platformFamily\": \"Linux\",\n",
      "        \"taskDefinition\": \"arn:aws:ecs:us-east-1:015469603702:task-definition/cloudformation-dask-workers-v1:7\",\n",
      "        \"deploymentConfiguration\": {\n",
      "            \"deploymentCircuitBreaker\": {\n",
      "                \"enable\": false,\n",
      "                \"rollback\": false\n",
      "            },\n",
      "            \"maximumPercent\": 200,\n",
      "            \"minimumHealthyPercent\": 100\n",
      "        },\n",
      "        \"deployments\": [\n",
      "            {\n",
      "                \"id\": \"ecs-svc/2963306468352275244\",\n",
      "                \"status\": \"PRIMARY\",\n",
      "                \"taskDefinition\": \"arn:aws:ecs:us-east-1:015469603702:task-definition/cloudformation-dask-workers-v1:7\",\n",
      "                \"desiredCount\": 1,\n",
      "                \"pendingCount\": 0,\n",
      "                \"runningCount\": 24,\n",
      "                \"failedTasks\": 0,\n",
      "                \"createdAt\": 1664048111.239,\n",
      "                \"updatedAt\": 1664054273.13,\n",
      "                \"launchType\": \"FARGATE\",\n",
      "                \"platformVersion\": \"1.4.0\",\n",
      "                \"platformFamily\": \"Linux\",\n",
      "                \"networkConfiguration\": {\n",
      "                    \"awsvpcConfiguration\": {\n",
      "                        \"subnets\": [\n",
      "                            \"subnet-0475c6cf7ec265cfe\"\n",
      "                        ],\n",
      "                        \"securityGroups\": [\n",
      "                            \"sg-0864a0ad6ee8a68f0\"\n",
      "                        ],\n",
      "                        \"assignPublicIp\": \"ENABLED\"\n",
      "                    }\n",
      "                },\n",
      "                \"rolloutState\": \"COMPLETED\",\n",
      "                \"rolloutStateReason\": \"ECS deployment ecs-svc/2963306468352275244 completed.\"\n",
      "            }\n",
      "        ],\n",
      "        \"roleArn\": \"arn:aws:iam::015469603702:role/aws-service-role/ecs.amazonaws.com/AWSServiceRoleForECS\",\n",
      "        \"events\": [\n",
      "            {\n",
      "                \"id\": \"7b56a416-8b0c-465a-b64d-80fd2e04ce2f\",\n",
      "                \"createdAt\": 1664054273.138,\n",
      "                \"message\": \"(service Dask-Workers) has reached a steady state.\"\n",
      "            },\n",
      "            {\n",
      "                \"id\": \"de6f5271-7162-44bb-b096-eb21fd107e5d\",\n",
      "                \"createdAt\": 1664054083.98,\n",
      "                \"message\": \"(service Dask-Workers) has started 12 tasks: (task 874319b8a6e742d1ad044aa9286d26b5) (task a4b6817fecb345d491e5967446d0e51b) (task 28f444688e6240f2bef710321054e56b) (task 94a3375422294f448473be2850f2d24d) (task b61356a721d14138a324e85a77af21a9) (task 24829202bac9477884bc28ec01f7c8e3) (task 553a461c4e3941598e8644b15f7bfcdd) (task 3b684184638648d28dc35d0df35ded37) (task 4a6cbf334aff47919292ccb65588b890) (task 5c2628b8cbb247e39f1bceaed7f8e2d8) (task ada31d8ef30645b7a1cffbb50de24f46) (task b3da7ab624e24c1fb91d67170ab06b51).\"\n",
      "            },\n",
      "            {\n",
      "                \"id\": \"15cf6f4b-468a-42c7-ad72-e19803c7011c\",\n",
      "                \"createdAt\": 1664053867.99,\n",
      "                \"message\": \"(service Dask-Workers) has reached a steady state.\"\n",
      "            },\n",
      "            {\n",
      "                \"id\": \"c3b928da-9170-4c1a-a279-68fb747548a2\",\n",
      "                \"createdAt\": 1664053703.729,\n",
      "                \"message\": \"(service Dask-Workers) has started 6 tasks: (task faf7aeafab044439b5171bf5e6e39f58) (task fc93c574c2164610a984ed09c9ea8bce) (task 2074cb1069914eb2ae58b110c0c91e82) (task b88ce12b080e4a5e9b3a8b9cd90a5565) (task 996d377e09c844fdb77786eef5177218) (task 745d58ce5c324075b11febf9c636960b).\"\n",
      "            },\n",
      "            {\n",
      "                \"id\": \"b2626e88-7c3e-4dec-a3f5-90c109dc51fc\",\n",
      "                \"createdAt\": 1664052347.466,\n",
      "                \"message\": \"(service Dask-Workers) has reached a steady state.\"\n",
      "            },\n",
      "            {\n",
      "                \"id\": \"35fe7ba2-31a3-401f-99f6-ac2dcebdf6ea\",\n",
      "                \"createdAt\": 1664052135.841,\n",
      "                \"message\": \"(service Dask-Workers) has started 5 tasks: (task 040fcc3d429a4793a57471f132d7a813) (task d5b21cb9ac6e4f09ac1aa4cc622a0d6a) (task 1034c46b3948460cb39c16c1bdd46d52) (task c468c49ca500435cad7924628fde7832) (task d6211f2ef82247c2b7410feb0d3374ad).\"\n",
      "            },\n",
      "            {\n",
      "                \"id\": \"1247d3c8-58d0-4f1b-939e-9a9acefabe5e\",\n",
      "                \"createdAt\": 1664048262.727,\n",
      "                \"message\": \"(service Dask-Workers) has reached a steady state.\"\n",
      "            },\n",
      "            {\n",
      "                \"id\": \"2b9018b2-0dcb-455d-9f66-ab02099518dd\",\n",
      "                \"createdAt\": 1664048262.726,\n",
      "                \"message\": \"(service Dask-Workers) (deployment ecs-svc/2963306468352275244) deployment completed.\"\n",
      "            },\n",
      "            {\n",
      "                \"id\": \"5242bbfc-b0a9-49a5-b6c2-d76580d3324c\",\n",
      "                \"createdAt\": 1664048116.865,\n",
      "                \"message\": \"(service Dask-Workers) has started 1 tasks: (task 2278f12872da4997ac6333322e18986f).\"\n",
      "            }\n",
      "        ],\n",
      "        \"createdAt\": 1664048111.239,\n",
      "        \"placementConstraints\": [],\n",
      "        \"placementStrategy\": [],\n",
      "        \"networkConfiguration\": {\n",
      "            \"awsvpcConfiguration\": {\n",
      "                \"subnets\": [\n",
      "                    \"subnet-0475c6cf7ec265cfe\"\n",
      "                ],\n",
      "                \"securityGroups\": [\n",
      "                    \"sg-0864a0ad6ee8a68f0\"\n",
      "                ],\n",
      "                \"assignPublicIp\": \"ENABLED\"\n",
      "            }\n",
      "        },\n",
      "        \"schedulingStrategy\": \"REPLICA\",\n",
      "        \"createdBy\": \"arn:aws:iam::015469603702:user/iamadmin\",\n",
      "        \"enableECSManagedTags\": false,\n",
      "        \"propagateTags\": \"NONE\",\n",
      "        \"enableExecuteCommand\": false\n",
      "    }\n",
      "}\n"
     ]
    }
   ],
   "source": [
    "!sudo aws ecs update-service --service Dask-Workers --desired-count 1 --cluster Fargate-Dask-Cluster"
   ]
  },
  {
   "cell_type": "markdown",
   "metadata": {},
   "source": [
    "Trust but verify!\n",
    "\n",
    "![](img/dask-ui-7.png)"
   ]
  },
  {
   "cell_type": "code",
   "execution_count": null,
   "metadata": {},
   "outputs": [],
   "source": []
  }
 ],
 "metadata": {
  "instance_type": "ml.t3.medium",
  "kernelspec": {
   "display_name": "Python 3 (Data Science)",
   "language": "python",
   "name": "python3__SAGEMAKER_INTERNAL__arn:aws:sagemaker:us-east-1:081325390199:image/datascience-1.0"
  },
  "language_info": {
   "codemirror_mode": {
    "name": "ipython",
    "version": 3
   },
   "file_extension": ".py",
   "mimetype": "text/x-python",
   "name": "python",
   "nbconvert_exporter": "python",
   "pygments_lexer": "ipython3",
   "version": "3.7.10"
  }
 },
 "nbformat": 4,
 "nbformat_minor": 5
}
