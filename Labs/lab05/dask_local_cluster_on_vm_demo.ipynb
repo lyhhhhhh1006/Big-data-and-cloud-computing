{
 "cells": [
  {
   "cell_type": "markdown",
   "id": "cd0d3ae7",
   "metadata": {},
   "source": [
    "# Local Cluster Dask Demo\n",
    "\n",
    "_**Connect to a Local Dask Cluster on this machine and run analytics**_\n",
    "\n",
    "This notebook works well with the `Python 3 (Data Science)` kernel on SageMaker Studio Notebook Instances with the `ml.t3.xlarge` instance (4 vCPU + 16GiB).\n",
    "\n",
    "---\n",
    "\n",
    "This notebook creates a local Dask cluster and then it reads the NYC taxi dataset from an S3 bucket and illustrates how to perform basic analytics tasks and machine learning tasks. \n",
    "\n",
    "1. Then the cluster is scaled up to demonstrate that the time taken for the analytics task decreases as the cluster scales up. \n",
    "\n",
    "1. A ML task is demonstrated on the same dataset using Dask-ML. \n",
    "\n",
    "**It is important to stick to the exact same version of the dependencies as installed in this notebook. Any changes to anything in this notebook or cloud formation scripts would most likely cause things to break and lead to a dependency hell.**\n",
    "\n",
    "---\n",
    "\n",
    "---\n",
    "\n",
    "## Contents\n",
    "1. [Tasks do be done in this lab](#Tasks-do-be-done-in-this-lab)\n",
    "1. [Prepare the environment](#Prepare-the-environment)\n",
    "1. [Connect to the Dask Cluster](#Connect-to-the-Dask-Cluster)\n",
    "1. [Exploratory Data Analytics](#Exploratory-Data-Analytics)\n",
    "1. [Scale out the cluster to see if the operations become faster](#Scale-out-the-cluster-to-see-if-the-operations-become-faster)\n",
    "1. [Remove anomalies and plot the distribution](#Remove-anomalies-and-plot-the-distribution)\n",
    "1. [Machine Learning with Dask](#Machine-Learning-with-Dask)\n",
    "\n",
    "_**During the course of execution of this notebook you might see errors such as `distributed.nanny - WARNING - Worker process still alive after 3.9999988555908206 seconds, killing` these are OK, especially if the thing that you asked Dask to do did indeed complete, see more here [Why did my worker die?](https://distributed.dask.org/en/stable/killed.html).**_"
   ]
  },
  {
   "cell_type": "markdown",
   "id": "d2856231",
   "metadata": {},
   "source": [
    "---\n",
    "\n",
    "## Tasks do be done in this lab\n",
    "\n",
    "There are 4 tasks to be done in this lab. Look for `TASK 1`, `TASK 2`, `TASK 3` and `TASK 4` in this notebook for instructions for each of the tasks. You would need to write code for each of the task and save the output requested in a file as per the instructions provided for each task."
   ]
  },
  {
   "cell_type": "markdown",
   "id": "1f62e66f",
   "metadata": {},
   "source": [
    "---\n",
    "\n",
    "## Prepare the environment\n",
    "\n",
    "Install the exact version of Python packages that work with the Dask cluster (based on the container used by the Dask cluster, see cloud formation templates)."
   ]
  },
  {
   "cell_type": "code",
   "execution_count": 2,
   "id": "b9dee602",
   "metadata": {},
   "outputs": [
    {
     "name": "stdout",
     "output_type": "stream",
     "text": [
      "Requirement already satisfied: dask[complete]==2022.2.0 in /opt/conda/lib/python3.7/site-packages (2022.2.0)\n",
      "Requirement already satisfied: s3fs==2022.7.1 in /opt/conda/lib/python3.7/site-packages (2022.7.1)\n",
      "Requirement already satisfied: pyarrow==9.0.0 in /opt/conda/lib/python3.7/site-packages (9.0.0)\n",
      "Requirement already satisfied: dask-glm==0.2.0 in /opt/conda/lib/python3.7/site-packages (0.2.0)\n",
      "Requirement already satisfied: cytoolz==0.12.0 in /opt/conda/lib/python3.7/site-packages (0.12.0)\n",
      "Requirement already satisfied: dask-ml==2022.5.27 in /opt/conda/lib/python3.7/site-packages (2022.5.27)\n",
      "Requirement already satisfied: partd>=0.3.10 in /opt/conda/lib/python3.7/site-packages (from dask[complete]==2022.2.0) (1.1.0)\n",
      "Requirement already satisfied: fsspec>=0.6.0 in /opt/conda/lib/python3.7/site-packages (from dask[complete]==2022.2.0) (2022.7.1)\n",
      "Requirement already satisfied: pyyaml>=5.3.1 in /opt/conda/lib/python3.7/site-packages (from dask[complete]==2022.2.0) (6.0)\n",
      "Requirement already satisfied: toolz>=0.8.2 in /opt/conda/lib/python3.7/site-packages (from dask[complete]==2022.2.0) (0.10.0)\n",
      "Requirement already satisfied: packaging>=20.0 in /opt/conda/lib/python3.7/site-packages (from dask[complete]==2022.2.0) (20.1)\n",
      "Requirement already satisfied: cloudpickle>=1.1.1 in /opt/conda/lib/python3.7/site-packages (from dask[complete]==2022.2.0) (2.1.0)\n",
      "Requirement already satisfied: distributed==2022.02.0 in /opt/conda/lib/python3.7/site-packages (from dask[complete]==2022.2.0) (2022.2.0)\n",
      "Requirement already satisfied: jinja2 in /opt/conda/lib/python3.7/site-packages (from dask[complete]==2022.2.0) (3.1.2)\n",
      "Requirement already satisfied: bokeh>=2.1.1 in /opt/conda/lib/python3.7/site-packages (from dask[complete]==2022.2.0) (2.4.3)\n",
      "Requirement already satisfied: numpy>=1.18 in /opt/conda/lib/python3.7/site-packages (from dask[complete]==2022.2.0) (1.21.6)\n",
      "Requirement already satisfied: pandas>=1.0 in /opt/conda/lib/python3.7/site-packages (from dask[complete]==2022.2.0) (1.3.5)\n",
      "Requirement already satisfied: aiohttp in /opt/conda/lib/python3.7/site-packages (from s3fs==2022.7.1) (3.8.1)\n",
      "Requirement already satisfied: aiobotocore~=2.3.4 in /opt/conda/lib/python3.7/site-packages (from s3fs==2022.7.1) (2.3.4)\n",
      "Requirement already satisfied: multipledispatch>=0.4.9 in /opt/conda/lib/python3.7/site-packages (from dask-glm==0.2.0) (0.6.0)\n",
      "Requirement already satisfied: scikit-learn>=0.18 in /opt/conda/lib/python3.7/site-packages (from dask-glm==0.2.0) (1.0.2)\n",
      "Requirement already satisfied: scipy>=0.18.1 in /opt/conda/lib/python3.7/site-packages (from dask-glm==0.2.0) (1.4.1)\n",
      "Requirement already satisfied: numba>=0.51.0 in /opt/conda/lib/python3.7/site-packages (from dask-ml==2022.5.27) (0.56.0)\n",
      "Requirement already satisfied: tblib>=1.6.0 in /opt/conda/lib/python3.7/site-packages (from distributed==2022.02.0->dask[complete]==2022.2.0) (1.6.0)\n",
      "Requirement already satisfied: psutil>=5.0 in /opt/conda/lib/python3.7/site-packages (from distributed==2022.02.0->dask[complete]==2022.2.0) (5.6.7)\n",
      "Requirement already satisfied: click>=6.6 in /opt/conda/lib/python3.7/site-packages (from distributed==2022.02.0->dask[complete]==2022.2.0) (7.0)\n",
      "Requirement already satisfied: tornado>=5 in /opt/conda/lib/python3.7/site-packages (from distributed==2022.02.0->dask[complete]==2022.2.0) (6.2)\n",
      "Requirement already satisfied: sortedcontainers!=2.0.0,!=2.0.1 in /opt/conda/lib/python3.7/site-packages (from distributed==2022.02.0->dask[complete]==2022.2.0) (2.1.0)\n",
      "Requirement already satisfied: setuptools in /opt/conda/lib/python3.7/site-packages (from distributed==2022.02.0->dask[complete]==2022.2.0) (59.3.0)\n",
      "Requirement already satisfied: msgpack>=0.6.0 in /opt/conda/lib/python3.7/site-packages (from distributed==2022.02.0->dask[complete]==2022.2.0) (0.6.1)\n",
      "Requirement already satisfied: zict>=0.1.3 in /opt/conda/lib/python3.7/site-packages (from distributed==2022.02.0->dask[complete]==2022.2.0) (1.0.0)\n",
      "Requirement already satisfied: botocore<1.24.22,>=1.24.21 in /opt/conda/lib/python3.7/site-packages (from aiobotocore~=2.3.4->s3fs==2022.7.1) (1.24.21)\n",
      "Requirement already satisfied: aioitertools>=0.5.1 in /opt/conda/lib/python3.7/site-packages (from aiobotocore~=2.3.4->s3fs==2022.7.1) (0.10.0)\n",
      "Requirement already satisfied: wrapt>=1.10.10 in /opt/conda/lib/python3.7/site-packages (from aiobotocore~=2.3.4->s3fs==2022.7.1) (1.11.2)\n",
      "Requirement already satisfied: frozenlist>=1.1.1 in /opt/conda/lib/python3.7/site-packages (from aiohttp->s3fs==2022.7.1) (1.3.1)\n",
      "Requirement already satisfied: typing-extensions>=3.7.4 in /opt/conda/lib/python3.7/site-packages (from aiohttp->s3fs==2022.7.1) (4.3.0)\n",
      "Requirement already satisfied: async-timeout<5.0,>=4.0.0a3 in /opt/conda/lib/python3.7/site-packages (from aiohttp->s3fs==2022.7.1) (4.0.2)\n",
      "Requirement already satisfied: asynctest==0.13.0 in /opt/conda/lib/python3.7/site-packages (from aiohttp->s3fs==2022.7.1) (0.13.0)\n",
      "Requirement already satisfied: attrs>=17.3.0 in /opt/conda/lib/python3.7/site-packages (from aiohttp->s3fs==2022.7.1) (21.4.0)\n",
      "Requirement already satisfied: charset-normalizer<3.0,>=2.0 in /opt/conda/lib/python3.7/site-packages (from aiohttp->s3fs==2022.7.1) (2.0.4)\n",
      "Requirement already satisfied: aiosignal>=1.1.2 in /opt/conda/lib/python3.7/site-packages (from aiohttp->s3fs==2022.7.1) (1.2.0)\n",
      "Requirement already satisfied: multidict<7.0,>=4.5 in /opt/conda/lib/python3.7/site-packages (from aiohttp->s3fs==2022.7.1) (6.0.2)\n",
      "Requirement already satisfied: yarl<2.0,>=1.0 in /opt/conda/lib/python3.7/site-packages (from aiohttp->s3fs==2022.7.1) (1.8.1)\n",
      "Requirement already satisfied: pillow>=7.1.0 in /opt/conda/lib/python3.7/site-packages (from bokeh>=2.1.1->dask[complete]==2022.2.0) (9.2.0)\n",
      "Requirement already satisfied: MarkupSafe>=2.0 in /opt/conda/lib/python3.7/site-packages (from jinja2->dask[complete]==2022.2.0) (2.1.1)\n",
      "Requirement already satisfied: six in /opt/conda/lib/python3.7/site-packages (from multipledispatch>=0.4.9->dask-glm==0.2.0) (1.14.0)\n",
      "Requirement already satisfied: importlib-metadata in /opt/conda/lib/python3.7/site-packages (from numba>=0.51.0->dask-ml==2022.5.27) (4.12.0)\n",
      "Requirement already satisfied: llvmlite<0.40,>=0.39.0dev0 in /opt/conda/lib/python3.7/site-packages (from numba>=0.51.0->dask-ml==2022.5.27) (0.39.0)\n",
      "Requirement already satisfied: pyparsing>=2.0.2 in /opt/conda/lib/python3.7/site-packages (from packaging>=20.0->dask[complete]==2022.2.0) (2.4.6)\n",
      "Requirement already satisfied: python-dateutil>=2.7.3 in /opt/conda/lib/python3.7/site-packages (from pandas>=1.0->dask[complete]==2022.2.0) (2.8.1)\n",
      "Requirement already satisfied: pytz>=2017.3 in /opt/conda/lib/python3.7/site-packages (from pandas>=1.0->dask[complete]==2022.2.0) (2019.3)\n",
      "Requirement already satisfied: locket in /opt/conda/lib/python3.7/site-packages (from partd>=0.3.10->dask[complete]==2022.2.0) (0.2.0)\n",
      "Requirement already satisfied: joblib>=0.11 in /opt/conda/lib/python3.7/site-packages (from scikit-learn>=0.18->dask-glm==0.2.0) (0.14.1)\n",
      "Requirement already satisfied: threadpoolctl>=2.0.0 in /opt/conda/lib/python3.7/site-packages (from scikit-learn>=0.18->dask-glm==0.2.0) (3.1.0)\n",
      "Requirement already satisfied: jmespath<2.0.0,>=0.7.1 in /opt/conda/lib/python3.7/site-packages (from botocore<1.24.22,>=1.24.21->aiobotocore~=2.3.4->s3fs==2022.7.1) (1.0.1)\n",
      "Requirement already satisfied: urllib3<1.27,>=1.25.4 in /opt/conda/lib/python3.7/site-packages (from botocore<1.24.22,>=1.24.21->aiobotocore~=2.3.4->s3fs==2022.7.1) (1.26.12)\n",
      "Requirement already satisfied: idna>=2.0 in /opt/conda/lib/python3.7/site-packages (from yarl<2.0,>=1.0->aiohttp->s3fs==2022.7.1) (2.8)\n",
      "Requirement already satisfied: heapdict in /opt/conda/lib/python3.7/site-packages (from zict>=0.1.3->distributed==2022.02.0->dask[complete]==2022.2.0) (1.0.1)\n",
      "Requirement already satisfied: zipp>=0.5 in /opt/conda/lib/python3.7/site-packages (from importlib-metadata->numba>=0.51.0->dask-ml==2022.5.27) (3.8.1)\n",
      "\u001b[33mWARNING: Running pip as the 'root' user can result in broken permissions and conflicting behaviour with the system package manager. It is recommended to use a virtual environment instead: https://pip.pypa.io/warnings/venv\u001b[0m\u001b[33m\n",
      "\u001b[0m"
     ]
    }
   ],
   "source": [
    "!pip install dask[complete]==2022.2.0 s3fs==2022.7.1 pyarrow==9.0.0 dask-glm==0.2.0 cytoolz==0.12.0 dask-ml==2022.5.27"
   ]
  },
  {
   "cell_type": "markdown",
   "id": "2cd3ff34",
   "metadata": {},
   "source": [
    "Install `htop` so that we can see the CPU and memory utilization because we would not be able to connect to the web portal of the local cluster (although there are ways of doing this but we would not be doing that in this class, see [ngrok](https://ngrok.com/))"
   ]
  },
  {
   "cell_type": "code",
   "execution_count": 3,
   "id": "29b65f38",
   "metadata": {},
   "outputs": [
    {
     "name": "stdout",
     "output_type": "stream",
     "text": [
      "Get:1 http://security.debian.org/debian-security buster/updates InRelease [34.8 kB]\n",
      "Hit:2 http://deb.debian.org/debian buster InRelease       \n",
      "Get:3 http://deb.debian.org/debian buster-updates InRelease [56.6 kB]\n",
      "Get:4 http://security.debian.org/debian-security buster/updates/main amd64 Packages [364 kB]\n",
      "Fetched 455 kB in 0s (1030 kB/s)  \n",
      "Reading package lists... Done\n",
      "Reading package lists... Done\n",
      "Building dependency tree       \n",
      "Reading state information... Done\n",
      "htop is already the newest version (2.2.0-1+b1).\n",
      "0 upgraded, 0 newly installed, 0 to remove and 63 not upgraded.\n"
     ]
    }
   ],
   "source": [
    "!apt-get update\n",
    "!apt-get install -y htop"
   ]
  },
  {
   "cell_type": "code",
   "execution_count": 4,
   "id": "0d122081",
   "metadata": {},
   "outputs": [],
   "source": [
    "import os\n",
    "import dask\n",
    "import s3fs\n",
    "import time\n",
    "import joblib\n",
    "import distributed\n",
    "import numpy as np\n",
    "import pandas as pd\n",
    "import dask.dataframe as dd\n",
    "import matplotlib.pyplot as plt\n",
    "from dask.distributed import Client\n",
    "from dask.distributed import LocalCluster\n",
    "from sklearn.metrics import mean_squared_error\n",
    "from dask.distributed import performance_report\n",
    "from dask_ml.linear_model import LinearRegression\n",
    "from dask_ml.model_selection import train_test_split"
   ]
  },
  {
   "cell_type": "markdown",
   "id": "461fb8c0",
   "metadata": {},
   "source": [
    "---\n",
    "\n",
    "## Connect to the Dask Cluster\n",
    "\n",
    "With the right packages installed, now create and connect to the Dask cluster. Any Dask operations we do after that are automatically done at the _local_ cluster.\n",
    "\n",
    "As created, the Dask cluster has one _scheduler task_ and as many _worker tasks_ as there are vCPUs on this instance."
   ]
  },
  {
   "cell_type": "code",
   "execution_count": 5,
   "id": "cabd7979",
   "metadata": {},
   "outputs": [],
   "source": [
    "# enable this client for fargate distributed cluster testing\n",
    "cluster = LocalCluster()\n",
    "client = Client(cluster)"
   ]
  },
  {
   "cell_type": "code",
   "execution_count": 6,
   "id": "4045fcdb",
   "metadata": {},
   "outputs": [
    {
     "data": {
      "application/vnd.jupyter.widget-view+json": {
       "model_id": "bfb6b0bec1024f7db6ef599e793485ca",
       "version_major": 2,
       "version_minor": 0
      },
      "text/plain": [
       "Tab(children=(HTML(value='<div class=\"jp-RenderedHTMLCommon jp-RenderedHTML jp-mod-trusted jp-OutputArea-outpu…"
      ]
     },
     "metadata": {},
     "output_type": "display_data"
    }
   ],
   "source": [
    "client.cluster"
   ]
  },
  {
   "cell_type": "markdown",
   "id": "879be4f2",
   "metadata": {},
   "source": [
    "Link to this cluster, we will not be able to access this, but if you run this notebook on your laptop you will be able to access it."
   ]
  },
  {
   "cell_type": "code",
   "execution_count": 7,
   "id": "d77a760d",
   "metadata": {},
   "outputs": [
    {
     "data": {
      "text/plain": [
       "'http://127.0.0.1:8787/status'"
      ]
     },
     "execution_count": 7,
     "metadata": {},
     "output_type": "execute_result"
    }
   ],
   "source": [
    "cluster.dashboard_link"
   ]
  },
  {
   "cell_type": "markdown",
   "id": "e81ec365",
   "metadata": {},
   "source": [
    "Use the `get_logs` function to access the logs of this cluster. Each task also has its web page."
   ]
  },
  {
   "cell_type": "code",
   "execution_count": 8,
   "id": "79013ad9",
   "metadata": {},
   "outputs": [
    {
     "data": {
      "text/html": [
       "\n",
       "    <details>\n",
       "    <summary style='display:list-item'>Cluster</summary>\n",
       "    \n",
       "    \n",
       "        <p style=\"font-family: monospace; margin: 0;\"></p>\n",
       "    \n",
       "\n",
       "    </details>\n",
       "\n",
       "    <details>\n",
       "    <summary style='display:list-item'>Scheduler</summary>\n",
       "    \n",
       "    \n",
       "        <p style=\"font-family: monospace; margin: 0;\">distributed.scheduler - INFO - Clear task state</p>\n",
       "    \n",
       "\n",
       "    \n",
       "        <p style=\"font-family: monospace; margin: 0;\">distributed.scheduler - INFO -   Scheduler at:     tcp://127.0.0.1:34297</p>\n",
       "    \n",
       "\n",
       "    \n",
       "        <p style=\"font-family: monospace; margin: 0;\">distributed.scheduler - INFO -   dashboard at:            127.0.0.1:8787</p>\n",
       "    \n",
       "\n",
       "    \n",
       "        <p style=\"font-family: monospace; margin: 0;\">distributed.scheduler - INFO - Register worker &lt;WorkerState &#x27;tcp://127.0.0.1:38689&#x27;, name: 3, status: running, memory: 0, processing: 0&gt;</p>\n",
       "    \n",
       "\n",
       "    \n",
       "        <p style=\"font-family: monospace; margin: 0;\">distributed.scheduler - INFO - Starting worker compute stream, tcp://127.0.0.1:38689</p>\n",
       "    \n",
       "\n",
       "    \n",
       "        <p style=\"font-family: monospace; margin: 0;\">distributed.scheduler - INFO - Register worker &lt;WorkerState &#x27;tcp://127.0.0.1:45699&#x27;, name: 0, status: running, memory: 0, processing: 0&gt;</p>\n",
       "    \n",
       "\n",
       "    \n",
       "        <p style=\"font-family: monospace; margin: 0;\">distributed.scheduler - INFO - Starting worker compute stream, tcp://127.0.0.1:45699</p>\n",
       "    \n",
       "\n",
       "    \n",
       "        <p style=\"font-family: monospace; margin: 0;\">distributed.scheduler - INFO - Register worker &lt;WorkerState &#x27;tcp://127.0.0.1:36073&#x27;, name: 2, status: running, memory: 0, processing: 0&gt;</p>\n",
       "    \n",
       "\n",
       "    \n",
       "        <p style=\"font-family: monospace; margin: 0;\">distributed.scheduler - INFO - Starting worker compute stream, tcp://127.0.0.1:36073</p>\n",
       "    \n",
       "\n",
       "    \n",
       "        <p style=\"font-family: monospace; margin: 0;\">distributed.scheduler - INFO - Register worker &lt;WorkerState &#x27;tcp://127.0.0.1:43419&#x27;, name: 1, status: running, memory: 0, processing: 0&gt;</p>\n",
       "    \n",
       "\n",
       "    \n",
       "        <p style=\"font-family: monospace; margin: 0;\">distributed.scheduler - INFO - Starting worker compute stream, tcp://127.0.0.1:43419</p>\n",
       "    \n",
       "\n",
       "    \n",
       "        <p style=\"font-family: monospace; margin: 0;\">distributed.scheduler - INFO - Receive client connection: Client-61ec5724-40cc-11ed-9184-ebc71c949f13</p>\n",
       "    \n",
       "\n",
       "    </details>\n",
       "\n",
       "    <details>\n",
       "    <summary style='display:list-item'>tcp://127.0.0.1:36073</summary>\n",
       "    \n",
       "    \n",
       "        <p style=\"font-family: monospace; margin: 0;\">distributed.worker - INFO -       Start worker at:      tcp://127.0.0.1:36073</p>\n",
       "    \n",
       "\n",
       "    \n",
       "        <p style=\"font-family: monospace; margin: 0;\">distributed.worker - INFO -          Listening to:      tcp://127.0.0.1:36073</p>\n",
       "    \n",
       "\n",
       "    \n",
       "        <p style=\"font-family: monospace; margin: 0;\">distributed.worker - INFO -          dashboard at:            127.0.0.1:42747</p>\n",
       "    \n",
       "\n",
       "    \n",
       "        <p style=\"font-family: monospace; margin: 0;\">distributed.worker - INFO - Waiting to connect to:      tcp://127.0.0.1:34297</p>\n",
       "    \n",
       "\n",
       "    \n",
       "        <p style=\"font-family: monospace; margin: 0;\">distributed.worker - INFO - -------------------------------------------------</p>\n",
       "    \n",
       "\n",
       "    \n",
       "        <p style=\"font-family: monospace; margin: 0;\">distributed.worker - INFO -               Threads:                          1</p>\n",
       "    \n",
       "\n",
       "    \n",
       "        <p style=\"font-family: monospace; margin: 0;\">distributed.worker - INFO -                Memory:                   3.87 GiB</p>\n",
       "    \n",
       "\n",
       "    \n",
       "        <p style=\"font-family: monospace; margin: 0;\">distributed.worker - INFO -       Local Directory: /root/fall-2022-lab-05-lyhhhhhh1006/dask-worker-space/worker-1753lm0i</p>\n",
       "    \n",
       "\n",
       "    \n",
       "        <p style=\"font-family: monospace; margin: 0;\">distributed.worker - INFO - -------------------------------------------------</p>\n",
       "    \n",
       "\n",
       "    \n",
       "        <p style=\"font-family: monospace; margin: 0;\">distributed.worker - INFO -         Registered to:      tcp://127.0.0.1:34297</p>\n",
       "    \n",
       "\n",
       "    \n",
       "        <p style=\"font-family: monospace; margin: 0;\">distributed.worker - INFO - -------------------------------------------------</p>\n",
       "    \n",
       "\n",
       "    </details>\n",
       "\n",
       "    <details>\n",
       "    <summary style='display:list-item'>tcp://127.0.0.1:38689</summary>\n",
       "    \n",
       "    \n",
       "        <p style=\"font-family: monospace; margin: 0;\">distributed.worker - INFO -       Start worker at:      tcp://127.0.0.1:38689</p>\n",
       "    \n",
       "\n",
       "    \n",
       "        <p style=\"font-family: monospace; margin: 0;\">distributed.worker - INFO -          Listening to:      tcp://127.0.0.1:38689</p>\n",
       "    \n",
       "\n",
       "    \n",
       "        <p style=\"font-family: monospace; margin: 0;\">distributed.worker - INFO -          dashboard at:            127.0.0.1:43917</p>\n",
       "    \n",
       "\n",
       "    \n",
       "        <p style=\"font-family: monospace; margin: 0;\">distributed.worker - INFO - Waiting to connect to:      tcp://127.0.0.1:34297</p>\n",
       "    \n",
       "\n",
       "    \n",
       "        <p style=\"font-family: monospace; margin: 0;\">distributed.worker - INFO - -------------------------------------------------</p>\n",
       "    \n",
       "\n",
       "    \n",
       "        <p style=\"font-family: monospace; margin: 0;\">distributed.worker - INFO -               Threads:                          1</p>\n",
       "    \n",
       "\n",
       "    \n",
       "        <p style=\"font-family: monospace; margin: 0;\">distributed.worker - INFO -                Memory:                   3.87 GiB</p>\n",
       "    \n",
       "\n",
       "    \n",
       "        <p style=\"font-family: monospace; margin: 0;\">distributed.worker - INFO -       Local Directory: /root/fall-2022-lab-05-lyhhhhhh1006/dask-worker-space/worker-8swbhtom</p>\n",
       "    \n",
       "\n",
       "    \n",
       "        <p style=\"font-family: monospace; margin: 0;\">distributed.worker - INFO - -------------------------------------------------</p>\n",
       "    \n",
       "\n",
       "    \n",
       "        <p style=\"font-family: monospace; margin: 0;\">distributed.worker - INFO -         Registered to:      tcp://127.0.0.1:34297</p>\n",
       "    \n",
       "\n",
       "    \n",
       "        <p style=\"font-family: monospace; margin: 0;\">distributed.worker - INFO - -------------------------------------------------</p>\n",
       "    \n",
       "\n",
       "    </details>\n",
       "\n",
       "    <details>\n",
       "    <summary style='display:list-item'>tcp://127.0.0.1:43419</summary>\n",
       "    \n",
       "    \n",
       "        <p style=\"font-family: monospace; margin: 0;\">distributed.worker - INFO -       Start worker at:      tcp://127.0.0.1:43419</p>\n",
       "    \n",
       "\n",
       "    \n",
       "        <p style=\"font-family: monospace; margin: 0;\">distributed.worker - INFO -          Listening to:      tcp://127.0.0.1:43419</p>\n",
       "    \n",
       "\n",
       "    \n",
       "        <p style=\"font-family: monospace; margin: 0;\">distributed.worker - INFO -          dashboard at:            127.0.0.1:45967</p>\n",
       "    \n",
       "\n",
       "    \n",
       "        <p style=\"font-family: monospace; margin: 0;\">distributed.worker - INFO - Waiting to connect to:      tcp://127.0.0.1:34297</p>\n",
       "    \n",
       "\n",
       "    \n",
       "        <p style=\"font-family: monospace; margin: 0;\">distributed.worker - INFO - -------------------------------------------------</p>\n",
       "    \n",
       "\n",
       "    \n",
       "        <p style=\"font-family: monospace; margin: 0;\">distributed.worker - INFO -               Threads:                          1</p>\n",
       "    \n",
       "\n",
       "    \n",
       "        <p style=\"font-family: monospace; margin: 0;\">distributed.worker - INFO -                Memory:                   3.87 GiB</p>\n",
       "    \n",
       "\n",
       "    \n",
       "        <p style=\"font-family: monospace; margin: 0;\">distributed.worker - INFO -       Local Directory: /root/fall-2022-lab-05-lyhhhhhh1006/dask-worker-space/worker-c1jjw4k4</p>\n",
       "    \n",
       "\n",
       "    \n",
       "        <p style=\"font-family: monospace; margin: 0;\">distributed.worker - INFO - -------------------------------------------------</p>\n",
       "    \n",
       "\n",
       "    \n",
       "        <p style=\"font-family: monospace; margin: 0;\">distributed.worker - INFO -         Registered to:      tcp://127.0.0.1:34297</p>\n",
       "    \n",
       "\n",
       "    \n",
       "        <p style=\"font-family: monospace; margin: 0;\">distributed.worker - INFO - -------------------------------------------------</p>\n",
       "    \n",
       "\n",
       "    </details>\n",
       "\n",
       "    <details>\n",
       "    <summary style='display:list-item'>tcp://127.0.0.1:45699</summary>\n",
       "    \n",
       "    \n",
       "        <p style=\"font-family: monospace; margin: 0;\">distributed.worker - INFO -       Start worker at:      tcp://127.0.0.1:45699</p>\n",
       "    \n",
       "\n",
       "    \n",
       "        <p style=\"font-family: monospace; margin: 0;\">distributed.worker - INFO -          Listening to:      tcp://127.0.0.1:45699</p>\n",
       "    \n",
       "\n",
       "    \n",
       "        <p style=\"font-family: monospace; margin: 0;\">distributed.worker - INFO -          dashboard at:            127.0.0.1:34085</p>\n",
       "    \n",
       "\n",
       "    \n",
       "        <p style=\"font-family: monospace; margin: 0;\">distributed.worker - INFO - Waiting to connect to:      tcp://127.0.0.1:34297</p>\n",
       "    \n",
       "\n",
       "    \n",
       "        <p style=\"font-family: monospace; margin: 0;\">distributed.worker - INFO - -------------------------------------------------</p>\n",
       "    \n",
       "\n",
       "    \n",
       "        <p style=\"font-family: monospace; margin: 0;\">distributed.worker - INFO -               Threads:                          1</p>\n",
       "    \n",
       "\n",
       "    \n",
       "        <p style=\"font-family: monospace; margin: 0;\">distributed.worker - INFO -                Memory:                   3.87 GiB</p>\n",
       "    \n",
       "\n",
       "    \n",
       "        <p style=\"font-family: monospace; margin: 0;\">distributed.worker - INFO -       Local Directory: /root/fall-2022-lab-05-lyhhhhhh1006/dask-worker-space/worker-19c6pmu9</p>\n",
       "    \n",
       "\n",
       "    \n",
       "        <p style=\"font-family: monospace; margin: 0;\">distributed.worker - INFO - -------------------------------------------------</p>\n",
       "    \n",
       "\n",
       "    \n",
       "        <p style=\"font-family: monospace; margin: 0;\">distributed.worker - INFO -         Registered to:      tcp://127.0.0.1:34297</p>\n",
       "    \n",
       "\n",
       "    \n",
       "        <p style=\"font-family: monospace; margin: 0;\">distributed.worker - INFO - -------------------------------------------------</p>\n",
       "    \n",
       "\n",
       "    </details>\n"
      ],
      "text/plain": [
       "{'Cluster': '',\n",
       " 'Scheduler': \"distributed.scheduler - INFO - Clear task state\\ndistributed.scheduler - INFO -   Scheduler at:     tcp://127.0.0.1:34297\\ndistributed.scheduler - INFO -   dashboard at:            127.0.0.1:8787\\ndistributed.scheduler - INFO - Register worker <WorkerState 'tcp://127.0.0.1:38689', name: 3, status: running, memory: 0, processing: 0>\\ndistributed.scheduler - INFO - Starting worker compute stream, tcp://127.0.0.1:38689\\ndistributed.scheduler - INFO - Register worker <WorkerState 'tcp://127.0.0.1:45699', name: 0, status: running, memory: 0, processing: 0>\\ndistributed.scheduler - INFO - Starting worker compute stream, tcp://127.0.0.1:45699\\ndistributed.scheduler - INFO - Register worker <WorkerState 'tcp://127.0.0.1:36073', name: 2, status: running, memory: 0, processing: 0>\\ndistributed.scheduler - INFO - Starting worker compute stream, tcp://127.0.0.1:36073\\ndistributed.scheduler - INFO - Register worker <WorkerState 'tcp://127.0.0.1:43419', name: 1, status: running, memory: 0, processing: 0>\\ndistributed.scheduler - INFO - Starting worker compute stream, tcp://127.0.0.1:43419\\ndistributed.scheduler - INFO - Receive client connection: Client-61ec5724-40cc-11ed-9184-ebc71c949f13\",\n",
       " 'tcp://127.0.0.1:36073': 'distributed.worker - INFO -       Start worker at:      tcp://127.0.0.1:36073\\ndistributed.worker - INFO -          Listening to:      tcp://127.0.0.1:36073\\ndistributed.worker - INFO -          dashboard at:            127.0.0.1:42747\\ndistributed.worker - INFO - Waiting to connect to:      tcp://127.0.0.1:34297\\ndistributed.worker - INFO - -------------------------------------------------\\ndistributed.worker - INFO -               Threads:                          1\\ndistributed.worker - INFO -                Memory:                   3.87 GiB\\ndistributed.worker - INFO -       Local Directory: /root/fall-2022-lab-05-lyhhhhhh1006/dask-worker-space/worker-1753lm0i\\ndistributed.worker - INFO - -------------------------------------------------\\ndistributed.worker - INFO -         Registered to:      tcp://127.0.0.1:34297\\ndistributed.worker - INFO - -------------------------------------------------',\n",
       " 'tcp://127.0.0.1:38689': 'distributed.worker - INFO -       Start worker at:      tcp://127.0.0.1:38689\\ndistributed.worker - INFO -          Listening to:      tcp://127.0.0.1:38689\\ndistributed.worker - INFO -          dashboard at:            127.0.0.1:43917\\ndistributed.worker - INFO - Waiting to connect to:      tcp://127.0.0.1:34297\\ndistributed.worker - INFO - -------------------------------------------------\\ndistributed.worker - INFO -               Threads:                          1\\ndistributed.worker - INFO -                Memory:                   3.87 GiB\\ndistributed.worker - INFO -       Local Directory: /root/fall-2022-lab-05-lyhhhhhh1006/dask-worker-space/worker-8swbhtom\\ndistributed.worker - INFO - -------------------------------------------------\\ndistributed.worker - INFO -         Registered to:      tcp://127.0.0.1:34297\\ndistributed.worker - INFO - -------------------------------------------------',\n",
       " 'tcp://127.0.0.1:43419': 'distributed.worker - INFO -       Start worker at:      tcp://127.0.0.1:43419\\ndistributed.worker - INFO -          Listening to:      tcp://127.0.0.1:43419\\ndistributed.worker - INFO -          dashboard at:            127.0.0.1:45967\\ndistributed.worker - INFO - Waiting to connect to:      tcp://127.0.0.1:34297\\ndistributed.worker - INFO - -------------------------------------------------\\ndistributed.worker - INFO -               Threads:                          1\\ndistributed.worker - INFO -                Memory:                   3.87 GiB\\ndistributed.worker - INFO -       Local Directory: /root/fall-2022-lab-05-lyhhhhhh1006/dask-worker-space/worker-c1jjw4k4\\ndistributed.worker - INFO - -------------------------------------------------\\ndistributed.worker - INFO -         Registered to:      tcp://127.0.0.1:34297\\ndistributed.worker - INFO - -------------------------------------------------',\n",
       " 'tcp://127.0.0.1:45699': 'distributed.worker - INFO -       Start worker at:      tcp://127.0.0.1:45699\\ndistributed.worker - INFO -          Listening to:      tcp://127.0.0.1:45699\\ndistributed.worker - INFO -          dashboard at:            127.0.0.1:34085\\ndistributed.worker - INFO - Waiting to connect to:      tcp://127.0.0.1:34297\\ndistributed.worker - INFO - -------------------------------------------------\\ndistributed.worker - INFO -               Threads:                          1\\ndistributed.worker - INFO -                Memory:                   3.87 GiB\\ndistributed.worker - INFO -       Local Directory: /root/fall-2022-lab-05-lyhhhhhh1006/dask-worker-space/worker-19c6pmu9\\ndistributed.worker - INFO - -------------------------------------------------\\ndistributed.worker - INFO -         Registered to:      tcp://127.0.0.1:34297\\ndistributed.worker - INFO - -------------------------------------------------'}"
      ]
     },
     "execution_count": 8,
     "metadata": {},
     "output_type": "execute_result"
    }
   ],
   "source": [
    "cluster.get_logs()"
   ]
  },
  {
   "cell_type": "markdown",
   "id": "9c2970d7",
   "metadata": {},
   "source": [
    "After initiating the scale up of cluster give it about 5 minutes for the additional compute to become available. Note the CPU and memory resources now available to the cluster.This cluster now has 6 works with 12 cores and 24GB RAM (recall we had 2 vCPUs and 4 GB per worker)."
   ]
  },
  {
   "cell_type": "markdown",
   "id": "4824b0d0",
   "metadata": {},
   "source": [
    "---\n",
    "\n",
    "## Exploratory Data Analytics\n",
    "\n",
    "We will be reading the new york taxi dataset for 2021 and running some analytics on it.\n",
    "\n",
    "1. Note the similarity between the Dask dataframe API and the Pandas API.\n",
    "\n",
    "1. Note that we are able to read all the files in one call using the `*` wildcard character.\n",
    "\n",
    "Since this is a local cluster we will not be reading the entire year's worth of file, but just for one month."
   ]
  },
  {
   "cell_type": "markdown",
   "id": "66a202dd",
   "metadata": {},
   "source": [
    "### [TASK 1] Read the files for the last 3 months of the year\n",
    "\n",
    "The demo in the class only read the file for December, for this task we need to read the files for the last **3 months** i.e. October, November and December. But first, **copy the files from `s3://bigdatateaching/nyctaxi-yellow-tripdata/csv/2021/` to your bucket using the following command.**"
   ]
  },
  {
   "cell_type": "code",
   "execution_count": 9,
   "id": "58306632",
   "metadata": {},
   "outputs": [
    {
     "name": "stdout",
     "output_type": "stream",
     "text": [
      "copy: s3://bigdatateaching/nyctaxi-yellow-tripdata/csv/2021/yellow_tripdata_2021-02.csv to s3://anly502-fall-2022-yl1353/nyctaxi-yellow-tripdata/csv/2021/yellow_tripdata_2021-02.csv\n",
      "copy: s3://bigdatateaching/nyctaxi-yellow-tripdata/csv/2021/yellow_tripdata_2021-04.csv to s3://anly502-fall-2022-yl1353/nyctaxi-yellow-tripdata/csv/2021/yellow_tripdata_2021-04.csv\n",
      "copy: s3://bigdatateaching/nyctaxi-yellow-tripdata/csv/2021/yellow_tripdata_2021-01.csv to s3://anly502-fall-2022-yl1353/nyctaxi-yellow-tripdata/csv/2021/yellow_tripdata_2021-01.csv\n",
      "copy: s3://bigdatateaching/nyctaxi-yellow-tripdata/csv/2021/yellow_tripdata_2021-03.csv to s3://anly502-fall-2022-yl1353/nyctaxi-yellow-tripdata/csv/2021/yellow_tripdata_2021-03.csv\n",
      "copy: s3://bigdatateaching/nyctaxi-yellow-tripdata/csv/2021/yellow_tripdata_2021-05.csv to s3://anly502-fall-2022-yl1353/nyctaxi-yellow-tripdata/csv/2021/yellow_tripdata_2021-05.csv\n",
      "copy: s3://bigdatateaching/nyctaxi-yellow-tripdata/csv/2021/yellow_tripdata_2021-06.csv to s3://anly502-fall-2022-yl1353/nyctaxi-yellow-tripdata/csv/2021/yellow_tripdata_2021-06.csv\n",
      "copy: s3://bigdatateaching/nyctaxi-yellow-tripdata/csv/2021/yellow_tripdata_2021-07.csv to s3://anly502-fall-2022-yl1353/nyctaxi-yellow-tripdata/csv/2021/yellow_tripdata_2021-07.csv\n",
      "copy: s3://bigdatateaching/nyctaxi-yellow-tripdata/csv/2021/yellow_tripdata_2021-08.csv to s3://anly502-fall-2022-yl1353/nyctaxi-yellow-tripdata/csv/2021/yellow_tripdata_2021-08.csv\n",
      "copy: s3://bigdatateaching/nyctaxi-yellow-tripdata/csv/2021/yellow_tripdata_2021-09.csv to s3://anly502-fall-2022-yl1353/nyctaxi-yellow-tripdata/csv/2021/yellow_tripdata_2021-09.csv\n",
      "copy: s3://bigdatateaching/nyctaxi-yellow-tripdata/csv/2021/yellow_tripdata_2021-10.csv to s3://anly502-fall-2022-yl1353/nyctaxi-yellow-tripdata/csv/2021/yellow_tripdata_2021-10.csv\n",
      "copy: s3://bigdatateaching/nyctaxi-yellow-tripdata/csv/2021/yellow_tripdata_2021-11.csv to s3://anly502-fall-2022-yl1353/nyctaxi-yellow-tripdata/csv/2021/yellow_tripdata_2021-11.csv\n",
      "copy: s3://bigdatateaching/nyctaxi-yellow-tripdata/csv/2021/yellow_tripdata_2021-12.csv to s3://anly502-fall-2022-yl1353/nyctaxi-yellow-tripdata/csv/2021/yellow_tripdata_2021-12.csv\n"
     ]
    }
   ],
   "source": [
    "!aws s3 cp s3://bigdatateaching/nyctaxi-yellow-tripdata/csv/2021/ s3://anly502-fall-2022-yl1353/nyctaxi-yellow-tripdata/csv/2021 --recursive"
   ]
  },
  {
   "cell_type": "code",
   "execution_count": 10,
   "id": "4f66fe0d",
   "metadata": {},
   "outputs": [],
   "source": [
    "# read the data directly from S3, data is accessible with anonymous credentials\n",
    "months = \"12\" # REPLACE TODO with something to read the files of interest\n",
    "df = dd.read_csv(f's3://anly502-fall-2022-yl1353/nyctaxi-yellow-tripdata/csv/2021/yellow_tripdata_2021-1*.csv',\n",
    "                 parse_dates=['tpep_pickup_datetime','tpep_dropoff_datetime'])"
   ]
  },
  {
   "cell_type": "markdown",
   "id": "00b6041a",
   "metadata": {},
   "source": [
    "The data frame is lazy loaded and is automatically partitioned (you can control this by specifying the `blocksize` parameter, see [read_csv](https://docs.dask.org/en/stable/generated/dask.dataframe.read_csv.html))."
   ]
  },
  {
   "cell_type": "code",
   "execution_count": 11,
   "id": "1e23481d",
   "metadata": {},
   "outputs": [
    {
     "data": {
      "text/html": [
       "<div><strong>Dask DataFrame Structure:</strong></div>\n",
       "<div>\n",
       "<style scoped>\n",
       "    .dataframe tbody tr th:only-of-type {\n",
       "        vertical-align: middle;\n",
       "    }\n",
       "\n",
       "    .dataframe tbody tr th {\n",
       "        vertical-align: top;\n",
       "    }\n",
       "\n",
       "    .dataframe thead th {\n",
       "        text-align: right;\n",
       "    }\n",
       "</style>\n",
       "<table border=\"1\" class=\"dataframe\">\n",
       "  <thead>\n",
       "    <tr style=\"text-align: right;\">\n",
       "      <th></th>\n",
       "      <th>VendorID</th>\n",
       "      <th>tpep_pickup_datetime</th>\n",
       "      <th>tpep_dropoff_datetime</th>\n",
       "      <th>passenger_count</th>\n",
       "      <th>trip_distance</th>\n",
       "      <th>RatecodeID</th>\n",
       "      <th>store_and_fwd_flag</th>\n",
       "      <th>PULocationID</th>\n",
       "      <th>DOLocationID</th>\n",
       "      <th>payment_type</th>\n",
       "      <th>fare_amount</th>\n",
       "      <th>extra</th>\n",
       "      <th>mta_tax</th>\n",
       "      <th>tip_amount</th>\n",
       "      <th>tolls_amount</th>\n",
       "      <th>improvement_surcharge</th>\n",
       "      <th>total_amount</th>\n",
       "      <th>congestion_surcharge</th>\n",
       "      <th>airport_fee</th>\n",
       "    </tr>\n",
       "    <tr>\n",
       "      <th>npartitions=15</th>\n",
       "      <th></th>\n",
       "      <th></th>\n",
       "      <th></th>\n",
       "      <th></th>\n",
       "      <th></th>\n",
       "      <th></th>\n",
       "      <th></th>\n",
       "      <th></th>\n",
       "      <th></th>\n",
       "      <th></th>\n",
       "      <th></th>\n",
       "      <th></th>\n",
       "      <th></th>\n",
       "      <th></th>\n",
       "      <th></th>\n",
       "      <th></th>\n",
       "      <th></th>\n",
       "      <th></th>\n",
       "      <th></th>\n",
       "    </tr>\n",
       "  </thead>\n",
       "  <tbody>\n",
       "    <tr>\n",
       "      <th></th>\n",
       "      <td>int64</td>\n",
       "      <td>datetime64[ns]</td>\n",
       "      <td>datetime64[ns]</td>\n",
       "      <td>float64</td>\n",
       "      <td>float64</td>\n",
       "      <td>float64</td>\n",
       "      <td>object</td>\n",
       "      <td>int64</td>\n",
       "      <td>int64</td>\n",
       "      <td>int64</td>\n",
       "      <td>float64</td>\n",
       "      <td>float64</td>\n",
       "      <td>float64</td>\n",
       "      <td>float64</td>\n",
       "      <td>float64</td>\n",
       "      <td>float64</td>\n",
       "      <td>float64</td>\n",
       "      <td>float64</td>\n",
       "      <td>float64</td>\n",
       "    </tr>\n",
       "    <tr>\n",
       "      <th></th>\n",
       "      <td>...</td>\n",
       "      <td>...</td>\n",
       "      <td>...</td>\n",
       "      <td>...</td>\n",
       "      <td>...</td>\n",
       "      <td>...</td>\n",
       "      <td>...</td>\n",
       "      <td>...</td>\n",
       "      <td>...</td>\n",
       "      <td>...</td>\n",
       "      <td>...</td>\n",
       "      <td>...</td>\n",
       "      <td>...</td>\n",
       "      <td>...</td>\n",
       "      <td>...</td>\n",
       "      <td>...</td>\n",
       "      <td>...</td>\n",
       "      <td>...</td>\n",
       "      <td>...</td>\n",
       "    </tr>\n",
       "    <tr>\n",
       "      <th>...</th>\n",
       "      <td>...</td>\n",
       "      <td>...</td>\n",
       "      <td>...</td>\n",
       "      <td>...</td>\n",
       "      <td>...</td>\n",
       "      <td>...</td>\n",
       "      <td>...</td>\n",
       "      <td>...</td>\n",
       "      <td>...</td>\n",
       "      <td>...</td>\n",
       "      <td>...</td>\n",
       "      <td>...</td>\n",
       "      <td>...</td>\n",
       "      <td>...</td>\n",
       "      <td>...</td>\n",
       "      <td>...</td>\n",
       "      <td>...</td>\n",
       "      <td>...</td>\n",
       "      <td>...</td>\n",
       "    </tr>\n",
       "    <tr>\n",
       "      <th></th>\n",
       "      <td>...</td>\n",
       "      <td>...</td>\n",
       "      <td>...</td>\n",
       "      <td>...</td>\n",
       "      <td>...</td>\n",
       "      <td>...</td>\n",
       "      <td>...</td>\n",
       "      <td>...</td>\n",
       "      <td>...</td>\n",
       "      <td>...</td>\n",
       "      <td>...</td>\n",
       "      <td>...</td>\n",
       "      <td>...</td>\n",
       "      <td>...</td>\n",
       "      <td>...</td>\n",
       "      <td>...</td>\n",
       "      <td>...</td>\n",
       "      <td>...</td>\n",
       "      <td>...</td>\n",
       "    </tr>\n",
       "    <tr>\n",
       "      <th></th>\n",
       "      <td>...</td>\n",
       "      <td>...</td>\n",
       "      <td>...</td>\n",
       "      <td>...</td>\n",
       "      <td>...</td>\n",
       "      <td>...</td>\n",
       "      <td>...</td>\n",
       "      <td>...</td>\n",
       "      <td>...</td>\n",
       "      <td>...</td>\n",
       "      <td>...</td>\n",
       "      <td>...</td>\n",
       "      <td>...</td>\n",
       "      <td>...</td>\n",
       "      <td>...</td>\n",
       "      <td>...</td>\n",
       "      <td>...</td>\n",
       "      <td>...</td>\n",
       "      <td>...</td>\n",
       "    </tr>\n",
       "  </tbody>\n",
       "</table>\n",
       "</div>\n",
       "<div>Dask Name: read-csv, 15 tasks</div>"
      ],
      "text/plain": [
       "Dask DataFrame Structure:\n",
       "               VendorID tpep_pickup_datetime tpep_dropoff_datetime passenger_count trip_distance RatecodeID store_and_fwd_flag PULocationID DOLocationID payment_type fare_amount    extra  mta_tax tip_amount tolls_amount improvement_surcharge total_amount congestion_surcharge airport_fee\n",
       "npartitions=15                                                                                                                                                                                                                                                                                 \n",
       "                  int64       datetime64[ns]        datetime64[ns]         float64       float64    float64             object        int64        int64        int64     float64  float64  float64    float64      float64               float64      float64              float64     float64\n",
       "                    ...                  ...                   ...             ...           ...        ...                ...          ...          ...          ...         ...      ...      ...        ...          ...                   ...          ...                  ...         ...\n",
       "...                 ...                  ...                   ...             ...           ...        ...                ...          ...          ...          ...         ...      ...      ...        ...          ...                   ...          ...                  ...         ...\n",
       "                    ...                  ...                   ...             ...           ...        ...                ...          ...          ...          ...         ...      ...      ...        ...          ...                   ...          ...                  ...         ...\n",
       "                    ...                  ...                   ...             ...           ...        ...                ...          ...          ...          ...         ...      ...      ...        ...          ...                   ...          ...                  ...         ...\n",
       "Dask Name: read-csv, 15 tasks"
      ]
     },
     "execution_count": 11,
     "metadata": {},
     "output_type": "execute_result"
    }
   ],
   "source": [
    "df"
   ]
  },
  {
   "cell_type": "markdown",
   "id": "c4b97f17",
   "metadata": {},
   "source": [
    "How many rows did we read? Well, the `shape` attribute does not give us the number of rows because this dataframe is not yet been loaded into the memory only a DAG has been created for reading it. `shape` will tell us the number of columns, to get the number of rows we will have to do a `len`. The data contains about ~31 million rows."
   ]
  },
  {
   "cell_type": "code",
   "execution_count": 12,
   "id": "02bbf355",
   "metadata": {},
   "outputs": [
    {
     "data": {
      "text/plain": [
       "(Delayed('int-addcf255-147f-4a60-972d-2a508e9d898f'), 19)"
      ]
     },
     "execution_count": 12,
     "metadata": {},
     "output_type": "execute_result"
    }
   ],
   "source": [
    "df.shape"
   ]
  },
  {
   "cell_type": "code",
   "execution_count": 13,
   "id": "601800ae",
   "metadata": {},
   "outputs": [
    {
     "name": "stdout",
     "output_type": "stream",
     "text": [
      "10,150,822\n",
      "CPU times: user 1.49 s, sys: 287 ms, total: 1.77 s\n",
      "Wall time: 16.9 s\n"
     ]
    }
   ],
   "source": [
    "%%time\n",
    "print(f\"{len(df):,}\") "
   ]
  },
  {
   "cell_type": "markdown",
   "id": "1fe7401e",
   "metadata": {},
   "source": [
    "Let's find out average trip distance and total count."
   ]
  },
  {
   "cell_type": "code",
   "execution_count": 14,
   "id": "eb806c40",
   "metadata": {},
   "outputs": [
    {
     "name": "stdout",
     "output_type": "stream",
     "text": [
      "CPU times: user 1.37 s, sys: 261 ms, total: 1.63 s\n",
      "Wall time: 15.6 s\n"
     ]
    },
    {
     "data": {
      "text/html": [
       "<div>\n",
       "<style scoped>\n",
       "    .dataframe tbody tr th:only-of-type {\n",
       "        vertical-align: middle;\n",
       "    }\n",
       "\n",
       "    .dataframe tbody tr th {\n",
       "        vertical-align: top;\n",
       "    }\n",
       "\n",
       "    .dataframe thead th {\n",
       "        text-align: right;\n",
       "    }\n",
       "</style>\n",
       "<table border=\"1\" class=\"dataframe\">\n",
       "  <thead>\n",
       "    <tr style=\"text-align: right;\">\n",
       "      <th></th>\n",
       "      <th>feature</th>\n",
       "      <th>mean</th>\n",
       "    </tr>\n",
       "  </thead>\n",
       "  <tbody>\n",
       "    <tr>\n",
       "      <th>0</th>\n",
       "      <td>trip_distance</td>\n",
       "      <td>7.251318</td>\n",
       "    </tr>\n",
       "    <tr>\n",
       "      <th>1</th>\n",
       "      <td>total_amount</td>\n",
       "      <td>20.606048</td>\n",
       "    </tr>\n",
       "  </tbody>\n",
       "</table>\n",
       "</div>"
      ],
      "text/plain": [
       "         feature       mean\n",
       "0  trip_distance   7.251318\n",
       "1   total_amount  20.606048"
      ]
     },
     "execution_count": 14,
     "metadata": {},
     "output_type": "execute_result"
    }
   ],
   "source": [
    "%%time\n",
    "start = time.perf_counter()\n",
    "results = df[['trip_distance', 'total_amount']].mean().compute().to_frame().reset_index()\n",
    "end = time.perf_counter()\n",
    "\n",
    "# set column names for the resulting dataframe\n",
    "results.columns = [\"feature\", \"mean\"]\n",
    "results"
   ]
  },
  {
   "cell_type": "markdown",
   "id": "1e435eca",
   "metadata": {},
   "source": [
    "---\n",
    "\n",
    "\n",
    "## Scale out the cluster to see if the operations become faster\n",
    "\n",
    "It would make sense to say that if we double the size of the cluster then the time taken for the analytics task should reduce. Let us do that and see if it happens. We look at the cluster web portal to see that the number of tasks have increased.\n"
   ]
  },
  {
   "cell_type": "code",
   "execution_count": 15,
   "id": "fc0c89c1",
   "metadata": {},
   "outputs": [
    {
     "data": {
      "text/plain": [
       "<distributed.deploy.adaptive.Adaptive at 0x7fdc64810dd0>"
      ]
     },
     "execution_count": 15,
     "metadata": {},
     "output_type": "execute_result"
    }
   ],
   "source": [
    "cluster.scale(8)  # Sets the number of workers \n",
    "\n",
    "cluster.adapt(minimum=1, maximum=8)  # Allows the cluster to auto scale when tasks are computed"
   ]
  },
  {
   "cell_type": "code",
   "execution_count": 16,
   "id": "51cc885b",
   "metadata": {},
   "outputs": [
    {
     "data": {
      "application/vnd.jupyter.widget-view+json": {
       "model_id": "bfb6b0bec1024f7db6ef599e793485ca",
       "version_major": 2,
       "version_minor": 0
      },
      "text/plain": [
       "Tab(children=(HTML(value='<div class=\"jp-RenderedHTMLCommon jp-RenderedHTML jp-mod-trusted jp-OutputArea-outpu…"
      ]
     },
     "metadata": {},
     "output_type": "display_data"
    }
   ],
   "source": [
    "client.cluster"
   ]
  },
  {
   "cell_type": "code",
   "execution_count": 17,
   "id": "9b686624",
   "metadata": {},
   "outputs": [
    {
     "name": "stdout",
     "output_type": "stream",
     "text": [
      "CPU times: user 2.58 s, sys: 476 ms, total: 3.05 s\n",
      "Wall time: 18.3 s\n"
     ]
    },
    {
     "data": {
      "text/html": [
       "<div>\n",
       "<style scoped>\n",
       "    .dataframe tbody tr th:only-of-type {\n",
       "        vertical-align: middle;\n",
       "    }\n",
       "\n",
       "    .dataframe tbody tr th {\n",
       "        vertical-align: top;\n",
       "    }\n",
       "\n",
       "    .dataframe thead th {\n",
       "        text-align: right;\n",
       "    }\n",
       "</style>\n",
       "<table border=\"1\" class=\"dataframe\">\n",
       "  <thead>\n",
       "    <tr style=\"text-align: right;\">\n",
       "      <th></th>\n",
       "      <th>feature</th>\n",
       "      <th>mean</th>\n",
       "    </tr>\n",
       "  </thead>\n",
       "  <tbody>\n",
       "    <tr>\n",
       "      <th>0</th>\n",
       "      <td>trip_distance</td>\n",
       "      <td>7.251318</td>\n",
       "    </tr>\n",
       "    <tr>\n",
       "      <th>1</th>\n",
       "      <td>total_amount</td>\n",
       "      <td>20.606048</td>\n",
       "    </tr>\n",
       "  </tbody>\n",
       "</table>\n",
       "</div>"
      ],
      "text/plain": [
       "         feature       mean\n",
       "0  trip_distance   7.251318\n",
       "1   total_amount  20.606048"
      ]
     },
     "execution_count": 17,
     "metadata": {},
     "output_type": "execute_result"
    }
   ],
   "source": [
    "%%time\n",
    "start = time.perf_counter()\n",
    "results = df[['trip_distance', 'total_amount']].mean().compute().to_frame().reset_index()\n",
    "end = time.perf_counter()\n",
    "\n",
    "# set column names for the resulting dataframe\n",
    "results.columns = [\"feature\", \"mean\"]\n",
    "results"
   ]
  },
  {
   "cell_type": "markdown",
   "id": "01caf3d3",
   "metadata": {},
   "source": [
    "**_As you can see, scaling out on the same instance does not help much because we were already at 100% CPU utilization on all the CPUs prior to scaling out. This is different from what we saw on a distributed cluster where scaling out truly made a difference._**"
   ]
  },
  {
   "cell_type": "markdown",
   "id": "8237fd55",
   "metadata": {},
   "source": [
    "Here is a screenshot from htop about the memory and CPU utilization from all the tasks.\n",
    "\n"
   ]
  },
  {
   "cell_type": "markdown",
   "id": "dfe9cf3e",
   "metadata": {},
   "source": [
    "![](img/dask-ui-local-1.png)"
   ]
  },
  {
   "cell_type": "markdown",
   "id": "89c3d6fe",
   "metadata": {},
   "source": [
    "#### Count the total trip distance and count for each vendor"
   ]
  },
  {
   "cell_type": "code",
   "execution_count": 18,
   "id": "5e40bf09",
   "metadata": {},
   "outputs": [
    {
     "name": "stdout",
     "output_type": "stream",
     "text": [
      "CPU times: user 2.21 s, sys: 473 ms, total: 2.68 s\n",
      "Wall time: 18.5 s\n"
     ]
    },
    {
     "data": {
      "text/html": [
       "<div>\n",
       "<style scoped>\n",
       "    .dataframe tbody tr th:only-of-type {\n",
       "        vertical-align: middle;\n",
       "    }\n",
       "\n",
       "    .dataframe tbody tr th {\n",
       "        vertical-align: top;\n",
       "    }\n",
       "\n",
       "    .dataframe thead th {\n",
       "        text-align: right;\n",
       "    }\n",
       "</style>\n",
       "<table border=\"1\" class=\"dataframe\">\n",
       "  <thead>\n",
       "    <tr style=\"text-align: right;\">\n",
       "      <th></th>\n",
       "      <th>passenger_count</th>\n",
       "      <th>trip_distance</th>\n",
       "    </tr>\n",
       "    <tr>\n",
       "      <th>VendorID</th>\n",
       "      <th></th>\n",
       "      <th></th>\n",
       "    </tr>\n",
       "  </thead>\n",
       "  <tbody>\n",
       "    <tr>\n",
       "      <th>1</th>\n",
       "      <td>3031757</td>\n",
       "      <td>9641521</td>\n",
       "    </tr>\n",
       "    <tr>\n",
       "      <th>2</th>\n",
       "      <td>6752842</td>\n",
       "      <td>63795736</td>\n",
       "    </tr>\n",
       "    <tr>\n",
       "      <th>5</th>\n",
       "      <td>0</td>\n",
       "      <td>265</td>\n",
       "    </tr>\n",
       "    <tr>\n",
       "      <th>6</th>\n",
       "      <td>0</td>\n",
       "      <td>169316</td>\n",
       "    </tr>\n",
       "  </tbody>\n",
       "</table>\n",
       "</div>"
      ],
      "text/plain": [
       "          passenger_count  trip_distance\n",
       "VendorID                                \n",
       "1                 3031757        9641521\n",
       "2                 6752842       63795736\n",
       "5                       0            265\n",
       "6                       0         169316"
      ]
     },
     "execution_count": 18,
     "metadata": {},
     "output_type": "execute_result"
    }
   ],
   "source": [
    "%%time\n",
    "df.groupby('VendorID').agg({'passenger_count':'count', 'trip_distance': 'sum'}).astype(int).compute()"
   ]
  },
  {
   "cell_type": "markdown",
   "id": "a076e120",
   "metadata": {},
   "source": [
    "### Selecting top 10 rides based on fare amount"
   ]
  },
  {
   "cell_type": "code",
   "execution_count": 19,
   "id": "08bb272d",
   "metadata": {},
   "outputs": [
    {
     "name": "stderr",
     "output_type": "stream",
     "text": [
      "distributed.nanny - WARNING - Worker process still alive after 3.999998474121094 seconds, killing\n",
      "distributed.nanny - WARNING - Worker process still alive after 3.9999988555908206 seconds, killing\n",
      "distributed.nanny - WARNING - Worker process still alive after 3.9999990463256836 seconds, killing\n"
     ]
    },
    {
     "name": "stdout",
     "output_type": "stream",
     "text": [
      "CPU times: user 2.23 s, sys: 524 ms, total: 2.75 s\n",
      "Wall time: 18.2 s\n"
     ]
    }
   ],
   "source": [
    "%%time\n",
    "most_paid_rides_dask = df[['PULocationID', 'fare_amount']].nlargest(10, \"fare_amount\").compute()"
   ]
  },
  {
   "cell_type": "code",
   "execution_count": 20,
   "id": "6debb3eb",
   "metadata": {},
   "outputs": [
    {
     "data": {
      "text/html": [
       "<div>\n",
       "<style scoped>\n",
       "    .dataframe tbody tr th:only-of-type {\n",
       "        vertical-align: middle;\n",
       "    }\n",
       "\n",
       "    .dataframe tbody tr th {\n",
       "        vertical-align: top;\n",
       "    }\n",
       "\n",
       "    .dataframe thead th {\n",
       "        text-align: right;\n",
       "    }\n",
       "</style>\n",
       "<table border=\"1\" class=\"dataframe\">\n",
       "  <thead>\n",
       "    <tr style=\"text-align: right;\">\n",
       "      <th></th>\n",
       "      <th>PULocationID</th>\n",
       "      <th>fare_amount</th>\n",
       "    </tr>\n",
       "  </thead>\n",
       "  <tbody>\n",
       "    <tr>\n",
       "      <th>52279</th>\n",
       "      <td>143</td>\n",
       "      <td>3009.0</td>\n",
       "    </tr>\n",
       "    <tr>\n",
       "      <th>658476</th>\n",
       "      <td>183</td>\n",
       "      <td>1217.0</td>\n",
       "    </tr>\n",
       "    <tr>\n",
       "      <th>175824</th>\n",
       "      <td>132</td>\n",
       "      <td>1043.5</td>\n",
       "    </tr>\n",
       "    <tr>\n",
       "      <th>23475</th>\n",
       "      <td>265</td>\n",
       "      <td>1025.0</td>\n",
       "    </tr>\n",
       "    <tr>\n",
       "      <th>35739</th>\n",
       "      <td>265</td>\n",
       "      <td>984.0</td>\n",
       "    </tr>\n",
       "    <tr>\n",
       "      <th>35738</th>\n",
       "      <td>265</td>\n",
       "      <td>980.0</td>\n",
       "    </tr>\n",
       "    <tr>\n",
       "      <th>127785</th>\n",
       "      <td>265</td>\n",
       "      <td>950.0</td>\n",
       "    </tr>\n",
       "    <tr>\n",
       "      <th>255506</th>\n",
       "      <td>191</td>\n",
       "      <td>950.0</td>\n",
       "    </tr>\n",
       "    <tr>\n",
       "      <th>255507</th>\n",
       "      <td>191</td>\n",
       "      <td>950.0</td>\n",
       "    </tr>\n",
       "    <tr>\n",
       "      <th>404350</th>\n",
       "      <td>19</td>\n",
       "      <td>950.0</td>\n",
       "    </tr>\n",
       "  </tbody>\n",
       "</table>\n",
       "</div>"
      ],
      "text/plain": [
       "        PULocationID  fare_amount\n",
       "52279            143       3009.0\n",
       "658476           183       1217.0\n",
       "175824           132       1043.5\n",
       "23475            265       1025.0\n",
       "35739            265        984.0\n",
       "35738            265        980.0\n",
       "127785           265        950.0\n",
       "255506           191        950.0\n",
       "255507           191        950.0\n",
       "404350            19        950.0"
      ]
     },
     "execution_count": 20,
     "metadata": {},
     "output_type": "execute_result"
    }
   ],
   "source": [
    "most_paid_rides_dask"
   ]
  },
  {
   "cell_type": "markdown",
   "id": "fd775d87",
   "metadata": {},
   "source": [
    "Clearly these represent anomalies in the data, a fare amount of hundereds of thousdands of dollars!!!!"
   ]
  },
  {
   "cell_type": "code",
   "execution_count": 21,
   "id": "74605f3d",
   "metadata": {},
   "outputs": [
    {
     "data": {
      "image/png": "[encoded data removed]",
      "text/plain": [
       "<Figure size 1000x800 with 1 Axes>"
      ]
     },
     "metadata": {},
     "output_type": "display_data"
    }
   ],
   "source": [
    "## Visualizing most paid rides through Barplot\n",
    "most_paid_rides_dask.set_index('PULocationID').plot(kind='barh',stacked=False, figsize=[10,8], legend=True)\n",
    "\n",
    "plt.title('Most Paid Rides')\n",
    "plt.xlabel('Fare Amount')\n",
    "plt.ylabel('PU LocationID')\n",
    "plt.show()"
   ]
  },
  {
   "cell_type": "markdown",
   "id": "33f24295",
   "metadata": {},
   "source": [
    "#### Visualizing trip distance through Barplot"
   ]
  },
  {
   "cell_type": "code",
   "execution_count": 22,
   "id": "b145bbb0",
   "metadata": {},
   "outputs": [
    {
     "name": "stderr",
     "output_type": "stream",
     "text": [
      "distributed.nanny - WARNING - Worker process still alive after 3.999998664855957 seconds, killing\n",
      "distributed.nanny - WARNING - Worker process still alive after 3.9999990463256836 seconds, killing\n",
      "distributed.nanny - WARNING - Worker process still alive after 3.9999988555908206 seconds, killing\n",
      "tornado.application - ERROR - Exception in callback functools.partial(<function TCPServer._handle_connection.<locals>.<lambda> at 0x7fdcbba0c320>, <Task finished coro=<BaseTCPListener._handle_stream() done, defined at /opt/conda/lib/python3.7/site-packages/distributed/comm/tcp.py:530> exception=ValueError('invalid operation on non-started TCPListener')>)\n",
      "Traceback (most recent call last):\n",
      "  File \"/opt/conda/lib/python3.7/site-packages/tornado/ioloop.py\", line 740, in _run_callback\n",
      "    ret = callback()\n",
      "  File \"/opt/conda/lib/python3.7/site-packages/tornado/tcpserver.py\", line 391, in <lambda>\n",
      "    gen.convert_yielded(future), lambda f: f.result()\n",
      "  File \"/opt/conda/lib/python3.7/site-packages/distributed/comm/tcp.py\", line 536, in _handle_stream\n",
      "    logger.debug(\"Incoming connection from %r to %r\", address, self.contact_address)\n",
      "  File \"/opt/conda/lib/python3.7/site-packages/distributed/comm/tcp.py\", line 572, in contact_address\n",
      "    host, port = self.get_host_port()\n",
      "  File \"/opt/conda/lib/python3.7/site-packages/distributed/comm/tcp.py\", line 553, in get_host_port\n",
      "    self._check_started()\n",
      "  File \"/opt/conda/lib/python3.7/site-packages/distributed/comm/tcp.py\", line 528, in _check_started\n",
      "    raise ValueError(\"invalid operation on non-started TCPListener\")\n",
      "ValueError: invalid operation on non-started TCPListener\n"
     ]
    },
    {
     "data": {
      "image/png": "[encoded data removed]",
      "text/plain": [
       "<Figure size 1000x800 with 1 Axes>"
      ]
     },
     "metadata": {},
     "output_type": "display_data"
    }
   ],
   "source": [
    "most_paid_rides_dask2 = df[['trip_distance', 'fare_amount']].nlargest(10, \"trip_distance\").compute()\n",
    "most_paid_rides_dask2.set_index('trip_distance').plot(kind='bar', colormap='PiYG', stacked=False, figsize=[10,8], legend=True)\n",
    "\n",
    "plt.title('Fares by Distance')\n",
    "plt.xlabel('Trip Distance')\n",
    "plt.ylabel('Fare Amount')\n",
    "plt.show()"
   ]
  },
  {
   "cell_type": "markdown",
   "id": "c70e14ad",
   "metadata": {},
   "source": [
    "### Let's view the quantile distribution, something we should have done earlier\n",
    "\n",
    "Clearly, anything about the 99th percentile as an anomaly."
   ]
  },
  {
   "cell_type": "markdown",
   "id": "5a21e255",
   "metadata": {},
   "source": [
    "We can save the complete details of what Dask did for running our code using the `performance_report` function, see [diagnosing performance](https://distributed.dask.org/en/stable/diagnosing-performance.html). See example below. \n",
    "\n",
    "**_If your task completes and you get the results then you can ignore exceptions from individual Dask tasks, Dask will take care of restarting any failed tasks for you._**"
   ]
  },
  {
   "cell_type": "code",
   "execution_count": 23,
   "id": "24b2bb18",
   "metadata": {},
   "outputs": [
    {
     "name": "stderr",
     "output_type": "stream",
     "text": [
      "distributed.nanny - WARNING - Worker process still alive after 3.999998664855957 seconds, killing\n"
     ]
    },
    {
     "name": "stdout",
     "output_type": "stream",
     "text": [
      "   index  trip_distance  fare_amount\n",
      "0   0.25           1.18          7.5\n",
      "1   0.50           2.06         11.5\n",
      "2   0.75           4.20         18.0\n",
      "3   0.95          16.77         52.0\n",
      "4   0.99          20.78         65.0\n",
      "5   1.00      351613.36       3009.0\n",
      "CPU times: user 3.33 s, sys: 348 ms, total: 3.68 s\n",
      "Wall time: 18 s\n"
     ]
    }
   ],
   "source": [
    "%%time\n",
    "with performance_report(filename=\"dask-report-quantiles.html\"):\n",
    "    df_quantiles = df[['trip_distance', 'fare_amount']].quantile([0.25, 0.5, 0.75, 0.95, 0.99, 1]).compute().reset_index()\n",
    "    print(df_quantiles)"
   ]
  },
  {
   "cell_type": "code",
   "execution_count": 87,
   "id": "2deadd13-262a-4947-adda-d2314510c181",
   "metadata": {},
   "outputs": [],
   "source": [
    "df99 = df_quantiles.loc[df_quantiles['index'] == 0.99]"
   ]
  },
  {
   "cell_type": "code",
   "execution_count": 88,
   "id": "80029325-03b1-424b-b070-48082c3e9e77",
   "metadata": {},
   "outputs": [],
   "source": [
    "df99.to_csv(r'q99.csv', sep='\\t')"
   ]
  },
  {
   "cell_type": "code",
   "execution_count": 85,
   "id": "aa8fd63b-dcc7-4c9d-8810-945d076c0264",
   "metadata": {},
   "outputs": [],
   "source": [
    "import csv\n",
    "\n",
    "with open('q99.csv', 'w') as f: # output csv file\n",
    "    writer = csv.writer(f)\n",
    "    writer.writerow(df_quantiles.loc[df_quantiles['index'] == 0.99])"
   ]
  },
  {
   "cell_type": "markdown",
   "id": "1c7d89e4",
   "metadata": {},
   "source": [
    "---\n",
    "\n",
    "## [TASK 2] Remove anomalies and plot the distribution\n",
    "\n",
    "We remove the anomalies from the `trip_distance` and `fare_amount` fields and plot their distributions using `matplotlib` as a histogram. \n",
    "\n",
    "1. To remove the anomalies we keep all values that are `>= 0` and `<= 99th percentile`.\n",
    "1. The name of plot file for `fare_amount` should be `fare_amount.png`.\n",
    "1. The name of plot file for `trip_distance` should be `trip_distance.png`."
   ]
  },
  {
   "cell_type": "code",
   "execution_count": 24,
   "id": "83b992fb-ff47-4b7a-8689-7f3fda8d6d95",
   "metadata": {},
   "outputs": [
    {
     "data": {
      "text/plain": [
       "Index(['VendorID', 'tpep_pickup_datetime', 'tpep_dropoff_datetime',\n",
       "       'passenger_count', 'trip_distance', 'RatecodeID', 'store_and_fwd_flag',\n",
       "       'PULocationID', 'DOLocationID', 'payment_type', 'fare_amount', 'extra',\n",
       "       'mta_tax', 'tip_amount', 'tolls_amount', 'improvement_surcharge',\n",
       "       'total_amount', 'congestion_surcharge', 'airport_fee'],\n",
       "      dtype='object')"
      ]
     },
     "execution_count": 24,
     "metadata": {},
     "output_type": "execute_result"
    }
   ],
   "source": [
    "df.columns"
   ]
  },
  {
   "cell_type": "code",
   "execution_count": 25,
   "id": "65d1a02b-9be4-4e86-8e01-8c1c14cb3683",
   "metadata": {},
   "outputs": [
    {
     "data": {
      "text/plain": [
       "Dask Series Structure:\n",
       "npartitions=15\n",
       "    float64\n",
       "        ...\n",
       "     ...   \n",
       "        ...\n",
       "        ...\n",
       "Name: trip_distance, dtype: float64\n",
       "Dask Name: getitem, 30 tasks"
      ]
     },
     "execution_count": 25,
     "metadata": {},
     "output_type": "execute_result"
    }
   ],
   "source": [
    "df.trip_distance"
   ]
  },
  {
   "cell_type": "code",
   "execution_count": 26,
   "id": "5e985865-4cbc-4180-9bd0-85d0cca81d4f",
   "metadata": {},
   "outputs": [],
   "source": [
    "df.trip_distance = df.trip_distance[df.trip_distance >=0]\n",
    "df.fare_amount = df.fare_amount[df.fare_amount >=0]\n",
    "tripdis = df[[\"trip_distance\",\"fare_amount\"]][df.trip_distance <= df.trip_distance.quantile(.99)]\n",
    "tripdis = tripdis[[\"trip_distance\",\"fare_amount\"]][df.fare_amount <= df.fare_amount.quantile(.99)]"
   ]
  },
  {
   "cell_type": "code",
   "execution_count": 27,
   "id": "2717021c-1700-4cda-9fa7-dec0cba92728",
   "metadata": {},
   "outputs": [
    {
     "data": {
      "text/html": [
       "<div><strong>Dask DataFrame Structure:</strong></div>\n",
       "<div>\n",
       "<style scoped>\n",
       "    .dataframe tbody tr th:only-of-type {\n",
       "        vertical-align: middle;\n",
       "    }\n",
       "\n",
       "    .dataframe tbody tr th {\n",
       "        vertical-align: top;\n",
       "    }\n",
       "\n",
       "    .dataframe thead th {\n",
       "        text-align: right;\n",
       "    }\n",
       "</style>\n",
       "<table border=\"1\" class=\"dataframe\">\n",
       "  <thead>\n",
       "    <tr style=\"text-align: right;\">\n",
       "      <th></th>\n",
       "      <th>trip_distance</th>\n",
       "      <th>fare_amount</th>\n",
       "    </tr>\n",
       "    <tr>\n",
       "      <th>npartitions=15</th>\n",
       "      <th></th>\n",
       "      <th></th>\n",
       "    </tr>\n",
       "  </thead>\n",
       "  <tbody>\n",
       "    <tr>\n",
       "      <th></th>\n",
       "      <td>float64</td>\n",
       "      <td>float64</td>\n",
       "    </tr>\n",
       "    <tr>\n",
       "      <th></th>\n",
       "      <td>...</td>\n",
       "      <td>...</td>\n",
       "    </tr>\n",
       "    <tr>\n",
       "      <th>...</th>\n",
       "      <td>...</td>\n",
       "      <td>...</td>\n",
       "    </tr>\n",
       "    <tr>\n",
       "      <th></th>\n",
       "      <td>...</td>\n",
       "      <td>...</td>\n",
       "    </tr>\n",
       "    <tr>\n",
       "      <th></th>\n",
       "      <td>...</td>\n",
       "      <td>...</td>\n",
       "    </tr>\n",
       "  </tbody>\n",
       "</table>\n",
       "</div>\n",
       "<div>Dask Name: getitem, 317 tasks</div>"
      ],
      "text/plain": [
       "Dask DataFrame Structure:\n",
       "               trip_distance fare_amount\n",
       "npartitions=15                          \n",
       "                     float64     float64\n",
       "                         ...         ...\n",
       "...                      ...         ...\n",
       "                         ...         ...\n",
       "                         ...         ...\n",
       "Dask Name: getitem, 317 tasks"
      ]
     },
     "execution_count": 27,
     "metadata": {},
     "output_type": "execute_result"
    }
   ],
   "source": [
    "tripdis"
   ]
  },
  {
   "cell_type": "code",
   "execution_count": 28,
   "id": "49cb3818-4d64-4938-b987-f6bc8647e268",
   "metadata": {},
   "outputs": [],
   "source": [
    "import matplotlib.pyplot as plt"
   ]
  },
  {
   "cell_type": "code",
   "execution_count": 29,
   "id": "3c162803",
   "metadata": {},
   "outputs": [
    {
     "data": {
      "image/png": "[encoded data removed]",
      "text/plain": [
       "<Figure size 640x480 with 1 Axes>"
      ]
     },
     "metadata": {},
     "output_type": "display_data"
    }
   ],
   "source": [
    "tripdis_dask = tripdis['trip_distance'].compute()\n",
    "\n",
    "fig = plt.figure()\n",
    "plt.hist(tripdis_dask)\n",
    "plt.title('Trip Distance distribution')\n",
    "plt.xlabel('Trip Distance')\n",
    "plt.ylabel('Frequency')\n",
    "plt.show()\n",
    "\n",
    "fig.savefig(\"trip_distance.png\")"
   ]
  },
  {
   "cell_type": "code",
   "execution_count": 30,
   "id": "6fe53b6b",
   "metadata": {},
   "outputs": [
    {
     "name": "stderr",
     "output_type": "stream",
     "text": [
      "distributed.nanny - WARNING - Worker process still alive after 3.999998474121094 seconds, killing\n"
     ]
    },
    {
     "data": {
      "image/png": "[encoded data removed]",
      "text/plain": [
       "<Figure size 640x480 with 1 Axes>"
      ]
     },
     "metadata": {},
     "output_type": "display_data"
    }
   ],
   "source": [
    "fareamo_dask = tripdis['fare_amount'].compute()\n",
    "\n",
    "fig = plt.figure()\n",
    "plt.hist(fareamo_dask)\n",
    "plt.title('Fare Amount distribution')\n",
    "plt.xlabel('Fare Amount')\n",
    "plt.ylabel('Frequency')\n",
    "plt.show()\n",
    "\n",
    "fig.savefig(\"fare_amount.png\")"
   ]
  },
  {
   "cell_type": "markdown",
   "id": "850f6de0",
   "metadata": {},
   "source": [
    "---\n",
    "\n",
    "## Machine Learning with Dask\n",
    "\n",
    "We create a derived field called `trip_duration` which is the difference between `tpep_dropoff_datetime` and `tpep_pickup_datetime` (note that both these fields were read as datetime when the Dask dataframe was initially created from the CSV files) and train a linear regression model to predict it based on `passenger_count`,`trip_distance`,`fare_amount` and `total_amount`. \n",
    "\n",
    "**_Note that the primary objective here is to show how a Dask cluster can be used to train an ML model rather than training the best model possible._**"
   ]
  },
  {
   "cell_type": "code",
   "execution_count": 31,
   "id": "79f324e3",
   "metadata": {},
   "outputs": [],
   "source": [
    "# read the data directly from S3, data is accessible with anonymous credentials\n",
    "df = dd.read_csv('s3://bigdatateaching/nyctaxi-yellow-tripdata/csv/2021/yellow_tripdata_2021-1*.csv',\n",
    "                 storage_options={'anon': True},\n",
    "                 parse_dates=['tpep_pickup_datetime','tpep_dropoff_datetime'])"
   ]
  },
  {
   "cell_type": "code",
   "execution_count": 32,
   "id": "b3678ffa",
   "metadata": {},
   "outputs": [],
   "source": [
    "df['trip_duration'] = df['tpep_dropoff_datetime'] - df['tpep_pickup_datetime']"
   ]
  },
  {
   "cell_type": "code",
   "execution_count": 33,
   "id": "2bc8fcbc",
   "metadata": {},
   "outputs": [
    {
     "data": {
      "text/plain": [
       "0   0 days 00:45:39\n",
       "1   0 days 00:24:18\n",
       "2   0 days 00:22:45\n",
       "3   0 days 00:39:02\n",
       "4   0 days 00:22:36\n",
       "Name: trip_duration, dtype: timedelta64[ns]"
      ]
     },
     "execution_count": 33,
     "metadata": {},
     "output_type": "execute_result"
    }
   ],
   "source": [
    "df['trip_duration'].head()"
   ]
  },
  {
   "cell_type": "markdown",
   "id": "53ee2884",
   "metadata": {},
   "source": [
    "Convert the trip duration to hours."
   ]
  },
  {
   "cell_type": "code",
   "execution_count": 34,
   "id": "cae5edb1",
   "metadata": {},
   "outputs": [
    {
     "data": {
      "text/plain": [
       "Dask Series Structure:\n",
       "npartitions=15\n",
       "    float64\n",
       "        ...\n",
       "     ...   \n",
       "        ...\n",
       "        ...\n",
       "Name: trip_duration, dtype: float64\n",
       "Dask Name: getitem, 180 tasks"
      ]
     },
     "execution_count": 34,
     "metadata": {},
     "output_type": "execute_result"
    }
   ],
   "source": [
    "df['trip_duration'] = df['trip_duration']/np.timedelta64(1,'D')\n",
    "df['trip_duration'] = df['trip_duration'] * 24\n",
    "df['trip_duration']"
   ]
  },
  {
   "cell_type": "code",
   "execution_count": 35,
   "id": "b614283b",
   "metadata": {},
   "outputs": [
    {
     "name": "stderr",
     "output_type": "stream",
     "text": [
      "distributed.nanny - WARNING - Worker process still alive after 3.999998474121094 seconds, killing\n",
      "distributed.nanny - WARNING - Worker process still alive after 3.9999988555908206 seconds, killing\n",
      "distributed.nanny - WARNING - Worker process still alive after 3.9999990463256836 seconds, killing\n"
     ]
    },
    {
     "data": {
      "text/plain": [
       "0    0.760833\n",
       "1    0.405000\n",
       "2    0.379167\n",
       "3    0.650556\n",
       "4    0.376667\n",
       "Name: trip_duration, dtype: float64"
      ]
     },
     "execution_count": 35,
     "metadata": {},
     "output_type": "execute_result"
    }
   ],
   "source": [
    "df['trip_duration'].head()"
   ]
  },
  {
   "cell_type": "code",
   "execution_count": 36,
   "id": "e3bd92ef",
   "metadata": {},
   "outputs": [
    {
     "name": "stdout",
     "output_type": "stream",
     "text": [
      "CPU times: user 148 ms, sys: 0 ns, total: 148 ms\n",
      "Wall time: 2.82 s\n"
     ]
    },
    {
     "data": {
      "text/html": [
       "<div>\n",
       "<style scoped>\n",
       "    .dataframe tbody tr th:only-of-type {\n",
       "        vertical-align: middle;\n",
       "    }\n",
       "\n",
       "    .dataframe tbody tr th {\n",
       "        vertical-align: top;\n",
       "    }\n",
       "\n",
       "    .dataframe thead th {\n",
       "        text-align: right;\n",
       "    }\n",
       "</style>\n",
       "<table border=\"1\" class=\"dataframe\">\n",
       "  <thead>\n",
       "    <tr style=\"text-align: right;\">\n",
       "      <th></th>\n",
       "      <th>VendorID</th>\n",
       "      <th>tpep_pickup_datetime</th>\n",
       "      <th>tpep_dropoff_datetime</th>\n",
       "      <th>passenger_count</th>\n",
       "      <th>trip_distance</th>\n",
       "      <th>RatecodeID</th>\n",
       "      <th>store_and_fwd_flag</th>\n",
       "      <th>PULocationID</th>\n",
       "      <th>DOLocationID</th>\n",
       "      <th>payment_type</th>\n",
       "      <th>fare_amount</th>\n",
       "      <th>extra</th>\n",
       "      <th>mta_tax</th>\n",
       "      <th>tip_amount</th>\n",
       "      <th>tolls_amount</th>\n",
       "      <th>improvement_surcharge</th>\n",
       "      <th>total_amount</th>\n",
       "      <th>congestion_surcharge</th>\n",
       "      <th>airport_fee</th>\n",
       "      <th>trip_duration</th>\n",
       "    </tr>\n",
       "  </thead>\n",
       "  <tbody>\n",
       "    <tr>\n",
       "      <th>0</th>\n",
       "      <td>1</td>\n",
       "      <td>2021-10-01 00:25:56</td>\n",
       "      <td>2021-10-01 01:11:35</td>\n",
       "      <td>1.0</td>\n",
       "      <td>7.40</td>\n",
       "      <td>1.0</td>\n",
       "      <td>Y</td>\n",
       "      <td>140</td>\n",
       "      <td>36</td>\n",
       "      <td>1</td>\n",
       "      <td>33.0</td>\n",
       "      <td>3.0</td>\n",
       "      <td>0.5</td>\n",
       "      <td>4.00</td>\n",
       "      <td>0.0</td>\n",
       "      <td>0.3</td>\n",
       "      <td>40.80</td>\n",
       "      <td>2.5</td>\n",
       "      <td>0.0</td>\n",
       "      <td>0.760833</td>\n",
       "    </tr>\n",
       "    <tr>\n",
       "      <th>1</th>\n",
       "      <td>1</td>\n",
       "      <td>2021-10-01 00:17:13</td>\n",
       "      <td>2021-10-01 00:41:31</td>\n",
       "      <td>1.0</td>\n",
       "      <td>14.10</td>\n",
       "      <td>1.0</td>\n",
       "      <td>N</td>\n",
       "      <td>209</td>\n",
       "      <td>94</td>\n",
       "      <td>2</td>\n",
       "      <td>39.0</td>\n",
       "      <td>3.0</td>\n",
       "      <td>0.5</td>\n",
       "      <td>0.00</td>\n",
       "      <td>0.0</td>\n",
       "      <td>0.3</td>\n",
       "      <td>42.80</td>\n",
       "      <td>2.5</td>\n",
       "      <td>0.0</td>\n",
       "      <td>0.405000</td>\n",
       "    </tr>\n",
       "    <tr>\n",
       "      <th>2</th>\n",
       "      <td>2</td>\n",
       "      <td>2021-10-01 00:25:22</td>\n",
       "      <td>2021-10-01 00:48:07</td>\n",
       "      <td>2.0</td>\n",
       "      <td>5.64</td>\n",
       "      <td>1.0</td>\n",
       "      <td>N</td>\n",
       "      <td>238</td>\n",
       "      <td>107</td>\n",
       "      <td>1</td>\n",
       "      <td>20.0</td>\n",
       "      <td>0.5</td>\n",
       "      <td>0.5</td>\n",
       "      <td>4.76</td>\n",
       "      <td>0.0</td>\n",
       "      <td>0.3</td>\n",
       "      <td>28.56</td>\n",
       "      <td>2.5</td>\n",
       "      <td>0.0</td>\n",
       "      <td>0.379167</td>\n",
       "    </tr>\n",
       "    <tr>\n",
       "      <th>3</th>\n",
       "      <td>1</td>\n",
       "      <td>2021-10-01 00:17:28</td>\n",
       "      <td>2021-10-01 00:56:30</td>\n",
       "      <td>0.0</td>\n",
       "      <td>5.50</td>\n",
       "      <td>1.0</td>\n",
       "      <td>N</td>\n",
       "      <td>48</td>\n",
       "      <td>179</td>\n",
       "      <td>1</td>\n",
       "      <td>27.5</td>\n",
       "      <td>3.0</td>\n",
       "      <td>0.5</td>\n",
       "      <td>3.00</td>\n",
       "      <td>0.0</td>\n",
       "      <td>0.3</td>\n",
       "      <td>34.30</td>\n",
       "      <td>2.5</td>\n",
       "      <td>0.0</td>\n",
       "      <td>0.650556</td>\n",
       "    </tr>\n",
       "    <tr>\n",
       "      <th>4</th>\n",
       "      <td>1</td>\n",
       "      <td>2021-10-01 00:09:30</td>\n",
       "      <td>2021-10-01 00:32:06</td>\n",
       "      <td>1.0</td>\n",
       "      <td>3.70</td>\n",
       "      <td>1.0</td>\n",
       "      <td>N</td>\n",
       "      <td>79</td>\n",
       "      <td>25</td>\n",
       "      <td>2</td>\n",
       "      <td>17.5</td>\n",
       "      <td>3.0</td>\n",
       "      <td>0.5</td>\n",
       "      <td>0.00</td>\n",
       "      <td>0.0</td>\n",
       "      <td>0.3</td>\n",
       "      <td>21.30</td>\n",
       "      <td>2.5</td>\n",
       "      <td>0.0</td>\n",
       "      <td>0.376667</td>\n",
       "    </tr>\n",
       "  </tbody>\n",
       "</table>\n",
       "</div>"
      ],
      "text/plain": [
       "   VendorID tpep_pickup_datetime tpep_dropoff_datetime  passenger_count  \\\n",
       "0         1  2021-10-01 00:25:56   2021-10-01 01:11:35              1.0   \n",
       "1         1  2021-10-01 00:17:13   2021-10-01 00:41:31              1.0   \n",
       "2         2  2021-10-01 00:25:22   2021-10-01 00:48:07              2.0   \n",
       "3         1  2021-10-01 00:17:28   2021-10-01 00:56:30              0.0   \n",
       "4         1  2021-10-01 00:09:30   2021-10-01 00:32:06              1.0   \n",
       "\n",
       "   trip_distance  RatecodeID store_and_fwd_flag  PULocationID  DOLocationID  \\\n",
       "0           7.40         1.0                  Y           140            36   \n",
       "1          14.10         1.0                  N           209            94   \n",
       "2           5.64         1.0                  N           238           107   \n",
       "3           5.50         1.0                  N            48           179   \n",
       "4           3.70         1.0                  N            79            25   \n",
       "\n",
       "   payment_type  fare_amount  extra  mta_tax  tip_amount  tolls_amount  \\\n",
       "0             1         33.0    3.0      0.5        4.00           0.0   \n",
       "1             2         39.0    3.0      0.5        0.00           0.0   \n",
       "2             1         20.0    0.5      0.5        4.76           0.0   \n",
       "3             1         27.5    3.0      0.5        3.00           0.0   \n",
       "4             2         17.5    3.0      0.5        0.00           0.0   \n",
       "\n",
       "   improvement_surcharge  total_amount  congestion_surcharge  airport_fee  \\\n",
       "0                    0.3         40.80                   2.5          0.0   \n",
       "1                    0.3         42.80                   2.5          0.0   \n",
       "2                    0.3         28.56                   2.5          0.0   \n",
       "3                    0.3         34.30                   2.5          0.0   \n",
       "4                    0.3         21.30                   2.5          0.0   \n",
       "\n",
       "   trip_duration  \n",
       "0       0.760833  \n",
       "1       0.405000  \n",
       "2       0.379167  \n",
       "3       0.650556  \n",
       "4       0.376667  "
      ]
     },
     "execution_count": 36,
     "metadata": {},
     "output_type": "execute_result"
    }
   ],
   "source": [
    "%%time\n",
    "df.head()"
   ]
  },
  {
   "cell_type": "markdown",
   "id": "ca19df55",
   "metadata": {},
   "source": [
    "Replace all NAs with 0"
   ]
  },
  {
   "cell_type": "code",
   "execution_count": 37,
   "id": "3d9ccb8d",
   "metadata": {},
   "outputs": [],
   "source": [
    "df = df.fillna(value=0)"
   ]
  },
  {
   "cell_type": "code",
   "execution_count": 38,
   "id": "70a6413e",
   "metadata": {},
   "outputs": [
    {
     "data": {
      "text/plain": [
       "(Delayed('int-06d885c7-c463-418c-bf92-e0e5f6176a80'), 20)"
      ]
     },
     "execution_count": 38,
     "metadata": {},
     "output_type": "execute_result"
    }
   ],
   "source": [
    "df.shape"
   ]
  },
  {
   "cell_type": "code",
   "execution_count": 39,
   "id": "1b75d98d",
   "metadata": {},
   "outputs": [
    {
     "name": "stderr",
     "output_type": "stream",
     "text": [
      "distributed.nanny - WARNING - Worker process still alive after 3.999998474121094 seconds, killing\n",
      "tornado.application - ERROR - Exception in callback functools.partial(<function TCPServer._handle_connection.<locals>.<lambda> at 0x7fdc917f8560>, <Task finished coro=<BaseTCPListener._handle_stream() done, defined at /opt/conda/lib/python3.7/site-packages/distributed/comm/tcp.py:530> exception=ValueError('invalid operation on non-started TCPListener')>)\n",
      "Traceback (most recent call last):\n",
      "  File \"/opt/conda/lib/python3.7/site-packages/tornado/ioloop.py\", line 740, in _run_callback\n",
      "    ret = callback()\n",
      "  File \"/opt/conda/lib/python3.7/site-packages/tornado/tcpserver.py\", line 391, in <lambda>\n",
      "    gen.convert_yielded(future), lambda f: f.result()\n",
      "  File \"/opt/conda/lib/python3.7/site-packages/distributed/comm/tcp.py\", line 536, in _handle_stream\n",
      "    logger.debug(\"Incoming connection from %r to %r\", address, self.contact_address)\n",
      "  File \"/opt/conda/lib/python3.7/site-packages/distributed/comm/tcp.py\", line 572, in contact_address\n",
      "    host, port = self.get_host_port()\n",
      "  File \"/opt/conda/lib/python3.7/site-packages/distributed/comm/tcp.py\", line 553, in get_host_port\n",
      "    self._check_started()\n",
      "  File \"/opt/conda/lib/python3.7/site-packages/distributed/comm/tcp.py\", line 528, in _check_started\n",
      "    raise ValueError(\"invalid operation on non-started TCPListener\")\n",
      "ValueError: invalid operation on non-started TCPListener\n"
     ]
    },
    {
     "data": {
      "text/plain": [
       "10150822"
      ]
     },
     "execution_count": 39,
     "metadata": {},
     "output_type": "execute_result"
    }
   ],
   "source": [
    "len(df)"
   ]
  },
  {
   "cell_type": "markdown",
   "id": "716b0ea8",
   "metadata": {},
   "source": [
    "**_The next would be to one-hot encode the categroical variables but we run into Dask related errors which so for now we will skip the categorical variables._**"
   ]
  },
  {
   "cell_type": "markdown",
   "id": "41677576",
   "metadata": {},
   "source": [
    "Setup the features and the target variable and then do a train test split. We get the data we need as a pandas dataframe, this should not be needed we should be able to train with the lazy loaded dataframe. We run into errors with the tasks not finding `_sqrt` function, most likely because of using an older version of one of the packages. Updating the packages would mean using a newer container for the Dask scheduler and container, I tried that but that created other problems and for the purpose of this notebook I decided to stick to getting the data locally into this notebook and then relying on Dask to distribute it again, know that this is not how it will work in production."
   ]
  },
  {
   "cell_type": "code",
   "execution_count": 40,
   "id": "8bba1bfa",
   "metadata": {},
   "outputs": [
    {
     "name": "stderr",
     "output_type": "stream",
     "text": [
      "distributed.nanny - WARNING - Worker process still alive after 3.999998092651367 seconds, killing\n",
      "distributed.nanny - WARNING - Worker process still alive after 3.9999982833862306 seconds, killing\n"
     ]
    }
   ],
   "source": [
    "#x = df[['VendorID','RatecodeID','PULocationID','DOLocationID','passenger_count','trip_distance','fare_amount','total_amount']]\n",
    "x = df[['passenger_count','trip_distance','fare_amount','total_amount']].compute()"
   ]
  },
  {
   "cell_type": "code",
   "execution_count": 41,
   "id": "65203a05",
   "metadata": {},
   "outputs": [
    {
     "name": "stderr",
     "output_type": "stream",
     "text": [
      "distributed.nanny - WARNING - Worker process still alive after 3.999998664855957 seconds, killing\n",
      "distributed.nanny - WARNING - Worker process still alive after 3.999998664855957 seconds, killing\n"
     ]
    }
   ],
   "source": [
    "y = df['trip_duration'].compute()"
   ]
  },
  {
   "cell_type": "code",
   "execution_count": 42,
   "id": "bd07dc74",
   "metadata": {},
   "outputs": [
    {
     "name": "stderr",
     "output_type": "stream",
     "text": [
      "distributed.nanny - WARNING - Worker process still alive after 3.999998664855957 seconds, killing\n"
     ]
    }
   ],
   "source": [
    "X_train, X_test, y_train, y_test = train_test_split(x, y, random_state=1)"
   ]
  },
  {
   "cell_type": "code",
   "execution_count": 43,
   "id": "06592911",
   "metadata": {},
   "outputs": [
    {
     "data": {
      "text/plain": [
       "(9135739, 1015083, 9135739, 1015083)"
      ]
     },
     "execution_count": 43,
     "metadata": {},
     "output_type": "execute_result"
    }
   ],
   "source": [
    "len(X_train), len(X_test), len(y_train), len(y_test)"
   ]
  },
  {
   "cell_type": "markdown",
   "id": "be7d0e00",
   "metadata": {},
   "source": [
    "The Dask API does not support dataframe so extract the array as `values`."
   ]
  },
  {
   "cell_type": "code",
   "execution_count": 59,
   "id": "cac8f969",
   "metadata": {},
   "outputs": [],
   "source": [
    "training_x = X_train.values\n",
    "training_y = y_train.values"
   ]
  },
  {
   "cell_type": "code",
   "execution_count": 45,
   "id": "301dfcb8",
   "metadata": {},
   "outputs": [
    {
     "data": {
      "text/plain": [
       "array([[ 1.  ,  1.74,  8.5 , 13.57],\n",
       "       [ 1.  , 10.91, 31.5 , 56.03],\n",
       "       [ 0.  ,  0.48, 11.45, 15.  ],\n",
       "       ...,\n",
       "       [ 3.  ,  2.74, 12.  , 18.2 ],\n",
       "       [ 1.  ,  0.58,  6.5 , 12.96],\n",
       "       [ 1.  ,  3.24, 17.  , 24.36]])"
      ]
     },
     "execution_count": 45,
     "metadata": {},
     "output_type": "execute_result"
    }
   ],
   "source": [
    "training_x"
   ]
  },
  {
   "cell_type": "code",
   "execution_count": 54,
   "id": "23e8f05b",
   "metadata": {},
   "outputs": [],
   "source": [
    "testing_x = X_test.values\n",
    "testing_y = y_test.values"
   ]
  },
  {
   "cell_type": "code",
   "execution_count": 47,
   "id": "7b6e3b7c",
   "metadata": {},
   "outputs": [],
   "source": [
    "def rmse(preds, actuals):\n",
    "    error = mean_squared_error(actuals, preds)\n",
    "    rmse = np.sqrt(error)\n",
    "    return rmse\n"
   ]
  },
  {
   "cell_type": "markdown",
   "id": "ee257bd5",
   "metadata": {},
   "source": [
    "## [TASK 3] Train the linear regression model on the Dask cluster.\n",
    "\n",
    "Train the linear regression model and save the performance report in a file called `dask-report-lr.html`."
   ]
  },
  {
   "cell_type": "code",
   "execution_count": 61,
   "id": "4a252b1f",
   "metadata": {},
   "outputs": [],
   "source": [
    "from dask_glm.datasets import make_regression\n",
    "\n",
    "with performance_report(filename=\"dask-report-lr.html\"): \n",
    "    #training_x, training_y = make_regression()\n",
    "    lr = LinearRegression()\n",
    "    lr.fit(training_x, training_y)"
   ]
  },
  {
   "cell_type": "markdown",
   "id": "a0cebfab",
   "metadata": {},
   "source": [
    "Prediction and RMSE."
   ]
  },
  {
   "cell_type": "code",
   "execution_count": 62,
   "id": "e0a02177",
   "metadata": {},
   "outputs": [
    {
     "data": {
      "text/plain": [
       "array([0.22150827, 0.18413431, 0.24043522, ..., 0.28402319, 0.21525681,\n",
       "       0.17173759])"
      ]
     },
     "execution_count": 62,
     "metadata": {},
     "output_type": "execute_result"
    }
   ],
   "source": [
    "preds = lr.predict(testing_x)\n",
    "preds"
   ]
  },
  {
   "cell_type": "code",
   "execution_count": 63,
   "id": "6f26924d",
   "metadata": {},
   "outputs": [
    {
     "data": {
      "text/plain": [
       "array([0.17027778, 0.09      , 0.15944444, ..., 0.33027778, 0.13472222,\n",
       "       0.07722222])"
      ]
     },
     "execution_count": 63,
     "metadata": {},
     "output_type": "execute_result"
    }
   ],
   "source": [
    "testing_y"
   ]
  },
  {
   "cell_type": "code",
   "execution_count": 64,
   "id": "613ea3d2",
   "metadata": {},
   "outputs": [
    {
     "data": {
      "text/plain": [
       "1.0547255641962696"
      ]
     },
     "execution_count": 64,
     "metadata": {},
     "output_type": "execute_result"
    }
   ],
   "source": [
    "rmse_val = rmse(preds, testing_y)\n",
    "rmse_val"
   ]
  },
  {
   "cell_type": "markdown",
   "id": "1764db5e",
   "metadata": {},
   "source": [
    "### [Task 4] Save RMSE to a local file\n",
    "\n",
    "The filename should be `rmse.txt`. the contents of the file should be (as an example) `rmse=3.456`."
   ]
  },
  {
   "cell_type": "code",
   "execution_count": 65,
   "id": "c6e23a3b",
   "metadata": {},
   "outputs": [],
   "source": [
    "with open('rmse.txt', 'w') as f:\n",
    "    f.write('rmse = 1.055')"
   ]
  },
  {
   "cell_type": "code",
   "execution_count": null,
   "id": "8fd05226-f4b4-4147-ac85-048664f8c71a",
   "metadata": {},
   "outputs": [],
   "source": []
  }
 ],
 "metadata": {
  "instance_type": "ml.t3.xlarge",
  "kernelspec": {
   "display_name": "Python 3 (Data Science)",
   "language": "python",
   "name": "python3__SAGEMAKER_INTERNAL__arn:aws:sagemaker:us-east-1:081325390199:image/datascience-1.0"
  },
  "language_info": {
   "codemirror_mode": {
    "name": "ipython",
    "version": 3
   },
   "file_extension": ".py",
   "mimetype": "text/x-python",
   "name": "python",
   "nbconvert_exporter": "python",
   "pygments_lexer": "ipython3",
   "version": "3.7.10"
  }
 },
 "nbformat": 4,
 "nbformat_minor": 5
}
