{
 "cells": [
  {
   "cell_type": "markdown",
   "id": "850c8158-eecc-4c59-8d86-5f404e061e20",
   "metadata": {},
   "source": [
    "# A simple example of using DuckDB and Apache Arrow using NYC Taxi dataset\n",
    "\n",
    "This notebook reads the NYC taxi dataset files for the year 2021 (about ~29 million rows) and runs some analytics operation on this dataset. This dataset is too big to fit into memory.  \n",
    "\n",
    "1. We read the data from S3 using apache Arrow (pyarrow).\n",
    "\n",
    "1. The zero-copy integration between DuckDB and Apache Arrow allows for rapid analysis of larger than memory datasets in Python and R using either SQL or relational APIs.\n",
    "\n",
    "1. We create a DuckDB instance in memory and using the connection to this in-memory database We run some simple analytics operations using SQL syntax.\n",
    "\n",
    "Also see [https://duckdb.org/2021/12/03/duck-arrow.html](https://duckdb.org/2021/12/03/duck-arrow.html)"
   ]
  },
  {
   "cell_type": "code",
   "execution_count": 7,
   "id": "2d840115-6470-43c8-9f71-3606f3c10251",
   "metadata": {},
   "outputs": [
    {
     "name": "stdout",
     "output_type": "stream",
     "text": [
      "Requirement already satisfied: pyarrow in /opt/conda/lib/python3.7/site-packages (9.0.0)\n",
      "Requirement already satisfied: duckdb in /opt/conda/lib/python3.7/site-packages (0.5.1)\n",
      "Requirement already satisfied: numpy>=1.16.6 in /opt/conda/lib/python3.7/site-packages (from pyarrow) (1.21.6)\n",
      "\u001b[33mWARNING: Running pip as the 'root' user can result in broken permissions and conflicting behaviour with the system package manager. It is recommended to use a virtual environment instead: https://pip.pypa.io/warnings/venv\u001b[0m\u001b[33m\n",
      "\u001b[0m\n",
      "\u001b[1m[\u001b[0m\u001b[34;49mnotice\u001b[0m\u001b[1;39;49m]\u001b[0m\u001b[39;49m A new release of pip available: \u001b[0m\u001b[31;49m22.2.2\u001b[0m\u001b[39;49m -> \u001b[0m\u001b[32;49m22.3.1\u001b[0m\n",
      "\u001b[1m[\u001b[0m\u001b[34;49mnotice\u001b[0m\u001b[1;39;49m]\u001b[0m\u001b[39;49m To update, run: \u001b[0m\u001b[32;49mpip install --upgrade pip\u001b[0m\n"
     ]
    }
   ],
   "source": [
    "!pip install pyarrow duckdb"
   ]
  },
  {
   "cell_type": "code",
   "execution_count": 8,
   "id": "70bb4570-499c-4410-8e0a-5ff82128e026",
   "metadata": {},
   "outputs": [],
   "source": [
    "import duckdb\n",
    "import pyarrow as pa\n",
    "import pyarrow.dataset as ds\n",
    "\n",
    "nyc = ds.dataset('s3://bigdatateaching/nyctaxi-yellow-tripdata/2021/')"
   ]
  },
  {
   "cell_type": "code",
   "execution_count": 9,
   "id": "ffcf03d9-525d-486e-bd86-ebc9387d5b3f",
   "metadata": {},
   "outputs": [],
   "source": [
    "# connect to an in-memory database\n",
    "con = duckdb.connect()"
   ]
  },
  {
   "cell_type": "markdown",
   "id": "4076375c-5b87-4550-85ba-290f571d7b54",
   "metadata": {},
   "source": [
    "**Running the following line on a `ml.t3.medium` instance that has only 4GiB of RAM will cause the kernel to restart.** However, as we see in this notebook, we can work with this dataset using DuckDB since it loads only a subset of the data in memory at a time."
   ]
  },
  {
   "cell_type": "code",
   "execution_count": 10,
   "id": "4943cdb8-28e3-4502-a69f-9aad8087e36f",
   "metadata": {},
   "outputs": [],
   "source": [
    "# con.execute(\"SELECT * FROM nyc\").df()"
   ]
  },
  {
   "cell_type": "markdown",
   "id": "fa0d17af-1f88-4ab8-a512-2a8c463e7101",
   "metadata": {},
   "source": [
    "Number of rows in this dataset?"
   ]
  },
  {
   "cell_type": "code",
   "execution_count": 11,
   "id": "33fc5b93-843a-4122-96b8-bc9c2ec0d08f",
   "metadata": {},
   "outputs": [
    {
     "name": "stdout",
     "output_type": "stream",
     "text": [
      "CPU times: user 734 ms, sys: 136 ms, total: 870 ms\n",
      "Wall time: 930 ms\n"
     ]
    },
    {
     "data": {
      "text/html": [
       "<div>\n",
       "<style scoped>\n",
       "    .dataframe tbody tr th:only-of-type {\n",
       "        vertical-align: middle;\n",
       "    }\n",
       "\n",
       "    .dataframe tbody tr th {\n",
       "        vertical-align: top;\n",
       "    }\n",
       "\n",
       "    .dataframe thead th {\n",
       "        text-align: right;\n",
       "    }\n",
       "</style>\n",
       "<table border=\"1\" class=\"dataframe\">\n",
       "  <thead>\n",
       "    <tr style=\"text-align: right;\">\n",
       "      <th></th>\n",
       "      <th>count</th>\n",
       "    </tr>\n",
       "  </thead>\n",
       "  <tbody>\n",
       "    <tr>\n",
       "      <th>0</th>\n",
       "      <td>29425613</td>\n",
       "    </tr>\n",
       "  </tbody>\n",
       "</table>\n",
       "</div>"
      ],
      "text/plain": [
       "      count\n",
       "0  29425613"
      ]
     },
     "execution_count": 11,
     "metadata": {},
     "output_type": "execute_result"
    }
   ],
   "source": [
    "%%time\n",
    "con.execute(\"SELECT count(passenger_count) as count FROM nyc\").df()"
   ]
  },
  {
   "cell_type": "markdown",
   "id": "ae16411a-d588-4b48-aa80-67a67b8de431",
   "metadata": {},
   "source": [
    "Find the average of some fields in this dataset over some derived fields (month and day)."
   ]
  },
  {
   "cell_type": "code",
   "execution_count": 12,
   "id": "16ab223d-aabf-4537-8e75-3c2b73ed8f42",
   "metadata": {},
   "outputs": [
    {
     "name": "stdout",
     "output_type": "stream",
     "text": [
      "CPU times: user 7.87 s, sys: 1.71 s, total: 9.58 s\n",
      "Wall time: 6.85 s\n"
     ]
    },
    {
     "data": {
      "text/html": [
       "<div>\n",
       "<style scoped>\n",
       "    .dataframe tbody tr th:only-of-type {\n",
       "        vertical-align: middle;\n",
       "    }\n",
       "\n",
       "    .dataframe tbody tr th {\n",
       "        vertical-align: top;\n",
       "    }\n",
       "\n",
       "    .dataframe thead th {\n",
       "        text-align: right;\n",
       "    }\n",
       "</style>\n",
       "<table border=\"1\" class=\"dataframe\">\n",
       "  <thead>\n",
       "    <tr style=\"text-align: right;\">\n",
       "      <th></th>\n",
       "      <th>month</th>\n",
       "      <th>day</th>\n",
       "      <th>avg_trip_distance</th>\n",
       "      <th>avg_fare_amount</th>\n",
       "      <th>avg_mta_tax</th>\n",
       "      <th>avg_tip_amount</th>\n",
       "      <th>avg_total_amount</th>\n",
       "      <th>avg_congestion_surcharge</th>\n",
       "    </tr>\n",
       "  </thead>\n",
       "  <tbody>\n",
       "    <tr>\n",
       "      <th>0</th>\n",
       "      <td>1</td>\n",
       "      <td>1</td>\n",
       "      <td>3.581000</td>\n",
       "      <td>13.536541</td>\n",
       "      <td>0.487243</td>\n",
       "      <td>1.978367</td>\n",
       "      <td>18.813154</td>\n",
       "      <td>2.094889</td>\n",
       "    </tr>\n",
       "    <tr>\n",
       "      <th>1</th>\n",
       "      <td>1</td>\n",
       "      <td>2</td>\n",
       "      <td>3.442048</td>\n",
       "      <td>13.502939</td>\n",
       "      <td>0.491315</td>\n",
       "      <td>2.144961</td>\n",
       "      <td>18.955158</td>\n",
       "      <td>2.156955</td>\n",
       "    </tr>\n",
       "    <tr>\n",
       "      <th>2</th>\n",
       "      <td>1</td>\n",
       "      <td>3</td>\n",
       "      <td>9.748679</td>\n",
       "      <td>14.787712</td>\n",
       "      <td>0.489620</td>\n",
       "      <td>2.315952</td>\n",
       "      <td>20.451181</td>\n",
       "      <td>2.080435</td>\n",
       "    </tr>\n",
       "    <tr>\n",
       "      <th>3</th>\n",
       "      <td>1</td>\n",
       "      <td>4</td>\n",
       "      <td>3.889088</td>\n",
       "      <td>13.051403</td>\n",
       "      <td>0.492872</td>\n",
       "      <td>2.009752</td>\n",
       "      <td>18.533799</td>\n",
       "      <td>2.182669</td>\n",
       "    </tr>\n",
       "    <tr>\n",
       "      <th>4</th>\n",
       "      <td>1</td>\n",
       "      <td>5</td>\n",
       "      <td>4.047790</td>\n",
       "      <td>12.346473</td>\n",
       "      <td>0.493153</td>\n",
       "      <td>1.933759</td>\n",
       "      <td>17.716130</td>\n",
       "      <td>2.214644</td>\n",
       "    </tr>\n",
       "    <tr>\n",
       "      <th>...</th>\n",
       "      <td>...</td>\n",
       "      <td>...</td>\n",
       "      <td>...</td>\n",
       "      <td>...</td>\n",
       "      <td>...</td>\n",
       "      <td>...</td>\n",
       "      <td>...</td>\n",
       "      <td>...</td>\n",
       "    </tr>\n",
       "    <tr>\n",
       "      <th>360</th>\n",
       "      <td>12</td>\n",
       "      <td>27</td>\n",
       "      <td>5.177866</td>\n",
       "      <td>14.625754</td>\n",
       "      <td>0.488190</td>\n",
       "      <td>2.468404</td>\n",
       "      <td>21.215707</td>\n",
       "      <td>2.210944</td>\n",
       "    </tr>\n",
       "    <tr>\n",
       "      <th>361</th>\n",
       "      <td>12</td>\n",
       "      <td>28</td>\n",
       "      <td>3.723458</td>\n",
       "      <td>14.518260</td>\n",
       "      <td>0.489409</td>\n",
       "      <td>2.438996</td>\n",
       "      <td>21.033789</td>\n",
       "      <td>2.226947</td>\n",
       "    </tr>\n",
       "    <tr>\n",
       "      <th>362</th>\n",
       "      <td>12</td>\n",
       "      <td>29</td>\n",
       "      <td>3.681428</td>\n",
       "      <td>14.405951</td>\n",
       "      <td>0.489325</td>\n",
       "      <td>2.461713</td>\n",
       "      <td>20.940976</td>\n",
       "      <td>2.235410</td>\n",
       "    </tr>\n",
       "    <tr>\n",
       "      <th>363</th>\n",
       "      <td>12</td>\n",
       "      <td>30</td>\n",
       "      <td>6.510600</td>\n",
       "      <td>14.468380</td>\n",
       "      <td>0.489143</td>\n",
       "      <td>2.460472</td>\n",
       "      <td>21.011377</td>\n",
       "      <td>2.239615</td>\n",
       "    </tr>\n",
       "    <tr>\n",
       "      <th>364</th>\n",
       "      <td>12</td>\n",
       "      <td>31</td>\n",
       "      <td>7.643268</td>\n",
       "      <td>13.867955</td>\n",
       "      <td>0.489154</td>\n",
       "      <td>2.398126</td>\n",
       "      <td>20.093009</td>\n",
       "      <td>2.231511</td>\n",
       "    </tr>\n",
       "  </tbody>\n",
       "</table>\n",
       "<p>365 rows × 8 columns</p>\n",
       "</div>"
      ],
      "text/plain": [
       "     month  day  avg_trip_distance  avg_fare_amount  avg_mta_tax  \\\n",
       "0        1    1           3.581000        13.536541     0.487243   \n",
       "1        1    2           3.442048        13.502939     0.491315   \n",
       "2        1    3           9.748679        14.787712     0.489620   \n",
       "3        1    4           3.889088        13.051403     0.492872   \n",
       "4        1    5           4.047790        12.346473     0.493153   \n",
       "..     ...  ...                ...              ...          ...   \n",
       "360     12   27           5.177866        14.625754     0.488190   \n",
       "361     12   28           3.723458        14.518260     0.489409   \n",
       "362     12   29           3.681428        14.405951     0.489325   \n",
       "363     12   30           6.510600        14.468380     0.489143   \n",
       "364     12   31           7.643268        13.867955     0.489154   \n",
       "\n",
       "     avg_tip_amount  avg_total_amount  avg_congestion_surcharge  \n",
       "0          1.978367         18.813154                  2.094889  \n",
       "1          2.144961         18.955158                  2.156955  \n",
       "2          2.315952         20.451181                  2.080435  \n",
       "3          2.009752         18.533799                  2.182669  \n",
       "4          1.933759         17.716130                  2.214644  \n",
       "..              ...               ...                       ...  \n",
       "360        2.468404         21.215707                  2.210944  \n",
       "361        2.438996         21.033789                  2.226947  \n",
       "362        2.461713         20.940976                  2.235410  \n",
       "363        2.460472         21.011377                  2.239615  \n",
       "364        2.398126         20.093009                  2.231511  \n",
       "\n",
       "[365 rows x 8 columns]"
      ]
     },
     "execution_count": 12,
     "metadata": {},
     "output_type": "execute_result"
    }
   ],
   "source": [
    "%%time\n",
    "query = \"\"\"\n",
    "select\n",
    "  month,\n",
    "  day,\n",
    "  AVG(trip_distance) as avg_trip_distance,\n",
    "  AVG(fare_amount) as avg_fare_amount,\n",
    "  AVG(mta_tax) as avg_mta_tax,\n",
    "  AVG(tip_amount) as avg_tip_amount,\n",
    "  AVG(total_amount) as avg_total_amount,\n",
    "  AVG(congestion_surcharge) as avg_congestion_surcharge\n",
    "from (\n",
    "  select\n",
    "    trip_distance,\n",
    "    passenger_count,\n",
    "    mta_tax,\n",
    "    tip_amount,\n",
    "    fare_amount,\n",
    "    total_amount,\n",
    "    congestion_surcharge,\n",
    "    date_part('month', tpep_pickup_datetime) as month,\n",
    "    date_part('day', tpep_pickup_datetime) as day\n",
    "  from\n",
    "    nyc)\n",
    "  group by month, day\n",
    "\"\"\"\n",
    "nyc_subset = con.execute(query).df()\n",
    "nyc_subset"
   ]
  },
  {
   "cell_type": "code",
   "execution_count": null,
   "id": "15147a8d-55ae-4094-8054-3414682c1463",
   "metadata": {},
   "outputs": [],
   "source": []
  },
  {
   "cell_type": "code",
   "execution_count": null,
   "id": "564bce7d-a5d6-4003-82fd-935a75e751ad",
   "metadata": {},
   "outputs": [],
   "source": []
  }
 ],
 "metadata": {
  "instance_type": "ml.t3.medium",
  "kernelspec": {
   "display_name": "Python 3 (Data Science)",
   "language": "python",
   "name": "python3__SAGEMAKER_INTERNAL__arn:aws:sagemaker:us-east-1:081325390199:image/datascience-1.0"
  },
  "language_info": {
   "codemirror_mode": {
    "name": "ipython",
    "version": 3
   },
   "file_extension": ".py",
   "mimetype": "text/x-python",
   "name": "python",
   "nbconvert_exporter": "python",
   "pygments_lexer": "ipython3",
   "version": "3.7.10"
  }
 },
 "nbformat": 4,
 "nbformat_minor": 5
}
