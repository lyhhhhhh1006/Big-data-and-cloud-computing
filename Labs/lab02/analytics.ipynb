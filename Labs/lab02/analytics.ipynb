{
 "cells": [
  {
   "cell_type": "markdown",
   "id": "112adad4-cfcc-4481-abfa-947132fa06b4",
   "metadata": {},
   "source": [
    "# Analyzing a simple dataset\n",
    "\n",
    "In this notebook we will do the following:\n",
    "\n",
    "1. Read a dataset from an S3 bucket that we created as part of the lab. The dataset we would be reading is the StateNames.csv dataset that you should have in your S3 bucket (s3://lab2-your-gu-netid) at this point.\n",
    "\n",
    "2. Find out the number of occurences each _Name_ occurs. Pay attention to the _Count_ column.\n",
    "\n",
    "3. Find out the most frequently occuring name. \n",
    "\n",
    "4. Plot a timeseries chart for the most frequently occuring name.\n",
    "\n",
    "5. What insight does the timeseries chart reveal?"
   ]
  },
  {
   "cell_type": "code",
   "execution_count": 34,
   "id": "df59c7c4-5e04-40f6-b111-b3914f82f1ac",
   "metadata": {},
   "outputs": [],
   "source": [
    "import matplotlib.pyplot as plt\n",
    "import pandas as pd\n",
    "import os"
   ]
  },
  {
   "cell_type": "markdown",
   "id": "54763783-3d06-43ee-b35a-ec9274d6aa10",
   "metadata": {},
   "source": [
    "## 1. Read the data\n",
    "\n",
    "Pandas can read the data directly from S3."
   ]
  },
  {
   "cell_type": "code",
   "execution_count": 35,
   "id": "04bdc394-de23-4c2e-a785-7736fd805520",
   "metadata": {},
   "outputs": [
    {
     "name": "stdout",
     "output_type": "stream",
     "text": [
      "read the dataset from s3://lab2-aa1603/StateNames.csv into a dataframe, shape of the dataframe is (5647426, 6)\n"
     ]
    },
    {
     "data": {
      "text/html": [
       "<div>\n",
       "<style scoped>\n",
       "    .dataframe tbody tr th:only-of-type {\n",
       "        vertical-align: middle;\n",
       "    }\n",
       "\n",
       "    .dataframe tbody tr th {\n",
       "        vertical-align: top;\n",
       "    }\n",
       "\n",
       "    .dataframe thead th {\n",
       "        text-align: right;\n",
       "    }\n",
       "</style>\n",
       "<table border=\"1\" class=\"dataframe\">\n",
       "  <thead>\n",
       "    <tr style=\"text-align: right;\">\n",
       "      <th></th>\n",
       "      <th>Id</th>\n",
       "      <th>Name</th>\n",
       "      <th>Year</th>\n",
       "      <th>Gender</th>\n",
       "      <th>State</th>\n",
       "      <th>Count</th>\n",
       "    </tr>\n",
       "  </thead>\n",
       "  <tbody>\n",
       "    <tr>\n",
       "      <th>3255411</th>\n",
       "      <td>3255412</td>\n",
       "      <td>Jenna</td>\n",
       "      <td>1988</td>\n",
       "      <td>F</td>\n",
       "      <td>NE</td>\n",
       "      <td>53</td>\n",
       "    </tr>\n",
       "    <tr>\n",
       "      <th>1108547</th>\n",
       "      <td>1108548</td>\n",
       "      <td>Johnnie</td>\n",
       "      <td>1979</td>\n",
       "      <td>M</td>\n",
       "      <td>FL</td>\n",
       "      <td>42</td>\n",
       "    </tr>\n",
       "    <tr>\n",
       "      <th>1238419</th>\n",
       "      <td>1238420</td>\n",
       "      <td>Sherlin</td>\n",
       "      <td>2007</td>\n",
       "      <td>F</td>\n",
       "      <td>GA</td>\n",
       "      <td>5</td>\n",
       "    </tr>\n",
       "    <tr>\n",
       "      <th>739219</th>\n",
       "      <td>739220</td>\n",
       "      <td>Darcy</td>\n",
       "      <td>1984</td>\n",
       "      <td>F</td>\n",
       "      <td>CO</td>\n",
       "      <td>10</td>\n",
       "    </tr>\n",
       "    <tr>\n",
       "      <th>3049377</th>\n",
       "      <td>3049378</td>\n",
       "      <td>Valinda</td>\n",
       "      <td>1951</td>\n",
       "      <td>F</td>\n",
       "      <td>NC</td>\n",
       "      <td>6</td>\n",
       "    </tr>\n",
       "    <tr>\n",
       "      <th>807203</th>\n",
       "      <td>807204</td>\n",
       "      <td>Brody</td>\n",
       "      <td>2012</td>\n",
       "      <td>M</td>\n",
       "      <td>CO</td>\n",
       "      <td>85</td>\n",
       "    </tr>\n",
       "    <tr>\n",
       "      <th>1195917</th>\n",
       "      <td>1195918</td>\n",
       "      <td>Sonji</td>\n",
       "      <td>1970</td>\n",
       "      <td>F</td>\n",
       "      <td>GA</td>\n",
       "      <td>5</td>\n",
       "    </tr>\n",
       "    <tr>\n",
       "      <th>4659690</th>\n",
       "      <td>4659691</td>\n",
       "      <td>Tracee</td>\n",
       "      <td>1976</td>\n",
       "      <td>F</td>\n",
       "      <td>TN</td>\n",
       "      <td>6</td>\n",
       "    </tr>\n",
       "    <tr>\n",
       "      <th>1564608</th>\n",
       "      <td>1564609</td>\n",
       "      <td>Tina</td>\n",
       "      <td>1965</td>\n",
       "      <td>F</td>\n",
       "      <td>IL</td>\n",
       "      <td>727</td>\n",
       "    </tr>\n",
       "    <tr>\n",
       "      <th>1379859</th>\n",
       "      <td>1379860</td>\n",
       "      <td>Muriel</td>\n",
       "      <td>1913</td>\n",
       "      <td>F</td>\n",
       "      <td>IA</td>\n",
       "      <td>16</td>\n",
       "    </tr>\n",
       "  </tbody>\n",
       "</table>\n",
       "</div>"
      ],
      "text/plain": [
       "              Id     Name  Year Gender State  Count\n",
       "3255411  3255412    Jenna  1988      F    NE     53\n",
       "1108547  1108548  Johnnie  1979      M    FL     42\n",
       "1238419  1238420  Sherlin  2007      F    GA      5\n",
       "739219    739220    Darcy  1984      F    CO     10\n",
       "3049377  3049378  Valinda  1951      F    NC      6\n",
       "807203    807204    Brody  2012      M    CO     85\n",
       "1195917  1195918    Sonji  1970      F    GA      5\n",
       "4659690  4659691   Tracee  1976      F    TN      6\n",
       "1564608  1564609     Tina  1965      F    IL    727\n",
       "1379859  1379860   Muriel  1913      F    IA     16"
      ]
     },
     "metadata": {},
     "output_type": "display_data"
    }
   ],
   "source": [
    "# set the bucket name and file name in separate variables so that\n",
    "# we can construct the S3 URI without completely hardcoding it\n",
    "\n",
    "bucket_name = \"lab2-aa1603\" # REPLACE THIS with your own bucket's name\n",
    "dataset_name = \"StateNames.csv\"\n",
    "dataset_path_in_s3 = os.path.join(\"s3://\", bucket_name, dataset_name)\n",
    "\n",
    "# read the dataset into a Pandas dataframe\n",
    "df = pd.read_csv(dataset_path_in_s3)\n",
    "print(f\"read the dataset from {dataset_path_in_s3} into a dataframe, shape of the dataframe is {df.shape}\")\n",
    "\n",
    "# a random sample of the dataframe\n",
    "display(df.sample(10))"
   ]
  },
  {
   "cell_type": "markdown",
   "id": "45469e82-857c-46cd-8766-5a649a578b63",
   "metadata": {},
   "source": [
    "## 2. Number of occurences of each name over the years\n",
    "\n",
    "The _Count_ field gives a count of the number of times a name occurs in a state in an year. To count the total number of occurences over the year we need to sum up the _Count_ field for each name. We sort the output in descending order so that the most frequent name is at the top of the list. The output of the _groupby_ and _sum_ is a _Pandas Series_."
   ]
  },
  {
   "cell_type": "code",
   "execution_count": null,
   "id": "a6f3df3c-ce2f-4b1b-a903-013cc90d409b",
   "metadata": {},
   "outputs": [],
   "source": []
  },
  {
   "cell_type": "markdown",
   "id": "033161a0-a103-401e-8b2c-beb19b0e860c",
   "metadata": {},
   "source": [
    "## 3. Most common name\n",
    "\n",
    "The most common name is at the top of the series. The _index_ of the series gives the values of the column on which the groupby was done, since this series is sorted so that first value in the index array corresponds to the most frequently occuring name."
   ]
  },
  {
   "cell_type": "code",
   "execution_count": 38,
   "id": "22278791-b140-462d-b2d6-e20a3fdf3c61",
   "metadata": {},
   "outputs": [
    {
     "name": "stdout",
     "output_type": "stream",
     "text": [
      " the most frequently occuring name in the dataset is \"James\"\n"
     ]
    }
   ],
   "source": []
  },
  {
   "cell_type": "markdown",
   "id": "8576f4b1-0aa2-4db1-a60f-49cd45ebab36",
   "metadata": {},
   "source": [
    "## 4. Create a timeseries just for the most frequent name\n",
    "\n",
    "This is done by filtering the original dataframe to only include rows for which the _Name_ field matches the most frequent name and then sum'ing the count for each year across different states."
   ]
  },
  {
   "cell_type": "code",
   "execution_count": null,
   "id": "50bdbb02-a3b3-4f8d-b75c-5a53a706bc90",
   "metadata": {},
   "outputs": [],
   "source": [
    "            "
   ]
  },
  {
   "cell_type": "markdown",
   "id": "a20d5cde-e0f1-4ed4-b429-6f121ac582ec",
   "metadata": {},
   "source": [
    "Create a simple plot using matplotlib and also save the figure."
   ]
  },
  {
   "cell_type": "code",
   "execution_count": null,
   "id": "76a77b83-8883-4608-9c80-d86c28aae0f0",
   "metadata": {},
   "outputs": [],
   "source": []
  },
  {
   "cell_type": "markdown",
   "id": "bcda2552-6387-45da-8a2e-e8dbe9c32fb8",
   "metadata": {},
   "source": [
    "## 5. The Insight\n"
   ]
  },
  {
   "cell_type": "code",
   "execution_count": null,
   "id": "abd0afca-f00f-4538-9287-ebe801c2a087",
   "metadata": {},
   "outputs": [],
   "source": []
  }
 ],
 "metadata": {
  "instance_type": "ml.t3.medium",
  "kernelspec": {
   "display_name": "Python 3.7.9 64-bit (windows store)",
   "language": "python",
   "name": "python3"
  },
  "language_info": {
   "codemirror_mode": {
    "name": "ipython",
    "version": 3
   },
   "file_extension": ".py",
   "mimetype": "text/x-python",
   "name": "python",
   "nbconvert_exporter": "python",
   "pygments_lexer": "ipython3",
   "version": "3.7.9"
  },
  "vscode": {
   "interpreter": {
    "hash": "97859db8a09b5f33a50b04274e6ef8adfc234b4e2136e9d1f5d530ab024e9ea0"
   }
  }
 },
 "nbformat": 4,
 "nbformat_minor": 5
}
